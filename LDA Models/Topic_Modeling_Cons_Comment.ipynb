{
  "nbformat": 4,
  "nbformat_minor": 0,
  "metadata": {
    "colab": {
      "provenance": []
    },
    "kernelspec": {
      "name": "python3",
      "display_name": "Python 3"
    },
    "language_info": {
      "name": "python"
    }
  },
  "cells": [
    {
      "cell_type": "markdown",
      "source": [
        "# Topic Modeling (LDA)\n",
        "## Setup\n"
      ],
      "metadata": {
        "id": "oFOXHb0g9uVJ"
      }
    },
    {
      "cell_type": "code",
      "execution_count": 1,
      "metadata": {
        "colab": {
          "base_uri": "https://localhost:8080/"
        },
        "id": "unls0i3Q9iXV",
        "outputId": "37eed698-a102-4fd5-d735-ecf37757f511"
      },
      "outputs": [
        {
          "output_type": "stream",
          "name": "stdout",
          "text": [
            "Requirement already satisfied: gensim in /usr/local/lib/python3.10/dist-packages (4.3.2)\n",
            "Requirement already satisfied: numpy>=1.18.5 in /usr/local/lib/python3.10/dist-packages (from gensim) (1.25.2)\n",
            "Requirement already satisfied: scipy>=1.7.0 in /usr/local/lib/python3.10/dist-packages (from gensim) (1.11.4)\n",
            "Requirement already satisfied: smart-open>=1.8.1 in /usr/local/lib/python3.10/dist-packages (from gensim) (7.0.4)\n",
            "Requirement already satisfied: wrapt in /usr/local/lib/python3.10/dist-packages (from smart-open>=1.8.1->gensim) (1.14.1)\n"
          ]
        }
      ],
      "source": [
        "!pip install --upgrade gensim"
      ]
    },
    {
      "cell_type": "code",
      "source": [
        "!pip install nltk\n",
        "!pip install pyLDAvis"
      ],
      "metadata": {
        "colab": {
          "base_uri": "https://localhost:8080/"
        },
        "id": "Yo9GeHO6-GTr",
        "outputId": "4590fc23-d901-40bf-9c40-05718d4cfb35"
      },
      "execution_count": 2,
      "outputs": [
        {
          "output_type": "stream",
          "name": "stdout",
          "text": [
            "Requirement already satisfied: nltk in /usr/local/lib/python3.10/dist-packages (3.8.1)\n",
            "Requirement already satisfied: click in /usr/local/lib/python3.10/dist-packages (from nltk) (8.1.7)\n",
            "Requirement already satisfied: joblib in /usr/local/lib/python3.10/dist-packages (from nltk) (1.4.2)\n",
            "Requirement already satisfied: regex>=2021.8.3 in /usr/local/lib/python3.10/dist-packages (from nltk) (2024.5.15)\n",
            "Requirement already satisfied: tqdm in /usr/local/lib/python3.10/dist-packages (from nltk) (4.66.4)\n",
            "Collecting pyLDAvis\n",
            "  Downloading pyLDAvis-3.4.1-py3-none-any.whl (2.6 MB)\n",
            "\u001b[2K     \u001b[90m━━━━━━━━━━━━━━━━━━━━━━━━━━━━━━━━━━━━━━━━\u001b[0m \u001b[32m2.6/2.6 MB\u001b[0m \u001b[31m21.1 MB/s\u001b[0m eta \u001b[36m0:00:00\u001b[0m\n",
            "\u001b[?25hRequirement already satisfied: numpy>=1.24.2 in /usr/local/lib/python3.10/dist-packages (from pyLDAvis) (1.25.2)\n",
            "Requirement already satisfied: scipy in /usr/local/lib/python3.10/dist-packages (from pyLDAvis) (1.11.4)\n",
            "Requirement already satisfied: pandas>=2.0.0 in /usr/local/lib/python3.10/dist-packages (from pyLDAvis) (2.0.3)\n",
            "Requirement already satisfied: joblib>=1.2.0 in /usr/local/lib/python3.10/dist-packages (from pyLDAvis) (1.4.2)\n",
            "Requirement already satisfied: jinja2 in /usr/local/lib/python3.10/dist-packages (from pyLDAvis) (3.1.4)\n",
            "Requirement already satisfied: numexpr in /usr/local/lib/python3.10/dist-packages (from pyLDAvis) (2.10.1)\n",
            "Collecting funcy (from pyLDAvis)\n",
            "  Downloading funcy-2.0-py2.py3-none-any.whl (30 kB)\n",
            "Requirement already satisfied: scikit-learn>=1.0.0 in /usr/local/lib/python3.10/dist-packages (from pyLDAvis) (1.2.2)\n",
            "Requirement already satisfied: gensim in /usr/local/lib/python3.10/dist-packages (from pyLDAvis) (4.3.2)\n",
            "Requirement already satisfied: setuptools in /usr/local/lib/python3.10/dist-packages (from pyLDAvis) (67.7.2)\n",
            "Requirement already satisfied: python-dateutil>=2.8.2 in /usr/local/lib/python3.10/dist-packages (from pandas>=2.0.0->pyLDAvis) (2.8.2)\n",
            "Requirement already satisfied: pytz>=2020.1 in /usr/local/lib/python3.10/dist-packages (from pandas>=2.0.0->pyLDAvis) (2023.4)\n",
            "Requirement already satisfied: tzdata>=2022.1 in /usr/local/lib/python3.10/dist-packages (from pandas>=2.0.0->pyLDAvis) (2024.1)\n",
            "Requirement already satisfied: threadpoolctl>=2.0.0 in /usr/local/lib/python3.10/dist-packages (from scikit-learn>=1.0.0->pyLDAvis) (3.5.0)\n",
            "Requirement already satisfied: smart-open>=1.8.1 in /usr/local/lib/python3.10/dist-packages (from gensim->pyLDAvis) (7.0.4)\n",
            "Requirement already satisfied: MarkupSafe>=2.0 in /usr/local/lib/python3.10/dist-packages (from jinja2->pyLDAvis) (2.1.5)\n",
            "Requirement already satisfied: six>=1.5 in /usr/local/lib/python3.10/dist-packages (from python-dateutil>=2.8.2->pandas>=2.0.0->pyLDAvis) (1.16.0)\n",
            "Requirement already satisfied: wrapt in /usr/local/lib/python3.10/dist-packages (from smart-open>=1.8.1->gensim->pyLDAvis) (1.14.1)\n",
            "Installing collected packages: funcy, pyLDAvis\n",
            "Successfully installed funcy-2.0 pyLDAvis-3.4.1\n"
          ]
        }
      ]
    },
    {
      "cell_type": "markdown",
      "source": [
        "## import libraries"
      ],
      "metadata": {
        "id": "sw8zm23D-Yuj"
      }
    },
    {
      "cell_type": "code",
      "source": [
        "import nltk\n",
        "nltk.download(\"stopwords\")"
      ],
      "metadata": {
        "id": "_Z4hMas0_P79",
        "colab": {
          "base_uri": "https://localhost:8080/"
        },
        "outputId": "b1b6c1b7-7b4c-4024-9624-833f31692dbb"
      },
      "execution_count": 3,
      "outputs": [
        {
          "output_type": "stream",
          "name": "stderr",
          "text": [
            "[nltk_data] Downloading package stopwords to /root/nltk_data...\n",
            "[nltk_data]   Unzipping corpora/stopwords.zip.\n"
          ]
        },
        {
          "output_type": "execute_result",
          "data": {
            "text/plain": [
              "True"
            ]
          },
          "metadata": {},
          "execution_count": 3
        }
      ]
    },
    {
      "cell_type": "code",
      "source": [
        "import numpy as np\n",
        "import json\n",
        "import glob\n",
        "\n",
        "#gensim\n",
        "import gensim\n",
        "import gensim.corpora as copora\n",
        "from gensim.utils import simple_preprocess\n",
        "from gensim.models import CoherenceModel\n",
        "\n",
        "#spacy\n",
        "import spacy\n",
        "from nltk.corpus import stopwords\n",
        "\n",
        "#vis\n",
        "import pyLDAvis\n",
        "import pyLDAvis.gensim\n",
        "\n",
        "import warnings\n",
        "warnings.filterwarnings(\"ignore\", category=DeprecationWarning)"
      ],
      "metadata": {
        "id": "m82r5Dwe-d-t"
      },
      "execution_count": 4,
      "outputs": []
    },
    {
      "cell_type": "markdown",
      "source": [
        "## Data Prep"
      ],
      "metadata": {
        "id": "PnBvfvKNBWhG"
      }
    },
    {
      "cell_type": "code",
      "source": [
        "def laod_data(file):\n",
        "  with open (file, \"r\", encoding=\"utf-8\") as f:\n",
        "    data = json.load(f)\n",
        "  return (data)\n",
        "\n",
        "def write_data(file, data):\n",
        "  with open (file, \"w\", encoding=\"utf-8\") as f:\n",
        "    json.dump(data, f, indent=4)"
      ],
      "metadata": {
        "id": "z5sfI_fTBYmb"
      },
      "execution_count": 5,
      "outputs": []
    },
    {
      "cell_type": "code",
      "source": [
        "stopwords = stopwords.words(\"english\")\n",
        "print(stopwords)"
      ],
      "metadata": {
        "colab": {
          "base_uri": "https://localhost:8080/"
        },
        "id": "_BElnCEgCJEA",
        "outputId": "485481ac-0553-4175-91de-3897847dbbc2"
      },
      "execution_count": 6,
      "outputs": [
        {
          "output_type": "stream",
          "name": "stdout",
          "text": [
            "['i', 'me', 'my', 'myself', 'we', 'our', 'ours', 'ourselves', 'you', \"you're\", \"you've\", \"you'll\", \"you'd\", 'your', 'yours', 'yourself', 'yourselves', 'he', 'him', 'his', 'himself', 'she', \"she's\", 'her', 'hers', 'herself', 'it', \"it's\", 'its', 'itself', 'they', 'them', 'their', 'theirs', 'themselves', 'what', 'which', 'who', 'whom', 'this', 'that', \"that'll\", 'these', 'those', 'am', 'is', 'are', 'was', 'were', 'be', 'been', 'being', 'have', 'has', 'had', 'having', 'do', 'does', 'did', 'doing', 'a', 'an', 'the', 'and', 'but', 'if', 'or', 'because', 'as', 'until', 'while', 'of', 'at', 'by', 'for', 'with', 'about', 'against', 'between', 'into', 'through', 'during', 'before', 'after', 'above', 'below', 'to', 'from', 'up', 'down', 'in', 'out', 'on', 'off', 'over', 'under', 'again', 'further', 'then', 'once', 'here', 'there', 'when', 'where', 'why', 'how', 'all', 'any', 'both', 'each', 'few', 'more', 'most', 'other', 'some', 'such', 'no', 'nor', 'not', 'only', 'own', 'same', 'so', 'than', 'too', 'very', 's', 't', 'can', 'will', 'just', 'don', \"don't\", 'should', \"should've\", 'now', 'd', 'll', 'm', 'o', 're', 've', 'y', 'ain', 'aren', \"aren't\", 'couldn', \"couldn't\", 'didn', \"didn't\", 'doesn', \"doesn't\", 'hadn', \"hadn't\", 'hasn', \"hasn't\", 'haven', \"haven't\", 'isn', \"isn't\", 'ma', 'mightn', \"mightn't\", 'mustn', \"mustn't\", 'needn', \"needn't\", 'shan', \"shan't\", 'shouldn', \"shouldn't\", 'wasn', \"wasn't\", 'weren', \"weren't\", 'won', \"won't\", 'wouldn', \"wouldn't\"]\n"
          ]
        }
      ]
    },
    {
      "cell_type": "code",
      "source": [
        "data = laod_data(\"/content/Conscientiousness_answers_and_comments.json\")[\"comments\"]\n",
        "\n",
        "print(data[0][0:90])"
      ],
      "metadata": {
        "colab": {
          "base_uri": "https://localhost:8080/"
        },
        "id": "X-9h7Nl-2Kfn",
        "outputId": "1944be28-f9de-43b4-d2a9-ff42acfcbf5e"
      },
      "execution_count": 38,
      "outputs": [
        {
          "output_type": "stream",
          "name": "stdout",
          "text": [
            "wouldn't setEnabled(true/false) be more appropriate?\n"
          ]
        }
      ]
    },
    {
      "cell_type": "code",
      "source": [
        "def lemmatization(texts, allowed_postags=[\"NOUN\", \"ADJ\", \"VERB\", \"ADV\"]):\n",
        "  nlp = spacy.load(\"en_core_web_sm\", disable=[\"parser\", \"ner\"])\n",
        "  texts_out = []\n",
        "  for text in texts:\n",
        "    doc = nlp(text)\n",
        "    new_text = []\n",
        "    for token in doc:\n",
        "      if token.pos_ in allowed_postags:\n",
        "        new_text.append(token.lemma_)\n",
        "    final = \" \".join(new_text)\n",
        "    texts_out.append(final)\n",
        "  return(texts_out)\n",
        "\n",
        "lemmatized_text = lemmatization(data)\n",
        "print(lemmatized_text[0][0:90])"
      ],
      "metadata": {
        "colab": {
          "base_uri": "https://localhost:8080/"
        },
        "id": "mb98sB2K2f6D",
        "outputId": "87abe5ea-291a-40d4-b803-0b9bc0be975c"
      },
      "execution_count": 39,
      "outputs": [
        {
          "output_type": "stream",
          "name": "stdout",
          "text": [
            "setenabled(true false more appropriate\n"
          ]
        }
      ]
    },
    {
      "cell_type": "code",
      "source": [
        "def gen_words(texts):\n",
        "  final = []\n",
        "  for text in texts:\n",
        "    new = gensim.utils.simple_preprocess(text, deacc=True)\n",
        "    final.append(new)\n",
        "  return (final)\n",
        "\n",
        "data_words = gen_words(lemmatized_text)\n",
        "\n",
        "print(data_words[0][0:30])"
      ],
      "metadata": {
        "colab": {
          "base_uri": "https://localhost:8080/"
        },
        "id": "EC3E8hP25MWn",
        "outputId": "3c172e1e-aaca-4ff8-b03a-daaf6f192f4c"
      },
      "execution_count": 40,
      "outputs": [
        {
          "output_type": "stream",
          "name": "stdout",
          "text": [
            "['setenabled', 'true', 'false', 'more', 'appropriate']\n"
          ]
        }
      ]
    },
    {
      "cell_type": "code",
      "source": [
        "id2word = gensim.corpora.Dictionary(data_words)\n",
        "\n",
        "corpus = []\n",
        "\n",
        "for text in data_words:\n",
        "  new = id2word.doc2bow(text) # bow -> bag of words\n",
        "  corpus.append(new)\n",
        "\n",
        "print(corpus[0][0:20]) #each tuple contains index of the word along with the frequency of that word."
      ],
      "metadata": {
        "colab": {
          "base_uri": "https://localhost:8080/"
        },
        "id": "RO0VI9wB_Cju",
        "outputId": "c929eb69-06fe-4505-c716-4848909bfc8b"
      },
      "execution_count": 41,
      "outputs": [
        {
          "output_type": "stream",
          "name": "stdout",
          "text": [
            "[(0, 1), (1, 1), (2, 1), (3, 1), (4, 1)]\n"
          ]
        }
      ]
    },
    {
      "cell_type": "code",
      "source": [
        "lda = gensim.models.ldamodel.LdaModel(corpus=corpus,\n",
        "                                    id2word=id2word,\n",
        "                                    num_topics=10,\n",
        "                                    random_state=100,\n",
        "                                    update_every=1,\n",
        "                                    chunksize=100,\n",
        "                                    passes=10,\n",
        "                                    alpha=\"auto\")"
      ],
      "metadata": {
        "id": "6KSIixmGA6gW"
      },
      "execution_count": 42,
      "outputs": []
    },
    {
      "cell_type": "markdown",
      "source": [
        "## Visualization of Data"
      ],
      "metadata": {
        "id": "evp4uPlUIGy3"
      }
    },
    {
      "cell_type": "code",
      "source": [
        "pyLDAvis.enable_notebook()\n",
        "vis = pyLDAvis.gensim.prepare(lda, corpus, id2word, mds=\"mmds\", R=9)\n",
        "vis"
      ],
      "metadata": {
        "colab": {
          "base_uri": "https://localhost:8080/",
          "height": 916
        },
        "id": "UOHcDtbKIM8k",
        "outputId": "d578667f-00fe-453b-a9c7-1427f10fea46"
      },
      "execution_count": 43,
      "outputs": [
        {
          "output_type": "stream",
          "name": "stderr",
          "text": [
            "/usr/local/lib/python3.10/dist-packages/sklearn/manifold/_mds.py:299: FutureWarning: The default value of `normalized_stress` will change to `'auto'` in version 1.4. To suppress this warning, manually set the value of `normalized_stress`.\n",
            "  warnings.warn(\n"
          ]
        },
        {
          "output_type": "execute_result",
          "data": {
            "text/plain": [
              "PreparedData(topic_coordinates=              x         y  topics  cluster       Freq\n",
              "topic                                                \n",
              "6     -0.399910 -0.206037       1        1  24.846719\n",
              "5     -0.094489  0.370422       2        1  17.056656\n",
              "7     -0.314595  0.198814       3        1  10.588539\n",
              "8      0.204819 -0.326347       4        1   9.463929\n",
              "4      0.339825 -0.090473       5        1   8.983925\n",
              "1      0.306007  0.144167       6        1   8.700418\n",
              "2      0.150663  0.300177       7        1   6.815092\n",
              "9     -0.059551 -0.314276       8        1   5.642727\n",
              "0     -0.164763 -0.013090       9        1   4.464392\n",
              "3      0.031994 -0.063357      10        1   3.437606, topic_info=           Term        Freq       Total Category  logprob  loglift\n",
              "55          use  441.000000  441.000000  Default   9.0000   9.0000\n",
              "38       answer  236.000000  236.000000  Default   8.0000   8.0000\n",
              "188        code  151.000000  151.000000  Default   7.0000   7.0000\n",
              "181        just  203.000000  203.000000  Default   6.0000   6.0000\n",
              "27     question  139.000000  139.000000  Default   5.0000   5.0000\n",
              "..          ...         ...         ...      ...      ...      ...\n",
              "445        year   17.643591   18.468875  Topic10  -3.5939   3.3247\n",
              "775       clear   17.091804   17.917260  Topic10  -3.6256   3.3232\n",
              "226  difference   16.186107   17.011428  Topic10  -3.6801   3.3207\n",
              "481      reason   15.673793   16.499072  Topic10  -3.7122   3.3191\n",
              "744       local   13.349551   14.175116  Topic10  -3.8727   3.3104\n",
              "\n",
              "[110 rows x 6 columns], token_table=      Topic      Freq    Term\n",
              "term                         \n",
              "127       2  0.075923     add\n",
              "127       4  0.919510     add\n",
              "136       2  0.995391    also\n",
              "38        4  0.995126  answer\n",
              "1254      3  0.958825     api\n",
              "...     ...       ...     ...\n",
              "69        2  0.007732    want\n",
              "7         1  0.984790    work\n",
              "7         3  0.007942    work\n",
              "430       5  0.967349   write\n",
              "445      10  0.974613    year\n",
              "\n",
              "[114 rows x 3 columns], R=9, lambda_step=0.01, plot_opts={'xlab': 'PC1', 'ylab': 'PC2'}, topic_order=[7, 6, 8, 9, 5, 2, 3, 10, 1, 4])"
            ],
            "text/html": [
              "\n",
              "<link rel=\"stylesheet\" type=\"text/css\" href=\"https://cdn.jsdelivr.net/gh/bmabey/pyLDAvis@3.4.0/pyLDAvis/js/ldavis.v1.0.0.css\">\n",
              "\n",
              "\n",
              "<div id=\"ldavis_el2081400519834981769554179258\" style=\"background-color:white;\"></div>\n",
              "<script type=\"text/javascript\">\n",
              "\n",
              "var ldavis_el2081400519834981769554179258_data = {\"mdsDat\": {\"x\": [-0.399909993488593, -0.0944888007615572, -0.31459501745781543, 0.20481853888392465, 0.3398252994678179, 0.3060070621297404, 0.1506631320283668, -0.05955133389907339, -0.16476283367579125, 0.031993946772980716], \"y\": [-0.2060371641829625, 0.37042211275238546, 0.19881379989844453, -0.326347259742874, -0.09047274542317701, 0.1441668852026933, 0.30017722766563293, -0.3142755227687234, -0.013090020527644014, -0.06335731287377544], \"topics\": [1, 2, 3, 4, 5, 6, 7, 8, 9, 10], \"cluster\": [1, 1, 1, 1, 1, 1, 1, 1, 1, 1], \"Freq\": [24.846718625766574, 17.05665550307145, 10.588538858475545, 9.463928945483701, 8.983924564259702, 8.700418103651485, 6.8150915846103235, 5.642726574765204, 4.46439167135034, 3.4376055685656786]}, \"tinfo\": {\"Term\": [\"use\", \"answer\", \"code\", \"just\", \"question\", \"add\", \"think\", \"other\", \"see\", \"use\", \"just\", \"see\", \"make\", \"need\", \"return\", \"only\", \"want\", \"work\", \"example\", \"more\", \"then\", \"get\", \"look\", \"also\", \"change\", \"value\", \"time\", \"run\", \"user\", \"so\", \"try\", \"edit\", \"true\", \"file\", \"problem\", \"sure\", \"component\", \"implement\", \"api\", \"point\", \"create\", \"answer\", \"thank\", \"update\", \"find\", \"help\", \"name\", \"check\", \"part\", \"error\", \"add\", \"post\", \"version\", \"string\", \"comment\", \"character\", \"still\", \"understand\", \"multiple\", \"write\", \"new\", \"question\", \"code\", \"false\", \"provide\", \"show\", \"resource\", \"much\", \"few\", \"even\", \"column\", \"think\", \"function\", \"now\", \"as\", \"status\", \"correct\", \"too\", \"solution\", \"issue\", \"other\", \"ask\", \"this\", \"give\", \"read\", \"css\", \"library\", \"most\", \"link\", \"input\", \"question\", \"know\", \"set\", \"consumer\", \"service\", \"mechanism\", \"project\", \"field\", \"partition\", \"exactly\", \"number\", \"rather\", \"maybe\", \"app\", \"simple\", \"year\", \"clear\", \"difference\", \"reason\", \"local\"], \"Freq\": [441.0, 236.0, 151.0, 203.0, 139.0, 118.0, 85.0, 82.0, 149.0, 441.1497757046797, 202.86834334467417, 148.4794403237445, 129.50278822564164, 120.79481701974983, 86.42643191175603, 74.4229081750997, 127.96498352107245, 124.42151977138826, 110.92569888915104, 104.91186676073049, 99.66289269320129, 85.49908216849242, 81.41667311639208, 78.57604500891519, 77.66238586058579, 77.34886676240772, 68.28371106144893, 54.8346260966003, 50.45303967014176, 59.6141034249332, 87.44065006652669, 56.553024864731356, 53.404230910488806, 51.99535034598769, 50.52083393094728, 40.51078128108253, 32.699293974421835, 29.73637621264668, 29.442931381360722, 38.82952261472777, 46.60577658503649, 235.352740671107, 66.64708122503687, 63.064034967262955, 54.13145036734019, 47.05482590018884, 42.70865200795374, 41.49318516272063, 38.70519214587794, 32.719757987816244, 109.01351613784594, 61.99018694582184, 54.67068078704157, 51.4549263511629, 45.90071491240044, 42.941138412290265, 41.83945332515879, 34.20900784630127, 34.16151299059667, 31.245545034246316, 51.116067441173655, 94.8324407372337, 150.81854925787124, 44.62243756531837, 36.11093128706151, 33.02205541367061, 31.6664348743296, 28.515978803921374, 27.746347359573797, 26.601338113097412, 25.83386684663479, 84.4003345016061, 53.19668258442527, 46.15989218706778, 42.63967693512867, 42.65961694571821, 34.32163539857772, 31.05122008676365, 30.218808774716226, 30.04771902851922, 77.47210269767456, 52.73513578083312, 40.45555170136995, 35.30052001953151, 33.734185371860946, 26.421577061835812, 26.16075544142772, 25.77718534739659, 23.709204097090893, 20.97493706024076, 42.31153640710499, 46.33805953243649, 33.681024638599986, 22.167426545954438, 20.566479341454265, 19.51194118716478, 18.691078677763944, 17.495709815659527, 15.970777598682593, 15.908993784254944, 20.589433647704006, 31.55251092460235, 22.01656449424229, 19.25096010032683, 18.274625917737215, 17.643591382675524, 17.091803595472545, 16.186107009414552, 15.673793173214536, 13.349550633130338], \"Total\": [441.0, 236.0, 151.0, 203.0, 139.0, 118.0, 85.0, 82.0, 149.0, 441.94416305533764, 203.67146687045482, 149.27383096203323, 130.2972045686014, 121.58920428508003, 87.22078845945934, 75.21725362866461, 129.33759035887024, 125.91520447631913, 112.75767707988955, 114.13578304566782, 100.45272484133973, 86.28884390220085, 82.20643642216011, 79.36578702029539, 78.45219759143289, 78.13862661094021, 69.07348245667214, 55.62442825905997, 51.242791960190395, 93.87774366630458, 88.24768870161803, 57.35548215323465, 54.206934998593454, 52.79769743352948, 51.32504132900749, 41.31315709633988, 33.50163501407056, 30.538827585240664, 30.24534760618916, 46.401083185075684, 89.12274588340314, 236.150992582651, 67.44534148470849, 63.86225244458486, 54.92974302606961, 47.85308410213114, 43.506926321070836, 42.29139708245204, 39.50352954276503, 33.517997016292945, 118.54140472320486, 62.791023159684094, 55.47154227555494, 52.25575987997946, 46.70154010420221, 43.74204292764418, 42.640326999134686, 35.009838829690686, 34.962502839037576, 32.04632886182549, 59.59225670338555, 139.17611801844313, 151.61855212012043, 45.42250197007529, 36.91090695539485, 33.821919664809265, 32.46658631752694, 29.315872154569128, 28.546565152790837, 27.401357248708205, 26.633848422007663, 85.21290224336263, 54.009225623618484, 46.97240470841189, 43.45223130895141, 43.473030676605234, 35.134213119908715, 31.86373373827968, 31.03127158581461, 30.86022606463775, 82.3586467598281, 53.54850471925101, 41.269390907121284, 36.11391812961634, 34.54765214751706, 27.235007297022573, 26.974279834760008, 26.59058494148101, 24.522580842831776, 21.788314300216093, 139.17611801844313, 47.15572048302237, 34.4986726209551, 22.98511698209168, 21.384287619005764, 20.329706681184554, 19.50865084391721, 18.3132501846486, 16.788389231650388, 16.726638133060984, 23.5979223720799, 32.37814708682929, 22.841936704162737, 20.07628117855475, 19.100085524519262, 18.46887513870478, 17.9172598858222, 17.01142844637536, 16.49907229450677, 14.175116272786878], \"Category\": [\"Default\", \"Default\", \"Default\", \"Default\", \"Default\", \"Default\", \"Default\", \"Default\", \"Default\", \"Topic1\", \"Topic1\", \"Topic1\", \"Topic1\", \"Topic1\", \"Topic1\", \"Topic1\", \"Topic1\", \"Topic1\", \"Topic1\", \"Topic1\", \"Topic2\", \"Topic2\", \"Topic2\", \"Topic2\", \"Topic2\", \"Topic2\", \"Topic2\", \"Topic2\", \"Topic2\", \"Topic2\", \"Topic3\", \"Topic3\", \"Topic3\", \"Topic3\", \"Topic3\", \"Topic3\", \"Topic3\", \"Topic3\", \"Topic3\", \"Topic3\", \"Topic3\", \"Topic4\", \"Topic4\", \"Topic4\", \"Topic4\", \"Topic4\", \"Topic4\", \"Topic4\", \"Topic4\", \"Topic4\", \"Topic4\", \"Topic5\", \"Topic5\", \"Topic5\", \"Topic5\", \"Topic5\", \"Topic5\", \"Topic5\", \"Topic5\", \"Topic5\", \"Topic5\", \"Topic5\", \"Topic6\", \"Topic6\", \"Topic6\", \"Topic6\", \"Topic6\", \"Topic6\", \"Topic6\", \"Topic6\", \"Topic6\", \"Topic7\", \"Topic7\", \"Topic7\", \"Topic7\", \"Topic7\", \"Topic7\", \"Topic7\", \"Topic7\", \"Topic7\", \"Topic7\", \"Topic8\", \"Topic8\", \"Topic8\", \"Topic8\", \"Topic8\", \"Topic8\", \"Topic8\", \"Topic8\", \"Topic8\", \"Topic8\", \"Topic9\", \"Topic9\", \"Topic9\", \"Topic9\", \"Topic9\", \"Topic9\", \"Topic9\", \"Topic9\", \"Topic9\", \"Topic9\", \"Topic10\", \"Topic10\", \"Topic10\", \"Topic10\", \"Topic10\", \"Topic10\", \"Topic10\", \"Topic10\", \"Topic10\"], \"logprob\": [9.0, 8.0, 7.0, 6.0, 5.0, 4.0, 3.0, 2.0, 1.0, -2.3528, -3.1296, -3.4417, -3.5785, -3.6481, -3.9829, -4.1324, -3.5904, -3.6185, -3.7333, -3.7891, -3.4642, -3.6175, -3.6664, -3.7019, -3.7136, -3.7177, -3.8423, -4.0617, -4.1449, -3.9781, -3.1183, -3.554, -3.6113, -3.6381, -3.6668, -3.8877, -4.1019, -4.1969, -4.2068, -3.93, -3.7475, -2.0159, -3.2775, -3.3328, -3.4855, -3.6256, -3.7225, -3.7514, -3.821, -3.989, -2.7855, -3.2979, -3.4236, -3.4842, -3.5984, -3.6651, -3.691, -3.8924, -3.8938, -3.983, -3.4908, -2.8728, -2.3767, -3.5946, -3.8062, -3.8956, -3.9376, -4.0424, -4.0697, -4.1119, -4.1411, -2.713, -3.1746, -3.3165, -3.3958, -3.3953, -3.6128, -3.713, -3.7401, -3.7458, -2.7987, -2.9945, -3.2596, -3.3959, -3.4413, -3.6856, -3.6956, -3.7103, -3.794, -3.9165, -3.2148, -2.8896, -3.2086, -3.627, -3.7019, -3.7546, -3.7975, -3.8636, -3.9548, -3.9587, -3.7008, -3.0126, -3.3724, -3.5067, -3.5587, -3.5939, -3.6256, -3.6801, -3.7122, -3.8727], \"loglift\": [9.0, 8.0, 7.0, 6.0, 5.0, 4.0, 3.0, 2.0, 1.0, 1.3906, 1.3885, 1.3871, 1.3863, 1.3859, 1.3833, 1.3818, 1.3818, 1.3805, 1.3761, 1.3082, 1.7607, 1.7594, 1.759, 1.7586, 1.7585, 1.7585, 1.7571, 1.7543, 1.7531, 1.3145, 2.2362, 2.2313, 2.2305, 2.2301, 2.2296, 2.2258, 2.2212, 2.2188, 2.2185, 2.0673, 1.5971, 2.3543, 2.3458, 2.3451, 2.343, 2.3409, 2.3392, 2.3386, 2.3373, 2.3336, 2.2739, 2.3969, 2.3952, 2.3943, 2.3924, 2.3913, 2.3908, 2.3866, 2.3866, 2.3844, 2.2563, 2.0261, 2.4365, 2.424, 2.4199, 2.4179, 2.4168, 2.4141, 2.4134, 2.4122, 2.4113, 2.6764, 2.6709, 2.6686, 2.6672, 2.6671, 2.6626, 2.6602, 2.6595, 2.6593, 2.6249, 2.8595, 2.8549, 2.852, 2.851, 2.8445, 2.8442, 2.8437, 2.8411, 2.8368, 1.6841, 3.0915, 3.0851, 3.0728, 3.07, 3.068, 3.0662, 3.0634, 3.0591, 3.0589, 2.9727, 3.3446, 3.3336, 3.3284, 3.3262, 3.3247, 3.3232, 3.3207, 3.3191, 3.3104]}, \"token.table\": {\"Topic\": [2, 4, 2, 4, 3, 10, 7, 8, 2, 5, 4, 10, 6, 6, 5, 3, 9, 7, 2, 3, 8, 10, 3, 4, 6, 9, 1, 2, 6, 6, 9, 3, 4, 7, 2, 8, 4, 3, 8, 7, 1, 9, 8, 8, 10, 2, 1, 10, 9, 1, 5, 8, 6, 5, 4, 1, 2, 5, 7, 6, 9, 1, 5, 7, 4, 9, 3, 10, 5, 3, 9, 6, 2, 5, 8, 10, 8, 10, 6, 1, 2, 1, 9, 9, 6, 10, 2, 5, 6, 7, 7, 5, 5, 3, 4, 2, 7, 8, 2, 7, 3, 3, 5, 4, 1, 2, 2, 5, 1, 2, 1, 3, 5, 10], \"Freq\": [0.07592283912119206, 0.9195099404677706, 0.9953911246391112, 0.9951260311461609, 0.9588251514776996, 0.9463904112030259, 0.9895924491026483, 0.9897568620799636, 0.9942360111594596, 0.9830359334411604, 0.9694643078370215, 0.9488057944313225, 0.9959203401465648, 0.9762013956089083, 0.9849782233597242, 0.9850265512754863, 0.957141093392772, 0.9677177025129954, 0.47126016578245306, 0.5273625664708403, 0.9546536821689199, 0.940544178899282, 0.9938021242279, 0.9845457049226077, 0.9853526507805694, 0.956558028739514, 0.9844119076819557, 0.008868575744882484, 0.9906983994330908, 0.980853558042257, 0.928289617003679, 0.9848914351893139, 0.9830739600287525, 0.9813138290363277, 0.9850636091073185, 0.9691554340457222, 0.9821728501278949, 0.982355983256506, 0.9638193992727434, 0.9721250886874264, 0.9967031863580483, 0.9754914044110837, 0.9638811549102224, 0.9786898105798464, 0.9171000611089981, 0.9853243070169759, 0.997719025748976, 0.9631407478679642, 0.9837820246816594, 0.9199568899263395, 0.0700919535181973, 0.9777896972638724, 0.9892252172166778, 0.9724704251446528, 0.9883483765934225, 0.9951541398058781, 0.13424562925715658, 0.8558158865143731, 0.9792983834988174, 0.08475322396883204, 0.8899088516727364, 0.9838168296508938, 0.048568063674779456, 0.9349352257395045, 0.9872535556039385, 0.9530396144161303, 0.8404976203776177, 0.15085854724726472, 0.9874022890553569, 0.9936670030731415, 0.9739269082220616, 0.9753214691664001, 0.007185140771547339, 0.6825883732969972, 0.30177591240498824, 0.9883209163941593, 0.9841479199460904, 0.9697514935628876, 0.9856287226207378, 0.9860034691153157, 0.9887742080484528, 0.9914664817414834, 0.9820294402202008, 0.9855451649855016, 0.9756986098673622, 0.9424041571380896, 0.6391291232272738, 0.28760810545227317, 0.07456506437651528, 0.9667666991034284, 0.9891189855125562, 0.9849830654641162, 0.9759689671939767, 0.9924199185356468, 0.9933970015585218, 0.9954931551926064, 0.9857662136668146, 0.9692413462079412, 0.9844588340055751, 0.9728928899113279, 0.9777346754870982, 0.9858615141090358, 0.971155570449691, 0.9864982456524993, 0.9978636146050436, 0.975746989719922, 0.9854281210161328, 0.9914993840767479, 0.989658146907184, 0.007731704272712375, 0.9847897282597089, 0.007941852647255717, 0.9673494937177686, 0.9746126856571697], \"Term\": [\"add\", \"add\", \"also\", \"answer\", \"api\", \"app\", \"as\", \"ask\", \"change\", \"character\", \"check\", \"clear\", \"code\", \"column\", \"comment\", \"component\", \"consumer\", \"correct\", \"create\", \"create\", \"css\", \"difference\", \"edit\", \"error\", \"even\", \"exactly\", \"example\", \"example\", \"false\", \"few\", \"field\", \"file\", \"find\", \"function\", \"get\", \"give\", \"help\", \"implement\", \"input\", \"issue\", \"just\", \"know\", \"library\", \"link\", \"local\", \"look\", \"make\", \"maybe\", \"mechanism\", \"more\", \"more\", \"most\", \"much\", \"multiple\", \"name\", \"need\", \"new\", \"new\", \"now\", \"number\", \"number\", \"only\", \"other\", \"other\", \"part\", \"partition\", \"point\", \"point\", \"post\", \"problem\", \"project\", \"provide\", \"question\", \"question\", \"question\", \"rather\", \"read\", \"reason\", \"resource\", \"return\", \"run\", \"see\", \"service\", \"set\", \"show\", \"simple\", \"so\", \"so\", \"so\", \"solution\", \"status\", \"still\", \"string\", \"sure\", \"thank\", \"then\", \"think\", \"this\", \"time\", \"too\", \"true\", \"try\", \"understand\", \"update\", \"use\", \"user\", \"value\", \"version\", \"want\", \"want\", \"work\", \"work\", \"write\", \"year\"]}, \"R\": 9, \"lambda.step\": 0.01, \"plot.opts\": {\"xlab\": \"PC1\", \"ylab\": \"PC2\"}, \"topic.order\": [7, 6, 8, 9, 5, 2, 3, 10, 1, 4]};\n",
              "\n",
              "function LDAvis_load_lib(url, callback){\n",
              "  var s = document.createElement('script');\n",
              "  s.src = url;\n",
              "  s.async = true;\n",
              "  s.onreadystatechange = s.onload = callback;\n",
              "  s.onerror = function(){console.warn(\"failed to load library \" + url);};\n",
              "  document.getElementsByTagName(\"head\")[0].appendChild(s);\n",
              "}\n",
              "\n",
              "if(typeof(LDAvis) !== \"undefined\"){\n",
              "   // already loaded: just create the visualization\n",
              "   !function(LDAvis){\n",
              "       new LDAvis(\"#\" + \"ldavis_el2081400519834981769554179258\", ldavis_el2081400519834981769554179258_data);\n",
              "   }(LDAvis);\n",
              "}else if(typeof define === \"function\" && define.amd){\n",
              "   // require.js is available: use it to load d3/LDAvis\n",
              "   require.config({paths: {d3: \"https://d3js.org/d3.v5\"}});\n",
              "   require([\"d3\"], function(d3){\n",
              "      window.d3 = d3;\n",
              "      LDAvis_load_lib(\"https://cdn.jsdelivr.net/gh/bmabey/pyLDAvis@3.4.0/pyLDAvis/js/ldavis.v3.0.0.js\", function(){\n",
              "        new LDAvis(\"#\" + \"ldavis_el2081400519834981769554179258\", ldavis_el2081400519834981769554179258_data);\n",
              "      });\n",
              "    });\n",
              "}else{\n",
              "    // require.js not available: dynamically load d3 & LDAvis\n",
              "    LDAvis_load_lib(\"https://d3js.org/d3.v5.js\", function(){\n",
              "         LDAvis_load_lib(\"https://cdn.jsdelivr.net/gh/bmabey/pyLDAvis@3.4.0/pyLDAvis/js/ldavis.v3.0.0.js\", function(){\n",
              "                 new LDAvis(\"#\" + \"ldavis_el2081400519834981769554179258\", ldavis_el2081400519834981769554179258_data);\n",
              "            })\n",
              "         });\n",
              "}\n",
              "</script>"
            ]
          },
          "metadata": {},
          "execution_count": 43
        }
      ]
    },
    {
      "cell_type": "code",
      "source": [
        "print('\\nPerplexity: ', lda.log_perplexity(corpus,total_docs=10000))  # a measure of how good the model is. lower the better.\n",
        "\n",
        "# Compute Coherence Score\n",
        "coherence_model_lda = CoherenceModel(model=lda, texts=data_words, dictionary=id2word, coherence='c_v')\n",
        "coherence_lda = coherence_model_lda.get_coherence()\n",
        "print('\\nCoherence Score: ', coherence_lda)"
      ],
      "metadata": {
        "colab": {
          "base_uri": "https://localhost:8080/"
        },
        "id": "Xj0X43-NwLD7",
        "outputId": "5ad0d4d5-61d2-4ddb-da24-483246b3ce42"
      },
      "execution_count": 44,
      "outputs": [
        {
          "output_type": "stream",
          "name": "stdout",
          "text": [
            "\n",
            "Perplexity:  -7.7127234773170095\n",
            "\n",
            "Coherence Score:  0.42580761670558953\n"
          ]
        }
      ]
    }
  ]
}