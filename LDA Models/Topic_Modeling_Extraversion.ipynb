{
  "nbformat": 4,
  "nbformat_minor": 0,
  "metadata": {
    "colab": {
      "provenance": []
    },
    "kernelspec": {
      "name": "python3",
      "display_name": "Python 3"
    },
    "language_info": {
      "name": "python"
    }
  },
  "cells": [
    {
      "cell_type": "markdown",
      "source": [
        "# Topic Modeling (LDA)\n",
        "## Setup\n"
      ],
      "metadata": {
        "id": "oFOXHb0g9uVJ"
      }
    },
    {
      "cell_type": "code",
      "execution_count": 1,
      "metadata": {
        "colab": {
          "base_uri": "https://localhost:8080/"
        },
        "id": "unls0i3Q9iXV",
        "outputId": "37eed698-a102-4fd5-d735-ecf37757f511"
      },
      "outputs": [
        {
          "output_type": "stream",
          "name": "stdout",
          "text": [
            "Requirement already satisfied: gensim in /usr/local/lib/python3.10/dist-packages (4.3.2)\n",
            "Requirement already satisfied: numpy>=1.18.5 in /usr/local/lib/python3.10/dist-packages (from gensim) (1.25.2)\n",
            "Requirement already satisfied: scipy>=1.7.0 in /usr/local/lib/python3.10/dist-packages (from gensim) (1.11.4)\n",
            "Requirement already satisfied: smart-open>=1.8.1 in /usr/local/lib/python3.10/dist-packages (from gensim) (7.0.4)\n",
            "Requirement already satisfied: wrapt in /usr/local/lib/python3.10/dist-packages (from smart-open>=1.8.1->gensim) (1.14.1)\n"
          ]
        }
      ],
      "source": [
        "!pip install --upgrade gensim"
      ]
    },
    {
      "cell_type": "code",
      "source": [
        "!pip install nltk\n",
        "!pip install pyLDAvis"
      ],
      "metadata": {
        "colab": {
          "base_uri": "https://localhost:8080/"
        },
        "id": "Yo9GeHO6-GTr",
        "outputId": "4590fc23-d901-40bf-9c40-05718d4cfb35"
      },
      "execution_count": 2,
      "outputs": [
        {
          "output_type": "stream",
          "name": "stdout",
          "text": [
            "Requirement already satisfied: nltk in /usr/local/lib/python3.10/dist-packages (3.8.1)\n",
            "Requirement already satisfied: click in /usr/local/lib/python3.10/dist-packages (from nltk) (8.1.7)\n",
            "Requirement already satisfied: joblib in /usr/local/lib/python3.10/dist-packages (from nltk) (1.4.2)\n",
            "Requirement already satisfied: regex>=2021.8.3 in /usr/local/lib/python3.10/dist-packages (from nltk) (2024.5.15)\n",
            "Requirement already satisfied: tqdm in /usr/local/lib/python3.10/dist-packages (from nltk) (4.66.4)\n",
            "Collecting pyLDAvis\n",
            "  Downloading pyLDAvis-3.4.1-py3-none-any.whl (2.6 MB)\n",
            "\u001b[2K     \u001b[90m━━━━━━━━━━━━━━━━━━━━━━━━━━━━━━━━━━━━━━━━\u001b[0m \u001b[32m2.6/2.6 MB\u001b[0m \u001b[31m21.1 MB/s\u001b[0m eta \u001b[36m0:00:00\u001b[0m\n",
            "\u001b[?25hRequirement already satisfied: numpy>=1.24.2 in /usr/local/lib/python3.10/dist-packages (from pyLDAvis) (1.25.2)\n",
            "Requirement already satisfied: scipy in /usr/local/lib/python3.10/dist-packages (from pyLDAvis) (1.11.4)\n",
            "Requirement already satisfied: pandas>=2.0.0 in /usr/local/lib/python3.10/dist-packages (from pyLDAvis) (2.0.3)\n",
            "Requirement already satisfied: joblib>=1.2.0 in /usr/local/lib/python3.10/dist-packages (from pyLDAvis) (1.4.2)\n",
            "Requirement already satisfied: jinja2 in /usr/local/lib/python3.10/dist-packages (from pyLDAvis) (3.1.4)\n",
            "Requirement already satisfied: numexpr in /usr/local/lib/python3.10/dist-packages (from pyLDAvis) (2.10.1)\n",
            "Collecting funcy (from pyLDAvis)\n",
            "  Downloading funcy-2.0-py2.py3-none-any.whl (30 kB)\n",
            "Requirement already satisfied: scikit-learn>=1.0.0 in /usr/local/lib/python3.10/dist-packages (from pyLDAvis) (1.2.2)\n",
            "Requirement already satisfied: gensim in /usr/local/lib/python3.10/dist-packages (from pyLDAvis) (4.3.2)\n",
            "Requirement already satisfied: setuptools in /usr/local/lib/python3.10/dist-packages (from pyLDAvis) (67.7.2)\n",
            "Requirement already satisfied: python-dateutil>=2.8.2 in /usr/local/lib/python3.10/dist-packages (from pandas>=2.0.0->pyLDAvis) (2.8.2)\n",
            "Requirement already satisfied: pytz>=2020.1 in /usr/local/lib/python3.10/dist-packages (from pandas>=2.0.0->pyLDAvis) (2023.4)\n",
            "Requirement already satisfied: tzdata>=2022.1 in /usr/local/lib/python3.10/dist-packages (from pandas>=2.0.0->pyLDAvis) (2024.1)\n",
            "Requirement already satisfied: threadpoolctl>=2.0.0 in /usr/local/lib/python3.10/dist-packages (from scikit-learn>=1.0.0->pyLDAvis) (3.5.0)\n",
            "Requirement already satisfied: smart-open>=1.8.1 in /usr/local/lib/python3.10/dist-packages (from gensim->pyLDAvis) (7.0.4)\n",
            "Requirement already satisfied: MarkupSafe>=2.0 in /usr/local/lib/python3.10/dist-packages (from jinja2->pyLDAvis) (2.1.5)\n",
            "Requirement already satisfied: six>=1.5 in /usr/local/lib/python3.10/dist-packages (from python-dateutil>=2.8.2->pandas>=2.0.0->pyLDAvis) (1.16.0)\n",
            "Requirement already satisfied: wrapt in /usr/local/lib/python3.10/dist-packages (from smart-open>=1.8.1->gensim->pyLDAvis) (1.14.1)\n",
            "Installing collected packages: funcy, pyLDAvis\n",
            "Successfully installed funcy-2.0 pyLDAvis-3.4.1\n"
          ]
        }
      ]
    },
    {
      "cell_type": "markdown",
      "source": [
        "## import libraries"
      ],
      "metadata": {
        "id": "sw8zm23D-Yuj"
      }
    },
    {
      "cell_type": "code",
      "source": [
        "import nltk\n",
        "nltk.download(\"stopwords\")"
      ],
      "metadata": {
        "id": "_Z4hMas0_P79",
        "colab": {
          "base_uri": "https://localhost:8080/"
        },
        "outputId": "b1b6c1b7-7b4c-4024-9624-833f31692dbb"
      },
      "execution_count": 3,
      "outputs": [
        {
          "output_type": "stream",
          "name": "stderr",
          "text": [
            "[nltk_data] Downloading package stopwords to /root/nltk_data...\n",
            "[nltk_data]   Unzipping corpora/stopwords.zip.\n"
          ]
        },
        {
          "output_type": "execute_result",
          "data": {
            "text/plain": [
              "True"
            ]
          },
          "metadata": {},
          "execution_count": 3
        }
      ]
    },
    {
      "cell_type": "code",
      "source": [
        "import numpy as np\n",
        "import json\n",
        "import glob\n",
        "\n",
        "#gensim\n",
        "import gensim\n",
        "import gensim.corpora as copora\n",
        "from gensim.utils import simple_preprocess\n",
        "from gensim.models import CoherenceModel\n",
        "\n",
        "#spacy\n",
        "import spacy\n",
        "from nltk.corpus import stopwords\n",
        "\n",
        "#vis\n",
        "import pyLDAvis\n",
        "import pyLDAvis.gensim\n",
        "\n",
        "import warnings\n",
        "warnings.filterwarnings(\"ignore\", category=DeprecationWarning)"
      ],
      "metadata": {
        "id": "m82r5Dwe-d-t"
      },
      "execution_count": 4,
      "outputs": []
    },
    {
      "cell_type": "markdown",
      "source": [
        "## Data Prep"
      ],
      "metadata": {
        "id": "PnBvfvKNBWhG"
      }
    },
    {
      "cell_type": "code",
      "source": [
        "def laod_data(file):\n",
        "  with open (file, \"r\", encoding=\"utf-8\") as f:\n",
        "    data = json.load(f)\n",
        "  return (data)\n",
        "\n",
        "def write_data(file, data):\n",
        "  with open (file, \"w\", encoding=\"utf-8\") as f:\n",
        "    json.dump(data, f, indent=4)"
      ],
      "metadata": {
        "id": "z5sfI_fTBYmb"
      },
      "execution_count": 5,
      "outputs": []
    },
    {
      "cell_type": "code",
      "source": [
        "stopwords = stopwords.words(\"english\")\n",
        "print(stopwords)"
      ],
      "metadata": {
        "colab": {
          "base_uri": "https://localhost:8080/"
        },
        "id": "_BElnCEgCJEA",
        "outputId": "485481ac-0553-4175-91de-3897847dbbc2"
      },
      "execution_count": 6,
      "outputs": [
        {
          "output_type": "stream",
          "name": "stdout",
          "text": [
            "['i', 'me', 'my', 'myself', 'we', 'our', 'ours', 'ourselves', 'you', \"you're\", \"you've\", \"you'll\", \"you'd\", 'your', 'yours', 'yourself', 'yourselves', 'he', 'him', 'his', 'himself', 'she', \"she's\", 'her', 'hers', 'herself', 'it', \"it's\", 'its', 'itself', 'they', 'them', 'their', 'theirs', 'themselves', 'what', 'which', 'who', 'whom', 'this', 'that', \"that'll\", 'these', 'those', 'am', 'is', 'are', 'was', 'were', 'be', 'been', 'being', 'have', 'has', 'had', 'having', 'do', 'does', 'did', 'doing', 'a', 'an', 'the', 'and', 'but', 'if', 'or', 'because', 'as', 'until', 'while', 'of', 'at', 'by', 'for', 'with', 'about', 'against', 'between', 'into', 'through', 'during', 'before', 'after', 'above', 'below', 'to', 'from', 'up', 'down', 'in', 'out', 'on', 'off', 'over', 'under', 'again', 'further', 'then', 'once', 'here', 'there', 'when', 'where', 'why', 'how', 'all', 'any', 'both', 'each', 'few', 'more', 'most', 'other', 'some', 'such', 'no', 'nor', 'not', 'only', 'own', 'same', 'so', 'than', 'too', 'very', 's', 't', 'can', 'will', 'just', 'don', \"don't\", 'should', \"should've\", 'now', 'd', 'll', 'm', 'o', 're', 've', 'y', 'ain', 'aren', \"aren't\", 'couldn', \"couldn't\", 'didn', \"didn't\", 'doesn', \"doesn't\", 'hadn', \"hadn't\", 'hasn', \"hasn't\", 'haven', \"haven't\", 'isn', \"isn't\", 'ma', 'mightn', \"mightn't\", 'mustn', \"mustn't\", 'needn', \"needn't\", 'shan', \"shan't\", 'shouldn', \"shouldn't\", 'wasn', \"wasn't\", 'weren', \"weren't\", 'won', \"won't\", 'wouldn', \"wouldn't\"]\n"
          ]
        }
      ]
    },
    {
      "cell_type": "code",
      "source": [
        "data = laod_data(\"/content/Extraversion_answers_and_comments.json\")[\"answers\"]\n",
        "\n",
        "print(data[0][0:90])"
      ],
      "metadata": {
        "colab": {
          "base_uri": "https://localhost:8080/"
        },
        "id": "X-9h7Nl-2Kfn",
        "outputId": "ff00381d-9b7b-4a3d-867a-59cef2713092"
      },
      "execution_count": 24,
      "outputs": [
        {
          "output_type": "stream",
          "name": "stdout",
          "text": [
            "How to make a great R reproducible example\n"
          ]
        }
      ]
    },
    {
      "cell_type": "code",
      "source": [
        "def lemmatization(texts, allowed_postags=[\"NOUN\", \"ADJ\", \"VERB\", \"ADV\"]):\n",
        "  nlp = spacy.load(\"en_core_web_sm\", disable=[\"parser\", \"ner\"])\n",
        "  texts_out = []\n",
        "  for text in texts:\n",
        "    doc = nlp(text)\n",
        "    new_text = []\n",
        "    for token in doc:\n",
        "      if token.pos_ in allowed_postags:\n",
        "        new_text.append(token.lemma_)\n",
        "    final = \" \".join(new_text)\n",
        "    texts_out.append(final)\n",
        "  return(texts_out)\n",
        "\n",
        "lemmatized_text = lemmatization(data)\n",
        "print(lemmatized_text[0][0:90])"
      ],
      "metadata": {
        "colab": {
          "base_uri": "https://localhost:8080/"
        },
        "id": "mb98sB2K2f6D",
        "outputId": "cc33c2c9-d86d-4f1c-efa3-042dc0dd4ea3"
      },
      "execution_count": 25,
      "outputs": [
        {
          "output_type": "stream",
          "name": "stdout",
          "text": [
            "make great r reproducible example\n"
          ]
        }
      ]
    },
    {
      "cell_type": "code",
      "source": [
        "def gen_words(texts):\n",
        "  final = []\n",
        "  for text in texts:\n",
        "    new = gensim.utils.simple_preprocess(text, deacc=True)\n",
        "    final.append(new)\n",
        "  return (final)\n",
        "\n",
        "data_words = gen_words(lemmatized_text)\n",
        "\n",
        "print(data_words[0][0:30])"
      ],
      "metadata": {
        "colab": {
          "base_uri": "https://localhost:8080/"
        },
        "id": "EC3E8hP25MWn",
        "outputId": "9c62fd16-1fce-40e0-a2cf-c62fac4a56d8"
      },
      "execution_count": 26,
      "outputs": [
        {
          "output_type": "stream",
          "name": "stdout",
          "text": [
            "['make', 'great', 'reproducible', 'example']\n"
          ]
        }
      ]
    },
    {
      "cell_type": "code",
      "source": [
        "id2word = gensim.corpora.Dictionary(data_words)\n",
        "\n",
        "corpus = []\n",
        "\n",
        "for text in data_words:\n",
        "  new = id2word.doc2bow(text) # bow -> bag of words\n",
        "  corpus.append(new)\n",
        "\n",
        "print(corpus[0][0:20]) #each tuple contains index of the word along with the frequency of that word."
      ],
      "metadata": {
        "colab": {
          "base_uri": "https://localhost:8080/"
        },
        "id": "RO0VI9wB_Cju",
        "outputId": "894a8b31-f391-4073-b716-74f3a0d13d93"
      },
      "execution_count": 27,
      "outputs": [
        {
          "output_type": "stream",
          "name": "stdout",
          "text": [
            "[(0, 1), (1, 1), (2, 1), (3, 1)]\n"
          ]
        }
      ]
    },
    {
      "cell_type": "code",
      "source": [
        "lda = gensim.models.ldamodel.LdaModel(corpus=corpus,\n",
        "                                    id2word=id2word,\n",
        "                                    num_topics=10,\n",
        "                                    random_state=100,\n",
        "                                    update_every=1,\n",
        "                                    chunksize=100,\n",
        "                                    passes=10,\n",
        "                                    alpha=\"auto\")"
      ],
      "metadata": {
        "id": "6KSIixmGA6gW"
      },
      "execution_count": 28,
      "outputs": []
    },
    {
      "cell_type": "markdown",
      "source": [
        "## Visualization of Data"
      ],
      "metadata": {
        "id": "evp4uPlUIGy3"
      }
    },
    {
      "cell_type": "code",
      "source": [
        "pyLDAvis.enable_notebook()\n",
        "vis = pyLDAvis.gensim.prepare(lda, corpus, id2word, mds=\"mmds\", R=9)\n",
        "vis"
      ],
      "metadata": {
        "colab": {
          "base_uri": "https://localhost:8080/",
          "height": 896
        },
        "id": "UOHcDtbKIM8k",
        "outputId": "cbd995a4-6196-4eff-d9d9-7ca1a74c9f3f"
      },
      "execution_count": 29,
      "outputs": [
        {
          "output_type": "stream",
          "name": "stderr",
          "text": [
            "/usr/local/lib/python3.10/dist-packages/sklearn/manifold/_mds.py:299: FutureWarning: The default value of `normalized_stress` will change to `'auto'` in version 1.4. To suppress this warning, manually set the value of `normalized_stress`.\n",
            "  warnings.warn(\n"
          ]
        },
        {
          "output_type": "execute_result",
          "data": {
            "text/plain": [
              "PreparedData(topic_coordinates=              x         y  topics  cluster       Freq\n",
              "topic                                                \n",
              "0      0.384597  0.260066       1        1  15.015124\n",
              "8      0.117280  0.432208       2        1  12.151284\n",
              "7     -0.320938 -0.232350       3        1  12.002433\n",
              "1     -0.255246  0.419370       4        1  11.600927\n",
              "2      0.198539 -0.435395       5        1  11.028902\n",
              "9     -0.173454  0.161726       6        1  10.412217\n",
              "4     -0.123424 -0.434783       7        1   7.877360\n",
              "3     -0.483192  0.014062       8        1   7.487638\n",
              "6      0.185468 -0.089984       9        1   6.212719\n",
              "5      0.470371 -0.094920      10        1   6.211397, topic_info=         Term         Freq        Total Category  logprob  loglift\n",
              "274       use  6370.000000  6370.000000  Default   9.0000   9.0000\n",
              "465      file  3048.000000  3048.000000  Default   8.0000   8.0000\n",
              "29   function  2467.000000  2467.000000  Default   7.0000   7.0000\n",
              "147     check  1982.000000  1982.000000  Default   6.0000   6.0000\n",
              "63       work  1928.000000  1928.000000  Default   5.0000   5.0000\n",
              "..        ...          ...          ...      ...      ...      ...\n",
              "353     table   969.797902   970.741735  Topic10  -2.9786   2.7778\n",
              "190     valid   785.521928   786.465679  Topic10  -3.1893   2.7776\n",
              "324     image   723.965698   724.909499  Topic10  -3.2709   2.7775\n",
              "188      same   687.409560   688.353338  Topic10  -3.3228   2.7774\n",
              "511   default   483.368758   484.312825  Topic10  -3.6749   2.7768\n",
              "\n",
              "[104 rows x 6 columns], token_table=      Topic      Freq       Term\n",
              "term                            \n",
              "290       3  0.998444        act\n",
              "625       2  0.998711      array\n",
              "191       5  0.999048     become\n",
              "87        8  0.999185       bike\n",
              "1133      1  0.999342  bootstrap\n",
              "...     ...       ...        ...\n",
              "28        4  0.999012      value\n",
              "279       1  0.998821   variable\n",
              "131       7  0.998290       very\n",
              "280       1  0.998256        way\n",
              "63        3  0.999752       work\n",
              "\n",
              "[98 rows x 3 columns], R=9, lambda_step=0.01, plot_opts={'xlab': 'PC1', 'ylab': 'PC2'}, topic_order=[1, 9, 8, 2, 3, 10, 5, 4, 7, 6])"
            ],
            "text/html": [
              "\n",
              "<link rel=\"stylesheet\" type=\"text/css\" href=\"https://cdn.jsdelivr.net/gh/bmabey/pyLDAvis@3.4.0/pyLDAvis/js/ldavis.v1.0.0.css\">\n",
              "\n",
              "\n",
              "<div id=\"ldavis_el2081400519933218564697882201\" style=\"background-color:white;\"></div>\n",
              "<script type=\"text/javascript\">\n",
              "\n",
              "var ldavis_el2081400519933218564697882201_data = {\"mdsDat\": {\"x\": [0.3845965012923537, 0.1172800950035501, -0.3209380116802485, -0.25524574777589093, 0.19853895494663412, -0.1734542293213569, -0.12342429163811007, -0.4831924235336311, 0.1854683027385993, 0.4703708499681005], \"y\": [0.26006589529300717, 0.4322077396223694, -0.23234958155668362, 0.41936971735020157, -0.4353946431311697, 0.16172563928491002, -0.43478267071380183, 0.014061528084012379, -0.08998373151139444, -0.09491989272145115], \"topics\": [1, 2, 3, 4, 5, 6, 7, 8, 9, 10], \"cluster\": [1, 1, 1, 1, 1, 1, 1, 1, 1, 1], \"Freq\": [15.015123619623738, 12.15128398423712, 12.002433183468424, 11.600926700262427, 11.028901693591118, 10.412217497735767, 7.877359998960641, 7.487637686136142, 6.2127187890453826, 6.21139684693924]}, \"tinfo\": {\"Term\": [\"use\", \"file\", \"function\", \"check\", \"work\", \"get\", \"command\", \"only\", \"theorem\", \"get\", \"column\", \"change\", \"bootstrap\", \"variable\", \"set\", \"operate\", \"local\", \"way\", \"file\", \"array\", \"issue\", \"java\", \"object\", \"extra\", \"non\", \"return\", \"much\", \"color\", \"work\", \"command\", \"only\", \"test\", \"know\", \"program\", \"string\", \"act\", \"people\", \"function\", \"value\", \"container\", \"error\", \"remove\", \"connect\", \"document\", \"docker\", \"element\", \"so\", \"check\", \"become\", \"time\", \"order\", \"turn\", \"story\", \"pay\", \"cause\", \"close\", \"later\", \"homework\", \"use\", \"launch\", \"loop\", \"sequence\", \"different\", \"thing\", \"extend\", \"form\", \"build\", \"expression\", \"class\", \"many\", \"similar\", \"very\", \"number\", \"old\", \"professor\", \"field\", \"list\", \"run\", \"line\", \"equation\", \"hard\", \"bike\", \"incorrect\", \"key\", \"point\", \"read\", \"theorem\", \"specific\", \"give\", \"branch\", \"disable\", \"proof\", \"group\", \"ignore\", \"unable\", \"other\", \"multiple\", \"country\", \"find\", \"table\", \"valid\", \"image\", \"same\", \"default\"], \"Freq\": [6370.0, 3048.0, 2467.0, 1982.0, 1928.0, 1845.0, 1579.0, 1534.0, 1147.0, 1844.5016710444768, 1628.3148156845734, 1165.934359344873, 1365.7433003610947, 1001.2420313290595, 955.5787674374328, 824.3266629067423, 800.6567503534621, 795.4487566239965, 3048.080252143832, 1027.407002438297, 940.1103518932855, 908.9127940200038, 859.0769319125549, 805.0732945602846, 786.0434949935636, 699.4302070201579, 646.2391569632823, 950.835517638152, 1927.5597413312903, 1578.0881676788401, 1534.0600000036457, 1034.6958409170074, 919.8166904819382, 905.6653382437565, 904.7945607575031, 863.4257333886604, 813.2604681805121, 2466.2173469375057, 1334.37017646793, 1020.3752528611604, 981.5572246297033, 904.0531627948968, 788.9791847472776, 577.6927303769561, 943.5523894337238, 572.1829164233636, 1091.1469917018455, 1981.127741321089, 1316.3208417718477, 1153.786371171773, 1150.667377911256, 1084.0678985926959, 982.6931767378424, 928.5950199274198, 798.1561262899525, 763.1931589763237, 885.3721624110373, 848.2432030326821, 6369.971755123639, 796.194378499934, 784.752956708591, 741.4377440982133, 734.4027353853655, 698.7944146768855, 663.6924174242683, 648.2024320891969, 602.807929726565, 923.8293293829964, 922.6401129137479, 789.6041545701644, 729.976775945517, 700.2452382329475, 657.348186031703, 606.8847643125291, 599.8919696974888, 577.5168735387838, 1158.319275327381, 847.2671739733519, 712.9266577757475, 753.1690356430722, 584.7115815166482, 584.5223569198939, 559.0952375145517, 464.9619085465952, 457.2614093005823, 503.49522869287347, 1146.8807766690384, 789.2888628834733, 670.2405831290785, 644.80862850533, 634.4905350035064, 617.7753613542566, 584.8941775799905, 584.1840302852637, 558.5401184332422, 1141.0990430414636, 1055.7460087153008, 1021.1241056878378, 971.8842078826175, 969.7979015523498, 785.5219277354978, 723.965698470272, 687.4095601251414, 483.3687584081457], \"Total\": [6370.0, 3048.0, 2467.0, 1982.0, 1928.0, 1845.0, 1579.0, 1534.0, 1147.0, 1845.4415532572154, 1629.2548279097814, 1166.874278557984, 1366.8992018863094, 1002.1819552795912, 956.5187902926788, 825.2664788154544, 801.596779108518, 796.3886811261253, 3048.9983089779225, 1028.3250027795702, 941.0284035361782, 909.8308794166403, 859.9949097135448, 805.9913134081935, 786.961698126169, 700.3482168883613, 647.1571101983509, 1163.6910510695946, 1928.4789342719005, 1579.0073915302419, 1534.9792184347314, 1035.615270526901, 920.7359224337334, 906.5845820642219, 905.71379236538, 864.3448709063609, 814.1796104807374, 2467.166893690624, 1335.319779608216, 1021.3267202332123, 982.5067464303321, 905.0027229849239, 789.9287519384727, 578.642427222907, 945.1182012247062, 573.1325241516734, 1430.0196635974871, 1982.0612632979414, 1317.2542955577105, 1154.7199096812146, 1151.6009657534723, 1085.0013530749184, 983.6266370753455, 929.528540398097, 799.0897184949308, 764.1266562538441, 886.4960656469166, 849.4681569639371, 6370.905640384483, 797.1282212702665, 785.686777588446, 742.3715414212787, 735.3366048272214, 699.7283997124614, 664.6262401421827, 649.1363893423629, 603.7417540978948, 924.7830682516397, 923.5938165701064, 790.5578108280286, 730.9305309717688, 701.1989057398712, 658.3019943760569, 607.8384249005409, 600.8456286499656, 578.4706219127162, 1159.2743602684995, 848.2223444176244, 713.8817662896953, 754.2321229753223, 585.6666198951882, 585.4773970202131, 560.0503211093227, 465.91701148586134, 458.21655238729534, 835.4388293336311, 1147.7888083178605, 790.1969389869562, 671.1485903001541, 645.7175201415286, 635.3994858207728, 618.6834710107008, 585.8022560012855, 585.0921277831276, 559.4482025532099, 1142.0428573202075, 1056.6898501128107, 1022.0678612555165, 972.8280625392183, 970.7417350379538, 786.4656793246031, 724.9094985574153, 688.3533376363777, 484.3128248387583], \"Category\": [\"Default\", \"Default\", \"Default\", \"Default\", \"Default\", \"Default\", \"Default\", \"Default\", \"Default\", \"Topic1\", \"Topic1\", \"Topic1\", \"Topic1\", \"Topic1\", \"Topic1\", \"Topic1\", \"Topic1\", \"Topic1\", \"Topic2\", \"Topic2\", \"Topic2\", \"Topic2\", \"Topic2\", \"Topic2\", \"Topic2\", \"Topic2\", \"Topic2\", \"Topic2\", \"Topic3\", \"Topic3\", \"Topic3\", \"Topic3\", \"Topic3\", \"Topic3\", \"Topic3\", \"Topic3\", \"Topic3\", \"Topic4\", \"Topic4\", \"Topic4\", \"Topic4\", \"Topic4\", \"Topic4\", \"Topic4\", \"Topic4\", \"Topic4\", \"Topic4\", \"Topic5\", \"Topic5\", \"Topic5\", \"Topic5\", \"Topic5\", \"Topic5\", \"Topic5\", \"Topic5\", \"Topic5\", \"Topic5\", \"Topic5\", \"Topic6\", \"Topic6\", \"Topic6\", \"Topic6\", \"Topic6\", \"Topic6\", \"Topic6\", \"Topic6\", \"Topic6\", \"Topic7\", \"Topic7\", \"Topic7\", \"Topic7\", \"Topic7\", \"Topic7\", \"Topic7\", \"Topic7\", \"Topic7\", \"Topic8\", \"Topic8\", \"Topic8\", \"Topic8\", \"Topic8\", \"Topic8\", \"Topic8\", \"Topic8\", \"Topic8\", \"Topic8\", \"Topic9\", \"Topic9\", \"Topic9\", \"Topic9\", \"Topic9\", \"Topic9\", \"Topic9\", \"Topic9\", \"Topic9\", \"Topic10\", \"Topic10\", \"Topic10\", \"Topic10\", \"Topic10\", \"Topic10\", \"Topic10\", \"Topic10\", \"Topic10\"], \"logprob\": [9.0, 8.0, 7.0, 6.0, 5.0, 4.0, 3.0, 2.0, 1.0, -3.2184, -3.3431, -3.6771, -3.5189, -3.8294, -3.876, -4.0238, -4.0529, -4.0595, -2.5045, -3.5919, -3.6807, -3.7145, -3.7709, -3.8358, -3.8597, -3.9765, -4.0556, -3.6694, -2.9504, -3.1504, -3.1787, -3.5725, -3.6902, -3.7057, -3.7067, -3.7535, -3.8134, -2.6699, -3.2842, -3.5525, -3.5912, -3.6735, -3.8096, -4.1213, -3.6307, -4.1309, -3.4854, -2.8384, -3.2472, -3.379, -3.3817, -3.4413, -3.5395, -3.5961, -3.7475, -3.7923, -3.6438, -3.6867, -1.6129, -3.6924, -3.7069, -3.7637, -3.7732, -3.8229, -3.8745, -3.8981, -3.9707, -3.2648, -3.2661, -3.4218, -3.5003, -3.5419, -3.6051, -3.685, -3.6965, -3.7346, -2.9878, -3.3005, -3.4732, -3.4183, -3.6714, -3.6718, -3.7162, -3.9006, -3.9173, -3.821, -2.8111, -3.1848, -3.3483, -3.3869, -3.4031, -3.4298, -3.4845, -3.4857, -3.5306, -2.8159, -2.8937, -2.927, -2.9764, -2.9786, -3.1893, -3.2709, -3.3228, -3.6749], \"loglift\": [9.0, 8.0, 7.0, 6.0, 5.0, 4.0, 3.0, 2.0, 1.0, 1.8956, 1.8955, 1.8953, 1.8953, 1.8952, 1.8951, 1.895, 1.8949, 1.8949, 2.1074, 2.1068, 2.1068, 2.1067, 2.1067, 2.1066, 2.1066, 2.1064, 2.1063, 1.9057, 2.1196, 2.1195, 2.1195, 2.1192, 2.1191, 2.119, 2.119, 2.119, 2.1189, 2.1537, 2.1534, 2.1532, 2.1531, 2.153, 2.1529, 2.1524, 2.1524, 2.1524, 1.8836, 2.2042, 2.2039, 2.2038, 2.2038, 2.2038, 2.2037, 2.2036, 2.2035, 2.2034, 2.2034, 2.2032, 2.262, 2.261, 2.261, 2.2609, 2.2609, 2.2609, 2.2608, 2.2608, 2.2606, 2.5401, 2.5401, 2.54, 2.5399, 2.5398, 2.5397, 2.5396, 2.5396, 2.5395, 2.5911, 2.5908, 2.5906, 2.5905, 2.5903, 2.5903, 2.5902, 2.5899, 2.5898, 2.0855, 2.7778, 2.7774, 2.7772, 2.7772, 2.7771, 2.7771, 2.777, 2.777, 2.7769, 2.778, 2.7779, 2.7779, 2.7778, 2.7778, 2.7776, 2.7775, 2.7774, 2.7768]}, \"token.table\": {\"Topic\": [3, 2, 5, 8, 1, 9, 6, 5, 1, 5, 7, 5, 2, 8, 1, 3, 4, 4, 10, 10, 6, 9, 4, 4, 4, 8, 4, 7, 6, 2, 7, 2, 10, 6, 4, 1, 9, 9, 8, 5, 9, 10, 8, 2, 2, 8, 3, 5, 6, 8, 8, 1, 6, 7, 2, 10, 2, 7, 2, 7, 3, 1, 5, 10, 5, 3, 8, 7, 3, 9, 4, 8, 4, 2, 8, 10, 6, 1, 7, 3, 4, 9, 5, 3, 10, 3, 9, 6, 5, 5, 9, 6, 10, 4, 1, 7, 1, 3], \"Freq\": [0.99844405751497, 0.9987114941521515, 0.9990477954318004, 0.9991846021338436, 0.9993421593303526, 0.9988888018070637, 0.9987714050041094, 0.9986363001929455, 0.999250751709889, 0.9994645658448642, 0.9993570587422168, 0.9985255634722029, 0.8172272177618778, 0.18217893813408842, 0.9992298148280516, 0.9993620096171522, 0.9988242585977614, 0.9987009835276713, 0.9989551953485704, 0.9972893039964503, 0.9981823224650492, 0.9977974709580304, 0.9988168662678835, 0.9988897682010801, 0.9980239750774053, 0.9983663875645314, 0.9994842310934015, 0.9991532411453854, 0.9990577559169966, 0.9987700693646416, 0.9991864376601182, 0.9996725780480157, 0.9991488089508264, 0.99824938277838, 0.9995270309059318, 0.9997607330037431, 0.998288619961728, 0.9986305003214536, 0.998861775842189, 0.9982716751041212, 0.9981334088577374, 0.9987453626152986, 0.9981245951127351, 0.9989071493141826, 0.9990867759762418, 0.998031813685152, 0.9992007236648395, 0.9983123832074485, 0.9985846426708257, 0.9987648286714506, 0.9989007259090898, 0.9992555120927734, 0.9991258888299559, 0.9992944085550881, 0.9982120103756625, 0.9993471593270844, 0.9987779606955981, 0.9980221928732103, 0.9988431213925718, 0.9986206451152244, 0.9993620640442742, 0.9984653698557194, 0.9994781475777254, 0.999086849225033, 0.9994313887361967, 0.9985511667627724, 0.9973450274090774, 0.9985926024761707, 0.9993551819920753, 0.9988952816056581, 0.3961989655951408, 0.6020787906173891, 0.9988920221348985, 0.9980749335032915, 0.9985589339567992, 0.9980339491909421, 0.9981524865316727, 0.9994576266583116, 0.9987269228300921, 0.2363603862269254, 0.7629265721111704, 0.9984852649663631, 0.9993629319787347, 0.9992119007445875, 0.9992359089846643, 0.9994058889006262, 0.9993127583122051, 0.9989590250835028, 0.9993765503866532, 0.9990770950910978, 0.9991988488815151, 0.9998578474653992, 0.9994078834755981, 0.9990116377901604, 0.9988206180790179, 0.9982902059172409, 0.9982562771683775, 0.999751651800085], \"Term\": [\"act\", \"array\", \"become\", \"bike\", \"bootstrap\", \"branch\", \"build\", \"cause\", \"change\", \"check\", \"class\", \"close\", \"color\", \"color\", \"column\", \"command\", \"connect\", \"container\", \"country\", \"default\", \"different\", \"disable\", \"docker\", \"document\", \"element\", \"equation\", \"error\", \"expression\", \"extend\", \"extra\", \"field\", \"file\", \"find\", \"form\", \"function\", \"get\", \"give\", \"group\", \"hard\", \"homework\", \"ignore\", \"image\", \"incorrect\", \"issue\", \"java\", \"key\", \"know\", \"later\", \"launch\", \"line\", \"list\", \"local\", \"loop\", \"many\", \"much\", \"multiple\", \"non\", \"number\", \"object\", \"old\", \"only\", \"operate\", \"order\", \"other\", \"pay\", \"people\", \"point\", \"professor\", \"program\", \"proof\", \"read\", \"read\", \"remove\", \"return\", \"run\", \"same\", \"sequence\", \"set\", \"similar\", \"so\", \"so\", \"specific\", \"story\", \"string\", \"table\", \"test\", \"theorem\", \"thing\", \"time\", \"turn\", \"unable\", \"use\", \"valid\", \"value\", \"variable\", \"very\", \"way\", \"work\"]}, \"R\": 9, \"lambda.step\": 0.01, \"plot.opts\": {\"xlab\": \"PC1\", \"ylab\": \"PC2\"}, \"topic.order\": [1, 9, 8, 2, 3, 10, 5, 4, 7, 6]};\n",
              "\n",
              "function LDAvis_load_lib(url, callback){\n",
              "  var s = document.createElement('script');\n",
              "  s.src = url;\n",
              "  s.async = true;\n",
              "  s.onreadystatechange = s.onload = callback;\n",
              "  s.onerror = function(){console.warn(\"failed to load library \" + url);};\n",
              "  document.getElementsByTagName(\"head\")[0].appendChild(s);\n",
              "}\n",
              "\n",
              "if(typeof(LDAvis) !== \"undefined\"){\n",
              "   // already loaded: just create the visualization\n",
              "   !function(LDAvis){\n",
              "       new LDAvis(\"#\" + \"ldavis_el2081400519933218564697882201\", ldavis_el2081400519933218564697882201_data);\n",
              "   }(LDAvis);\n",
              "}else if(typeof define === \"function\" && define.amd){\n",
              "   // require.js is available: use it to load d3/LDAvis\n",
              "   require.config({paths: {d3: \"https://d3js.org/d3.v5\"}});\n",
              "   require([\"d3\"], function(d3){\n",
              "      window.d3 = d3;\n",
              "      LDAvis_load_lib(\"https://cdn.jsdelivr.net/gh/bmabey/pyLDAvis@3.4.0/pyLDAvis/js/ldavis.v3.0.0.js\", function(){\n",
              "        new LDAvis(\"#\" + \"ldavis_el2081400519933218564697882201\", ldavis_el2081400519933218564697882201_data);\n",
              "      });\n",
              "    });\n",
              "}else{\n",
              "    // require.js not available: dynamically load d3 & LDAvis\n",
              "    LDAvis_load_lib(\"https://d3js.org/d3.v5.js\", function(){\n",
              "         LDAvis_load_lib(\"https://cdn.jsdelivr.net/gh/bmabey/pyLDAvis@3.4.0/pyLDAvis/js/ldavis.v3.0.0.js\", function(){\n",
              "                 new LDAvis(\"#\" + \"ldavis_el2081400519933218564697882201\", ldavis_el2081400519933218564697882201_data);\n",
              "            })\n",
              "         });\n",
              "}\n",
              "</script>"
            ]
          },
          "metadata": {},
          "execution_count": 29
        }
      ]
    },
    {
      "cell_type": "code",
      "source": [
        "print('\\nPerplexity: ', lda.log_perplexity(corpus,total_docs=10000))  # a measure of how good the model is. lower the better.\n",
        "\n",
        "# Compute Coherence Score\n",
        "coherence_model_lda = CoherenceModel(model=lda, texts=data_words, dictionary=id2word, coherence='c_v')\n",
        "coherence_lda = coherence_model_lda.get_coherence()\n",
        "print('\\nCoherence Score: ', coherence_lda)"
      ],
      "metadata": {
        "colab": {
          "base_uri": "https://localhost:8080/"
        },
        "id": "Xj0X43-NwLD7",
        "outputId": "edee44c1-ca8b-47c8-af79-399d4dc6a8c0"
      },
      "execution_count": 30,
      "outputs": [
        {
          "output_type": "stream",
          "name": "stdout",
          "text": [
            "\n",
            "Perplexity:  -7.733227404433795\n",
            "\n",
            "Coherence Score:  0.5103639515249616\n"
          ]
        }
      ]
    }
  ]
}