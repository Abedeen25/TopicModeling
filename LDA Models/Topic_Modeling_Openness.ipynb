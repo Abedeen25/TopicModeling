{
  "nbformat": 4,
  "nbformat_minor": 0,
  "metadata": {
    "colab": {
      "provenance": []
    },
    "kernelspec": {
      "name": "python3",
      "display_name": "Python 3"
    },
    "language_info": {
      "name": "python"
    }
  },
  "cells": [
    {
      "cell_type": "markdown",
      "source": [
        "# Topic Modeling (LDA)\n",
        "## Setup\n"
      ],
      "metadata": {
        "id": "oFOXHb0g9uVJ"
      }
    },
    {
      "cell_type": "code",
      "execution_count": 1,
      "metadata": {
        "colab": {
          "base_uri": "https://localhost:8080/"
        },
        "id": "unls0i3Q9iXV",
        "outputId": "37eed698-a102-4fd5-d735-ecf37757f511"
      },
      "outputs": [
        {
          "output_type": "stream",
          "name": "stdout",
          "text": [
            "Requirement already satisfied: gensim in /usr/local/lib/python3.10/dist-packages (4.3.2)\n",
            "Requirement already satisfied: numpy>=1.18.5 in /usr/local/lib/python3.10/dist-packages (from gensim) (1.25.2)\n",
            "Requirement already satisfied: scipy>=1.7.0 in /usr/local/lib/python3.10/dist-packages (from gensim) (1.11.4)\n",
            "Requirement already satisfied: smart-open>=1.8.1 in /usr/local/lib/python3.10/dist-packages (from gensim) (7.0.4)\n",
            "Requirement already satisfied: wrapt in /usr/local/lib/python3.10/dist-packages (from smart-open>=1.8.1->gensim) (1.14.1)\n"
          ]
        }
      ],
      "source": [
        "!pip install --upgrade gensim"
      ]
    },
    {
      "cell_type": "code",
      "source": [
        "!pip install nltk\n",
        "!pip install pyLDAvis"
      ],
      "metadata": {
        "colab": {
          "base_uri": "https://localhost:8080/"
        },
        "id": "Yo9GeHO6-GTr",
        "outputId": "4590fc23-d901-40bf-9c40-05718d4cfb35"
      },
      "execution_count": 2,
      "outputs": [
        {
          "output_type": "stream",
          "name": "stdout",
          "text": [
            "Requirement already satisfied: nltk in /usr/local/lib/python3.10/dist-packages (3.8.1)\n",
            "Requirement already satisfied: click in /usr/local/lib/python3.10/dist-packages (from nltk) (8.1.7)\n",
            "Requirement already satisfied: joblib in /usr/local/lib/python3.10/dist-packages (from nltk) (1.4.2)\n",
            "Requirement already satisfied: regex>=2021.8.3 in /usr/local/lib/python3.10/dist-packages (from nltk) (2024.5.15)\n",
            "Requirement already satisfied: tqdm in /usr/local/lib/python3.10/dist-packages (from nltk) (4.66.4)\n",
            "Collecting pyLDAvis\n",
            "  Downloading pyLDAvis-3.4.1-py3-none-any.whl (2.6 MB)\n",
            "\u001b[2K     \u001b[90m━━━━━━━━━━━━━━━━━━━━━━━━━━━━━━━━━━━━━━━━\u001b[0m \u001b[32m2.6/2.6 MB\u001b[0m \u001b[31m21.1 MB/s\u001b[0m eta \u001b[36m0:00:00\u001b[0m\n",
            "\u001b[?25hRequirement already satisfied: numpy>=1.24.2 in /usr/local/lib/python3.10/dist-packages (from pyLDAvis) (1.25.2)\n",
            "Requirement already satisfied: scipy in /usr/local/lib/python3.10/dist-packages (from pyLDAvis) (1.11.4)\n",
            "Requirement already satisfied: pandas>=2.0.0 in /usr/local/lib/python3.10/dist-packages (from pyLDAvis) (2.0.3)\n",
            "Requirement already satisfied: joblib>=1.2.0 in /usr/local/lib/python3.10/dist-packages (from pyLDAvis) (1.4.2)\n",
            "Requirement already satisfied: jinja2 in /usr/local/lib/python3.10/dist-packages (from pyLDAvis) (3.1.4)\n",
            "Requirement already satisfied: numexpr in /usr/local/lib/python3.10/dist-packages (from pyLDAvis) (2.10.1)\n",
            "Collecting funcy (from pyLDAvis)\n",
            "  Downloading funcy-2.0-py2.py3-none-any.whl (30 kB)\n",
            "Requirement already satisfied: scikit-learn>=1.0.0 in /usr/local/lib/python3.10/dist-packages (from pyLDAvis) (1.2.2)\n",
            "Requirement already satisfied: gensim in /usr/local/lib/python3.10/dist-packages (from pyLDAvis) (4.3.2)\n",
            "Requirement already satisfied: setuptools in /usr/local/lib/python3.10/dist-packages (from pyLDAvis) (67.7.2)\n",
            "Requirement already satisfied: python-dateutil>=2.8.2 in /usr/local/lib/python3.10/dist-packages (from pandas>=2.0.0->pyLDAvis) (2.8.2)\n",
            "Requirement already satisfied: pytz>=2020.1 in /usr/local/lib/python3.10/dist-packages (from pandas>=2.0.0->pyLDAvis) (2023.4)\n",
            "Requirement already satisfied: tzdata>=2022.1 in /usr/local/lib/python3.10/dist-packages (from pandas>=2.0.0->pyLDAvis) (2024.1)\n",
            "Requirement already satisfied: threadpoolctl>=2.0.0 in /usr/local/lib/python3.10/dist-packages (from scikit-learn>=1.0.0->pyLDAvis) (3.5.0)\n",
            "Requirement already satisfied: smart-open>=1.8.1 in /usr/local/lib/python3.10/dist-packages (from gensim->pyLDAvis) (7.0.4)\n",
            "Requirement already satisfied: MarkupSafe>=2.0 in /usr/local/lib/python3.10/dist-packages (from jinja2->pyLDAvis) (2.1.5)\n",
            "Requirement already satisfied: six>=1.5 in /usr/local/lib/python3.10/dist-packages (from python-dateutil>=2.8.2->pandas>=2.0.0->pyLDAvis) (1.16.0)\n",
            "Requirement already satisfied: wrapt in /usr/local/lib/python3.10/dist-packages (from smart-open>=1.8.1->gensim->pyLDAvis) (1.14.1)\n",
            "Installing collected packages: funcy, pyLDAvis\n",
            "Successfully installed funcy-2.0 pyLDAvis-3.4.1\n"
          ]
        }
      ]
    },
    {
      "cell_type": "markdown",
      "source": [
        "## import libraries"
      ],
      "metadata": {
        "id": "sw8zm23D-Yuj"
      }
    },
    {
      "cell_type": "code",
      "source": [
        "import nltk\n",
        "nltk.download(\"stopwords\")"
      ],
      "metadata": {
        "id": "_Z4hMas0_P79",
        "colab": {
          "base_uri": "https://localhost:8080/"
        },
        "outputId": "b1b6c1b7-7b4c-4024-9624-833f31692dbb"
      },
      "execution_count": 3,
      "outputs": [
        {
          "output_type": "stream",
          "name": "stderr",
          "text": [
            "[nltk_data] Downloading package stopwords to /root/nltk_data...\n",
            "[nltk_data]   Unzipping corpora/stopwords.zip.\n"
          ]
        },
        {
          "output_type": "execute_result",
          "data": {
            "text/plain": [
              "True"
            ]
          },
          "metadata": {},
          "execution_count": 3
        }
      ]
    },
    {
      "cell_type": "code",
      "source": [
        "import numpy as np\n",
        "import json\n",
        "import glob\n",
        "\n",
        "#gensim\n",
        "import gensim\n",
        "import gensim.corpora as copora\n",
        "from gensim.utils import simple_preprocess\n",
        "from gensim.models import CoherenceModel\n",
        "\n",
        "#spacy\n",
        "import spacy\n",
        "from nltk.corpus import stopwords\n",
        "\n",
        "#vis\n",
        "import pyLDAvis\n",
        "import pyLDAvis.gensim\n",
        "\n",
        "import warnings\n",
        "warnings.filterwarnings(\"ignore\", category=DeprecationWarning)"
      ],
      "metadata": {
        "id": "m82r5Dwe-d-t"
      },
      "execution_count": 4,
      "outputs": []
    },
    {
      "cell_type": "markdown",
      "source": [
        "## Data Prep"
      ],
      "metadata": {
        "id": "PnBvfvKNBWhG"
      }
    },
    {
      "cell_type": "code",
      "source": [
        "def laod_data(file):\n",
        "  with open (file, \"r\", encoding=\"utf-8\") as f:\n",
        "    data = json.load(f)\n",
        "  return (data)\n",
        "\n",
        "def write_data(file, data):\n",
        "  with open (file, \"w\", encoding=\"utf-8\") as f:\n",
        "    json.dump(data, f, indent=4)"
      ],
      "metadata": {
        "id": "z5sfI_fTBYmb"
      },
      "execution_count": 5,
      "outputs": []
    },
    {
      "cell_type": "code",
      "source": [
        "stopwords = stopwords.words(\"english\")\n",
        "print(stopwords)"
      ],
      "metadata": {
        "colab": {
          "base_uri": "https://localhost:8080/"
        },
        "id": "_BElnCEgCJEA",
        "outputId": "485481ac-0553-4175-91de-3897847dbbc2"
      },
      "execution_count": 6,
      "outputs": [
        {
          "output_type": "stream",
          "name": "stdout",
          "text": [
            "['i', 'me', 'my', 'myself', 'we', 'our', 'ours', 'ourselves', 'you', \"you're\", \"you've\", \"you'll\", \"you'd\", 'your', 'yours', 'yourself', 'yourselves', 'he', 'him', 'his', 'himself', 'she', \"she's\", 'her', 'hers', 'herself', 'it', \"it's\", 'its', 'itself', 'they', 'them', 'their', 'theirs', 'themselves', 'what', 'which', 'who', 'whom', 'this', 'that', \"that'll\", 'these', 'those', 'am', 'is', 'are', 'was', 'were', 'be', 'been', 'being', 'have', 'has', 'had', 'having', 'do', 'does', 'did', 'doing', 'a', 'an', 'the', 'and', 'but', 'if', 'or', 'because', 'as', 'until', 'while', 'of', 'at', 'by', 'for', 'with', 'about', 'against', 'between', 'into', 'through', 'during', 'before', 'after', 'above', 'below', 'to', 'from', 'up', 'down', 'in', 'out', 'on', 'off', 'over', 'under', 'again', 'further', 'then', 'once', 'here', 'there', 'when', 'where', 'why', 'how', 'all', 'any', 'both', 'each', 'few', 'more', 'most', 'other', 'some', 'such', 'no', 'nor', 'not', 'only', 'own', 'same', 'so', 'than', 'too', 'very', 's', 't', 'can', 'will', 'just', 'don', \"don't\", 'should', \"should've\", 'now', 'd', 'll', 'm', 'o', 're', 've', 'y', 'ain', 'aren', \"aren't\", 'couldn', \"couldn't\", 'didn', \"didn't\", 'doesn', \"doesn't\", 'hadn', \"hadn't\", 'hasn', \"hasn't\", 'haven', \"haven't\", 'isn', \"isn't\", 'ma', 'mightn', \"mightn't\", 'mustn', \"mustn't\", 'needn', \"needn't\", 'shan', \"shan't\", 'shouldn', \"shouldn't\", 'wasn', \"wasn't\", 'weren', \"weren't\", 'won', \"won't\", 'wouldn', \"wouldn't\"]\n"
          ]
        }
      ]
    },
    {
      "cell_type": "code",
      "source": [
        "data = laod_data(\"/content/open_answers_and_comments.json\")[\"answers\"]\n",
        "\n",
        "print(data[0][0:90])"
      ],
      "metadata": {
        "colab": {
          "base_uri": "https://localhost:8080/"
        },
        "id": "X-9h7Nl-2Kfn",
        "outputId": "0e8dee8c-2546-4593-b98c-ea89a84a6ab9"
      },
      "execution_count": 10,
      "outputs": [
        {
          "output_type": "stream",
          "name": "stdout",
          "text": [
            "How to test if string exists in file with Bash?\n"
          ]
        }
      ]
    },
    {
      "cell_type": "code",
      "source": [
        "def lemmatization(texts, allowed_postags=[\"NOUN\", \"ADJ\", \"VERB\", \"ADV\"]):\n",
        "  nlp = spacy.load(\"en_core_web_sm\", disable=[\"parser\", \"ner\"])\n",
        "  texts_out = []\n",
        "  for text in texts:\n",
        "    doc = nlp(text)\n",
        "    new_text = []\n",
        "    for token in doc:\n",
        "      if token.pos_ in allowed_postags:\n",
        "        new_text.append(token.lemma_)\n",
        "    final = \" \".join(new_text)\n",
        "    texts_out.append(final)\n",
        "  return(texts_out)\n",
        "\n",
        "lemmatized_text = lemmatization(data)\n",
        "print(lemmatized_text[0][0:90])"
      ],
      "metadata": {
        "colab": {
          "base_uri": "https://localhost:8080/"
        },
        "id": "mb98sB2K2f6D",
        "outputId": "07bac2b6-fd27-4de4-dfed-86aa1d75c775"
      },
      "execution_count": 11,
      "outputs": [
        {
          "output_type": "stream",
          "name": "stdout",
          "text": [
            "test string exist file\n"
          ]
        }
      ]
    },
    {
      "cell_type": "code",
      "source": [
        "def gen_words(texts):\n",
        "  final = []\n",
        "  for text in texts:\n",
        "    new = gensim.utils.simple_preprocess(text, deacc=True)\n",
        "    final.append(new)\n",
        "  return (final)\n",
        "\n",
        "data_words = gen_words(lemmatized_text)\n",
        "\n",
        "print(data_words[0][0:30])"
      ],
      "metadata": {
        "colab": {
          "base_uri": "https://localhost:8080/"
        },
        "id": "EC3E8hP25MWn",
        "outputId": "959824e2-599a-48f0-a54e-35de2f4730d9"
      },
      "execution_count": 12,
      "outputs": [
        {
          "output_type": "stream",
          "name": "stdout",
          "text": [
            "['test', 'string', 'exist', 'file']\n"
          ]
        }
      ]
    },
    {
      "cell_type": "code",
      "source": [
        "id2word = gensim.corpora.Dictionary(data_words)\n",
        "\n",
        "corpus = []\n",
        "\n",
        "for text in data_words:\n",
        "  new = id2word.doc2bow(text) # bow -> bag of words\n",
        "  corpus.append(new)\n",
        "\n",
        "print(corpus[0][0:20]) #each tuple contains index of the word along with the frequency of that word."
      ],
      "metadata": {
        "colab": {
          "base_uri": "https://localhost:8080/"
        },
        "id": "RO0VI9wB_Cju",
        "outputId": "522e0228-72b8-48db-d18e-51b9a7269f89"
      },
      "execution_count": 13,
      "outputs": [
        {
          "output_type": "stream",
          "name": "stdout",
          "text": [
            "[(0, 1), (1, 1), (2, 1), (3, 1)]\n"
          ]
        }
      ]
    },
    {
      "cell_type": "code",
      "source": [
        "lda = gensim.models.ldamodel.LdaModel(corpus=corpus,\n",
        "                                    id2word=id2word,\n",
        "                                    num_topics=10,\n",
        "                                    random_state=100,\n",
        "                                    update_every=1,\n",
        "                                    chunksize=100,\n",
        "                                    passes=10,\n",
        "                                    alpha=\"auto\")"
      ],
      "metadata": {
        "id": "6KSIixmGA6gW"
      },
      "execution_count": 14,
      "outputs": []
    },
    {
      "cell_type": "markdown",
      "source": [
        "## Visualization of Data"
      ],
      "metadata": {
        "id": "evp4uPlUIGy3"
      }
    },
    {
      "cell_type": "code",
      "source": [
        "pyLDAvis.enable_notebook()\n",
        "vis = pyLDAvis.gensim.prepare(lda, corpus, id2word, mds=\"mmds\", R=9)\n",
        "vis"
      ],
      "metadata": {
        "colab": {
          "base_uri": "https://localhost:8080/",
          "height": 897
        },
        "id": "UOHcDtbKIM8k",
        "outputId": "df8fc54f-482a-4bc7-dcaf-672dfaae2d67"
      },
      "execution_count": 15,
      "outputs": [
        {
          "output_type": "stream",
          "name": "stderr",
          "text": [
            "/usr/local/lib/python3.10/dist-packages/sklearn/manifold/_mds.py:299: FutureWarning: The default value of `normalized_stress` will change to `'auto'` in version 1.4. To suppress this warning, manually set the value of `normalized_stress`.\n",
            "  warnings.warn(\n"
          ]
        },
        {
          "output_type": "execute_result",
          "data": {
            "text/plain": [
              "PreparedData(topic_coordinates=              x         y  topics  cluster       Freq\n",
              "topic                                                \n",
              "9      0.394676  0.247155       1        1  18.692730\n",
              "6      0.135851  0.438302       2        1  16.544697\n",
              "3     -0.309050 -0.236964       3        1  12.371336\n",
              "1     -0.231317  0.428792       4        1  11.788542\n",
              "8      0.215566 -0.428632       5        1  11.144580\n",
              "0     -0.223708  0.192233       6        1  10.585790\n",
              "2     -0.121365 -0.444902       7        1   7.285241\n",
              "4     -0.490007 -0.010458       8        1   5.381707\n",
              "5      0.167656 -0.074100       9        1   3.174185\n",
              "7      0.461697 -0.111427      10        1   3.031191, topic_info=         Term          Freq         Total Category  logprob  loglift\n",
              "18        use  20690.000000  20690.000000  Default   9.0000   9.0000\n",
              "145  function  14272.000000  14272.000000  Default   8.0000   8.0000\n",
              "62      error   5078.000000   5078.000000  Default   7.0000   7.0000\n",
              "14      check   7329.000000   7329.000000  Default   6.0000   6.0000\n",
              "188     other   4887.000000   4887.000000  Default   5.0000   5.0000\n",
              "..        ...           ...           ...      ...      ...      ...\n",
              "252     super   1514.361455   1515.285632  Topic10  -2.9143   3.4956\n",
              "251      hole   1476.285087   1477.209264  Topic10  -2.9397   3.4956\n",
              "250  extremal   1476.284255   1477.208432  Topic10  -2.9397   3.4956\n",
              "219    ground   1435.044268   1435.968450  Topic10  -2.9681   3.4956\n",
              "129    become   1505.638233   3842.446326  Topic10  -2.9200   2.5593\n",
              "\n",
              "[104 rows x 6 columns], token_table=      Topic      Freq      Term\n",
              "term                           \n",
              "397       4  0.999646    access\n",
              "328       8  0.999380  argument\n",
              "556       4  0.999771     array\n",
              "1892      6  0.999345       bar\n",
              "129       1  0.260771    become\n",
              "...     ...       ...       ...\n",
              "383       8  0.999691     valid\n",
              "13        4  0.999903     value\n",
              "38        2  0.999857  variable\n",
              "150       5  0.999624       way\n",
              "554       5  0.999797      work\n",
              "\n",
              "[99 rows x 3 columns], R=9, lambda_step=0.01, plot_opts={'xlab': 'PC1', 'ylab': 'PC2'}, topic_order=[10, 7, 4, 2, 9, 1, 3, 5, 6, 8])"
            ],
            "text/html": [
              "\n",
              "<link rel=\"stylesheet\" type=\"text/css\" href=\"https://cdn.jsdelivr.net/gh/bmabey/pyLDAvis@3.4.0/pyLDAvis/js/ldavis.v1.0.0.css\">\n",
              "\n",
              "\n",
              "<div id=\"ldavis_el2081400518212244329465323992\" style=\"background-color:white;\"></div>\n",
              "<script type=\"text/javascript\">\n",
              "\n",
              "var ldavis_el2081400518212244329465323992_data = {\"mdsDat\": {\"x\": [0.39467560144586594, 0.13585139914211714, -0.3090503046408597, -0.23131704303262463, 0.2155664542749614, -0.22370788584661727, -0.12136483829915755, -0.4900066703000149, 0.16765594335839484, 0.4616973438979347], \"y\": [0.24715450429405994, 0.4383024232446756, -0.23696397030136926, 0.4287924587220328, -0.42863157518131445, 0.1922328586920424, -0.4449021848774978, -0.010458290233388248, -0.07409968350554333, -0.1114265408536974], \"topics\": [1, 2, 3, 4, 5, 6, 7, 8, 9, 10], \"cluster\": [1, 1, 1, 1, 1, 1, 1, 1, 1, 1], \"Freq\": [18.69273025573501, 16.544697203939243, 12.371335622043587, 11.78854218964673, 11.144580279939081, 10.585789614673196, 7.285241468616313, 5.381707034458525, 3.1741853557398865, 3.0311909752084256]}, \"tinfo\": {\"Term\": [\"use\", \"function\", \"error\", \"check\", \"other\", \"value\", \"color\", \"get\", \"type\", \"string\", \"so\", \"equation\", \"file\", \"professor\", \"space\", \"difference\", \"run\", \"many\", \"check\", \"class\", \"number\", \"variable\", \"element\", \"object\", \"order\", \"know\", \"list\", \"later\", \"model\", \"point\", \"program\", \"create\", \"one\", \"old\", \"review\", \"diagram\", \"value\", \"get\", \"array\", \"find\", \"seem\", \"cause\", \"launch\", \"implement\", \"access\", \"use\", \"function\", \"work\", \"way\", \"loop\", \"set\", \"correct\", \"close\", \"understand\", \"unable\", \"type\", \"partition\", \"thing\", \"turn\", \"javascript\", \"reason\", \"bar\", \"mean\", \"table\", \"time\", \"use\", \"error\", \"other\", \"read\", \"hard\", \"bike\", \"pass\", \"resize\", \"static\", \"range\", \"valid\", \"email\", \"passport\", \"theorem\", \"argument\", \"remove\", \"name\", \"proof\", \"card\", \"color\", \"extra\", \"cost\", \"modulator\", \"rf\", \"option\", \"more\", \"center\", \"draw\", \"much\", \"transfer\", \"black\", \"connect\", \"experiment\", \"choice\", \"super\", \"hole\", \"extremal\", \"ground\", \"become\"], \"Freq\": [20690.0, 14272.0, 5078.0, 7329.0, 4887.0, 5731.0, 3500.0, 5429.0, 5077.0, 5346.96707408201, 4595.471946232802, 3442.1732374486146, 3355.0890664347658, 3184.0547065891706, 3035.0223575382383, 2703.107252687109, 2642.0864742684275, 2613.865402443517, 7328.232499055796, 5688.318884627246, 4357.955657536023, 4351.667172019563, 4096.0664614507505, 4067.2988256858857, 3553.4044477609254, 3126.5778926598437, 3070.8917583001703, 2501.636232950472, 2438.9953018148562, 2386.7947381012955, 2360.482117342522, 2222.972038663336, 2167.4738019271117, 2088.473543211824, 2016.1694411150236, 1950.822117497428, 5730.597361827091, 5428.10904096675, 3934.9440576601523, 3504.0980893553738, 3151.9273407268847, 3150.5505258993107, 2297.106535225089, 2141.4562842178993, 1857.7013815578832, 8485.236977792543, 14271.882760022814, 4160.894513137155, 3191.249966677765, 3072.502424973514, 3021.722247601224, 2607.713260942144, 1780.6428131095076, 1651.032186142549, 1648.8186167173283, 5076.512934769082, 2916.595156980097, 2488.8267510465353, 2393.6136924735365, 2301.9469456433353, 2046.927578555694, 1830.2506187711842, 1776.5240321880776, 1754.626719425133, 2737.2078613005933, 12204.835982788494, 5077.544463903534, 4886.701804261918, 4244.372105362535, 3308.24138499239, 3281.2457475135175, 2321.224887812996, 2198.7414312580436, 1853.313752705002, 1824.1679626928583, 2595.852285323244, 2414.066328564204, 2374.696485110767, 2328.087494727742, 2048.3211014544595, 1741.1600626609486, 1349.5832401204786, 1320.1030814005, 1314.832842102852, 3499.3238506736525, 3130.62655642975, 2198.692510504244, 2173.123621159128, 2173.123621159128, 1455.4695142955368, 1194.4259611584155, 1093.2379550140247, 1072.7412190554137, 2245.080393379325, 1648.5431233197862, 1558.264605160528, 1556.3056348142604, 1538.3937859171165, 1538.3937859171165, 1514.361454705371, 1476.285086614834, 1476.2842546036443, 1435.04426796548, 1505.6382333864324], \"Total\": [20690.0, 14272.0, 5078.0, 7329.0, 4887.0, 5731.0, 3500.0, 5429.0, 5077.0, 5347.924604710886, 4596.429448915716, 3443.131084150184, 3356.0465564203755, 3185.0121330074912, 3035.9797966575393, 2704.064704693386, 2643.0439550696515, 2614.822955979325, 7329.189452788297, 5689.275879223034, 4358.912800359047, 4352.62422874415, 4097.023553087839, 4068.2558464413787, 3554.3614196726626, 3127.534825957941, 3071.8487384523582, 2502.6029397656707, 2439.9619776288337, 2387.761455875464, 2361.448855068179, 2223.9387896343806, 2168.4405428249006, 2089.440274652553, 2017.1360918520234, 1951.7887514758786, 5731.553953853523, 5429.065632899039, 3935.900629505405, 3505.0546173584867, 3152.8839968669186, 3151.5070209705086, 2298.063053506854, 2142.412882024913, 1858.657913301083, 20690.92435679556, 14272.831690435109, 4161.843462588191, 3192.198874215566, 3073.451321180015, 3022.6711812883636, 2608.662299727648, 1781.591698292411, 1651.981131210349, 1649.7675684521828, 5077.4621640587575, 2917.5450781851346, 2489.775927127668, 2394.5632251926127, 2302.896223018526, 2047.8769430784691, 1831.199833509268, 1777.4732129209872, 1755.5759000715668, 2774.491371548668, 20690.92435679556, 5078.470025025415, 4887.627407504493, 4245.2976606135235, 3309.1669289663837, 3282.17128802092, 2322.150522700583, 2199.667360173456, 1854.239361741552, 1825.093515026854, 2596.801562174147, 2415.015604407737, 2375.645759086755, 2329.036787944484, 2049.270484799983, 1742.109354454681, 1350.5325646255485, 1321.052575701405, 1315.7821151265996, 3500.27891309918, 3131.581605997067, 2199.64755678628, 2174.078667114077, 2174.078667114077, 1456.4245887976854, 1195.3810124419374, 1094.1930017556654, 1073.696388825873, 2258.9894610465344, 1649.4673104011888, 1559.188784231958, 1557.2298240625003, 1539.320376797003, 1539.3209675607486, 1515.285632261519, 1477.209263954843, 1477.2084319436533, 1435.968449870222, 3842.446325848414], \"Category\": [\"Default\", \"Default\", \"Default\", \"Default\", \"Default\", \"Default\", \"Default\", \"Default\", \"Default\", \"Topic1\", \"Topic1\", \"Topic1\", \"Topic1\", \"Topic1\", \"Topic1\", \"Topic1\", \"Topic1\", \"Topic1\", \"Topic2\", \"Topic2\", \"Topic2\", \"Topic2\", \"Topic2\", \"Topic2\", \"Topic2\", \"Topic2\", \"Topic2\", \"Topic3\", \"Topic3\", \"Topic3\", \"Topic3\", \"Topic3\", \"Topic3\", \"Topic3\", \"Topic3\", \"Topic3\", \"Topic4\", \"Topic4\", \"Topic4\", \"Topic4\", \"Topic4\", \"Topic4\", \"Topic4\", \"Topic4\", \"Topic4\", \"Topic4\", \"Topic5\", \"Topic5\", \"Topic5\", \"Topic5\", \"Topic5\", \"Topic5\", \"Topic5\", \"Topic5\", \"Topic5\", \"Topic6\", \"Topic6\", \"Topic6\", \"Topic6\", \"Topic6\", \"Topic6\", \"Topic6\", \"Topic6\", \"Topic6\", \"Topic6\", \"Topic6\", \"Topic7\", \"Topic7\", \"Topic7\", \"Topic7\", \"Topic7\", \"Topic7\", \"Topic7\", \"Topic7\", \"Topic7\", \"Topic8\", \"Topic8\", \"Topic8\", \"Topic8\", \"Topic8\", \"Topic8\", \"Topic8\", \"Topic8\", \"Topic8\", \"Topic9\", \"Topic9\", \"Topic9\", \"Topic9\", \"Topic9\", \"Topic9\", \"Topic9\", \"Topic9\", \"Topic9\", \"Topic9\", \"Topic10\", \"Topic10\", \"Topic10\", \"Topic10\", \"Topic10\", \"Topic10\", \"Topic10\", \"Topic10\", \"Topic10\", \"Topic10\"], \"logprob\": [9.0, 8.0, 7.0, 6.0, 5.0, 4.0, 3.0, 2.0, 1.0, -3.4719, -3.6234, -3.9123, -3.938, -3.9903, -4.0382, -4.154, -4.1769, -4.1876, -3.0346, -3.288, -3.5544, -3.5558, -3.6163, -3.6234, -3.7585, -3.8864, -3.9044, -3.8187, -3.8441, -3.8657, -3.8768, -3.9368, -3.9621, -3.9993, -4.0345, -4.0674, -2.9416, -2.9958, -3.3175, -3.4335, -3.5394, -3.5399, -3.8558, -3.9259, -4.0681, -2.5491, -1.973, -3.2055, -3.4708, -3.5088, -3.5254, -3.6728, -4.0543, -4.1299, -4.1312, -2.9552, -3.5094, -3.668, -3.707, -3.7461, -3.8635, -3.9754, -4.0052, -4.0176, -3.5729, -2.078, -2.5813, -2.6196, -2.7606, -3.0097, -3.0179, -3.3641, -3.4183, -3.5892, -3.605, -2.9494, -3.022, -3.0384, -3.0583, -3.1863, -3.3488, -3.6035, -3.6256, -3.6296, -2.1228, -2.2341, -2.5875, -2.5992, -2.5992, -3.0, -3.1977, -3.2862, -3.3051, -2.5666, -2.8294, -2.8857, -2.8869, -2.8985, -2.8985, -2.9143, -2.9397, -2.9397, -2.9681, -2.92], \"loglift\": [9.0, 8.0, 7.0, 6.0, 5.0, 4.0, 3.0, 2.0, 1.0, 1.6769, 1.6768, 1.6768, 1.6768, 1.6767, 1.6767, 1.6767, 1.6767, 1.6767, 1.799, 1.7989, 1.7989, 1.7989, 1.7989, 1.7989, 1.7988, 1.7988, 1.7988, 2.0894, 2.0894, 2.0894, 2.0894, 2.0894, 2.0893, 2.0893, 2.0893, 2.0893, 2.1379, 2.1379, 2.1378, 2.1378, 2.1377, 2.1377, 2.1376, 2.1376, 2.1375, 1.2467, 2.1942, 2.194, 2.1939, 2.1939, 2.1939, 2.1939, 2.1937, 2.1936, 2.1936, 2.2455, 2.2453, 2.2453, 2.2453, 2.2452, 2.2452, 2.2451, 2.2451, 2.2451, 2.2321, 1.7178, 2.6191, 2.6191, 2.6191, 2.619, 2.619, 2.6189, 2.6189, 2.6188, 2.6188, 2.9218, 2.9218, 2.9218, 2.9218, 2.9217, 2.9216, 2.9215, 2.9214, 2.9214, 3.4498, 3.4498, 3.4497, 3.4497, 3.4497, 3.4495, 3.4493, 3.4492, 3.4492, 3.4439, 3.4957, 3.4956, 3.4956, 3.4956, 3.4956, 3.4956, 3.4956, 3.4956, 3.4956, 2.5593]}, \"token.table\": {\"Topic\": [4, 8, 4, 6, 1, 5, 10, 7, 10, 8, 4, 9, 2, 10, 2, 5, 9, 10, 5, 9, 3, 3, 1, 9, 2, 8, 1, 7, 10, 9, 10, 1, 4, 5, 4, 10, 7, 10, 4, 6, 2, 3, 4, 2, 5, 1, 6, 3, 9, 9, 9, 10, 8, 2, 2, 3, 3, 9, 2, 7, 6, 7, 8, 3, 1, 3, 8, 7, 7, 6, 8, 7, 3, 9, 1, 4, 5, 1, 1, 7, 1, 10, 6, 8, 6, 6, 7, 10, 6, 6, 5, 5, 4, 6, 8, 4, 2, 5, 5], \"Freq\": [0.9996460277620886, 0.9993800306941389, 0.9997711757510712, 0.9993447828645939, 0.2607713719407019, 0.3471746608472019, 0.39193781052165366, 0.9996431362296065, 0.9992375623503837, 0.9994055891795396, 0.9998391179308391, 0.998909697143236, 0.9998377101866504, 0.9991418504726524, 0.9997757396107836, 0.9996678822128673, 0.9996346253738827, 0.9992102488383559, 0.9997461151917911, 0.9997056088443432, 0.9995778707405275, 0.9995958827638072, 0.9996062576862388, 0.9993514099207927, 0.9997501715392708, 0.9995794625898551, 0.9996714954724231, 0.999907447514094, 0.9991422339255, 0.9998142772342405, 0.9991819489264198, 0.9996881579552663, 0.9996991152853186, 0.9999417291219327, 0.999803717071943, 0.999325577194743, 0.9996473647321418, 0.9991813861554012, 0.9993405183301654, 0.9996108278742359, 0.9998289944036748, 0.9997590749391003, 0.9995374132553797, 0.999723704347244, 0.9998531549281732, 0.9996852727725053, 0.9997337721223886, 0.9996057407297106, 0.9995038509275708, 0.9988447094043127, 0.9938072039344295, 0.005754785590711618, 0.9996056632475974, 0.9997905899014609, 0.9996913059333579, 0.9993106887667357, 0.999335677969282, 0.9990218588668148, 0.999616972076861, 0.9998716335243701, 0.9998131723176412, 0.9995045443052308, 0.9997281753458886, 0.9996811005246817, 0.9996822200465103, 0.9993864550294751, 0.9992032295150357, 0.9994008443853147, 0.9996943298874982, 0.9995717794072377, 0.9993632119293521, 0.9996966085938542, 0.9994367797707787, 0.9995038509275708, 0.9996050178932329, 0.9997196227746415, 0.9997779509420281, 0.9996890088422757, 0.9996772716805896, 0.9993316063895936, 0.9998271096211656, 0.9991515578092032, 0.9996719594569832, 0.9995548426071025, 0.9996883546349637, 0.9864871190686957, 0.012975351219025592, 0.9997166901106544, 0.9997647900098493, 0.9999089773505297, 0.9995347414588208, 0.9994060881254556, 0.4100831772270848, 0.5898721482683053, 0.9996913271364963, 0.9999033501458796, 0.9998565856569864, 0.9996244362388417, 0.9997973343793987], \"Term\": [\"access\", \"argument\", \"array\", \"bar\", \"become\", \"become\", \"become\", \"bike\", \"black\", \"card\", \"cause\", \"center\", \"check\", \"choice\", \"class\", \"close\", \"color\", \"connect\", \"correct\", \"cost\", \"create\", \"diagram\", \"difference\", \"draw\", \"element\", \"email\", \"equation\", \"error\", \"experiment\", \"extra\", \"extremal\", \"file\", \"find\", \"function\", \"get\", \"ground\", \"hard\", \"hole\", \"implement\", \"javascript\", \"know\", \"later\", \"launch\", \"list\", \"loop\", \"many\", \"mean\", \"model\", \"modulator\", \"more\", \"much\", \"much\", \"name\", \"number\", \"object\", \"old\", \"one\", \"option\", \"order\", \"other\", \"partition\", \"pass\", \"passport\", \"point\", \"professor\", \"program\", \"proof\", \"range\", \"read\", \"reason\", \"remove\", \"resize\", \"review\", \"rf\", \"run\", \"seem\", \"set\", \"so\", \"space\", \"static\", \"string\", \"super\", \"table\", \"theorem\", \"thing\", \"time\", \"time\", \"transfer\", \"turn\", \"type\", \"unable\", \"understand\", \"use\", \"use\", \"valid\", \"value\", \"variable\", \"way\", \"work\"]}, \"R\": 9, \"lambda.step\": 0.01, \"plot.opts\": {\"xlab\": \"PC1\", \"ylab\": \"PC2\"}, \"topic.order\": [10, 7, 4, 2, 9, 1, 3, 5, 6, 8]};\n",
              "\n",
              "function LDAvis_load_lib(url, callback){\n",
              "  var s = document.createElement('script');\n",
              "  s.src = url;\n",
              "  s.async = true;\n",
              "  s.onreadystatechange = s.onload = callback;\n",
              "  s.onerror = function(){console.warn(\"failed to load library \" + url);};\n",
              "  document.getElementsByTagName(\"head\")[0].appendChild(s);\n",
              "}\n",
              "\n",
              "if(typeof(LDAvis) !== \"undefined\"){\n",
              "   // already loaded: just create the visualization\n",
              "   !function(LDAvis){\n",
              "       new LDAvis(\"#\" + \"ldavis_el2081400518212244329465323992\", ldavis_el2081400518212244329465323992_data);\n",
              "   }(LDAvis);\n",
              "}else if(typeof define === \"function\" && define.amd){\n",
              "   // require.js is available: use it to load d3/LDAvis\n",
              "   require.config({paths: {d3: \"https://d3js.org/d3.v5\"}});\n",
              "   require([\"d3\"], function(d3){\n",
              "      window.d3 = d3;\n",
              "      LDAvis_load_lib(\"https://cdn.jsdelivr.net/gh/bmabey/pyLDAvis@3.4.0/pyLDAvis/js/ldavis.v3.0.0.js\", function(){\n",
              "        new LDAvis(\"#\" + \"ldavis_el2081400518212244329465323992\", ldavis_el2081400518212244329465323992_data);\n",
              "      });\n",
              "    });\n",
              "}else{\n",
              "    // require.js not available: dynamically load d3 & LDAvis\n",
              "    LDAvis_load_lib(\"https://d3js.org/d3.v5.js\", function(){\n",
              "         LDAvis_load_lib(\"https://cdn.jsdelivr.net/gh/bmabey/pyLDAvis@3.4.0/pyLDAvis/js/ldavis.v3.0.0.js\", function(){\n",
              "                 new LDAvis(\"#\" + \"ldavis_el2081400518212244329465323992\", ldavis_el2081400518212244329465323992_data);\n",
              "            })\n",
              "         });\n",
              "}\n",
              "</script>"
            ]
          },
          "metadata": {},
          "execution_count": 15
        }
      ]
    },
    {
      "cell_type": "code",
      "source": [
        "print('\\nPerplexity: ', lda.log_perplexity(corpus,total_docs=10000))  # a measure of how good the model is. lower the better.\n",
        "\n",
        "# Compute Coherence Score\n",
        "coherence_model_lda = CoherenceModel(model=lda, texts=data_words, dictionary=id2word, coherence='c_v')\n",
        "coherence_lda = coherence_model_lda.get_coherence()\n",
        "print('\\nCoherence Score: ', coherence_lda)"
      ],
      "metadata": {
        "colab": {
          "base_uri": "https://localhost:8080/"
        },
        "id": "Xj0X43-NwLD7",
        "outputId": "2df50888-5067-4ebf-8425-4f4879b121a2"
      },
      "execution_count": 16,
      "outputs": [
        {
          "output_type": "stream",
          "name": "stdout",
          "text": [
            "\n",
            "Perplexity:  -8.993703884260169\n",
            "\n",
            "Coherence Score:  0.4521789121122451\n"
          ]
        }
      ]
    }
  ]
}