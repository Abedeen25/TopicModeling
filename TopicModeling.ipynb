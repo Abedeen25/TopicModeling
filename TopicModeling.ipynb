{
 "cells": [
  {
   "cell_type": "code",
   "execution_count": 1,
   "metadata": {},
   "outputs": [],
   "source": [
    "from bertopic import BERTopic\n",
    "import json\n",
    "import pandas as pd"
   ]
  },
  {
   "cell_type": "markdown",
   "metadata": {},
   "source": [
    "### Config"
   ]
  },
  {
   "cell_type": "code",
   "execution_count": 6,
   "metadata": {},
   "outputs": [],
   "source": [
    "access_file = \"open_answers_and_comments.json\"\n",
    "access_type = \"answers\""
   ]
  },
  {
   "cell_type": "code",
   "execution_count": 7,
   "metadata": {},
   "outputs": [
    {
     "data": {
      "text/plain": [
       "203605"
      ]
     },
     "execution_count": 7,
     "metadata": {},
     "output_type": "execute_result"
    }
   ],
   "source": [
    "with open(access_file, \"r\", encoding=\"utf-8\") as f:\n",
    "    docs = json.load(f)[access_type]\n",
    "\n",
    "len(docs)"
   ]
  },
  {
   "cell_type": "code",
   "execution_count": 8,
   "metadata": {},
   "outputs": [
    {
     "data": {
      "text/plain": [
       "'How to test if string exists in file with Bash?'"
      ]
     },
     "execution_count": 8,
     "metadata": {},
     "output_type": "execute_result"
    }
   ],
   "source": [
    "docs[0]"
   ]
  },
  {
   "cell_type": "code",
   "execution_count": 9,
   "metadata": {},
   "outputs": [],
   "source": [
    "topic_model = BERTopic(embedding_model=\"all-MiniLM-L6-v2\")"
   ]
  },
  {
   "cell_type": "code",
   "execution_count": 10,
   "metadata": {},
   "outputs": [],
   "source": [
    "topics, probs = topic_model.fit_transform(docs)"
   ]
  },
  {
   "cell_type": "code",
   "execution_count": 11,
   "metadata": {},
   "outputs": [
    {
     "data": {
      "text/html": [
       "<div>\n",
       "<style scoped>\n",
       "    .dataframe tbody tr th:only-of-type {\n",
       "        vertical-align: middle;\n",
       "    }\n",
       "\n",
       "    .dataframe tbody tr th {\n",
       "        vertical-align: top;\n",
       "    }\n",
       "\n",
       "    .dataframe thead th {\n",
       "        text-align: right;\n",
       "    }\n",
       "</style>\n",
       "<table border=\"1\" class=\"dataframe\">\n",
       "  <thead>\n",
       "    <tr style=\"text-align: right;\">\n",
       "      <th></th>\n",
       "      <th>Topic</th>\n",
       "      <th>Count</th>\n",
       "      <th>Name</th>\n",
       "      <th>Representation</th>\n",
       "      <th>Representative_Docs</th>\n",
       "    </tr>\n",
       "  </thead>\n",
       "  <tbody>\n",
       "    <tr>\n",
       "      <th>0</th>\n",
       "      <td>-1</td>\n",
       "      <td>25122</td>\n",
       "      <td>-1_commit_git_string_haskell</td>\n",
       "      <td>[commit, git, string, haskell, co, undergradua...</td>\n",
       "      <td>[Is the average person capable of adapting to ...</td>\n",
       "    </tr>\n",
       "    <tr>\n",
       "      <th>1</th>\n",
       "      <td>0</td>\n",
       "      <td>1217</td>\n",
       "      <td>0_websites_professors_date_out</td>\n",
       "      <td>[websites, professors, date, out, many, so, ar...</td>\n",
       "      <td>[Why are so many professors' websites out of d...</td>\n",
       "    </tr>\n",
       "    <tr>\n",
       "      <th>2</th>\n",
       "      <td>1</td>\n",
       "      <td>1212</td>\n",
       "      <td>1_steep_slope_plant_retain</td>\n",
       "      <td>[steep, slope, plant, retain, what, can, to, ,...</td>\n",
       "      <td>[What can I plant to retain a steep slope?, Wh...</td>\n",
       "    </tr>\n",
       "    <tr>\n",
       "      <th>3</th>\n",
       "      <td>2</td>\n",
       "      <td>1207</td>\n",
       "      <td>2_shut_vehicle_traffic_off</td>\n",
       "      <td>[shut, vehicle, traffic, off, will, turn, my, ...</td>\n",
       "      <td>[My vehicle shut off in traffic and will not t...</td>\n",
       "    </tr>\n",
       "    <tr>\n",
       "      <th>4</th>\n",
       "      <td>3</td>\n",
       "      <td>1206</td>\n",
       "      <td>3_satellites_temperature_operate_operating</td>\n",
       "      <td>[satellites, temperature, operate, operating, ...</td>\n",
       "      <td>[How do satellites operate below their operati...</td>\n",
       "    </tr>\n",
       "    <tr>\n",
       "      <th>...</th>\n",
       "      <td>...</td>\n",
       "      <td>...</td>\n",
       "      <td>...</td>\n",
       "      <td>...</td>\n",
       "      <td>...</td>\n",
       "    </tr>\n",
       "    <tr>\n",
       "      <th>2764</th>\n",
       "      <td>2763</td>\n",
       "      <td>10</td>\n",
       "      <td>2763_verification_email_registration_confirmation</td>\n",
       "      <td>[verification, email, registration, confirmati...</td>\n",
       "      <td>[Cannot call email verification link from brow...</td>\n",
       "    </tr>\n",
       "    <tr>\n",
       "      <th>2765</th>\n",
       "      <td>2764</td>\n",
       "      <td>10</td>\n",
       "      <td>2764_framework_versions_version_dll</td>\n",
       "      <td>[framework, versions, version, dll, net, decid...</td>\n",
       "      <td>[Using different versions c# and .NET Framewor...</td>\n",
       "    </tr>\n",
       "    <tr>\n",
       "      <th>2766</th>\n",
       "      <td>2765</td>\n",
       "      <td>10</td>\n",
       "      <td>2765_splitting_delimieters_spliting_tokens</td>\n",
       "      <td>[splitting, delimieters, spliting, tokens, del...</td>\n",
       "      <td>[splitting a string using words as delimieters...</td>\n",
       "    </tr>\n",
       "    <tr>\n",
       "      <th>2767</th>\n",
       "      <td>2766</td>\n",
       "      <td>10</td>\n",
       "      <td>2766_contains_contentequals_supplied_substring</td>\n",
       "      <td>[contains, contentequals, supplied, substring,...</td>\n",
       "      <td>[String.Contains not working as expected, Usin...</td>\n",
       "    </tr>\n",
       "    <tr>\n",
       "      <th>2768</th>\n",
       "      <td>2767</td>\n",
       "      <td>10</td>\n",
       "      <td>2767_nameof_analog_evaluated_allowed</td>\n",
       "      <td>[nameof, analog, evaluated, allowed, purpose, ...</td>\n",
       "      <td>[Expression vs nameof, How does nameof work?, ...</td>\n",
       "    </tr>\n",
       "  </tbody>\n",
       "</table>\n",
       "<p>2769 rows × 5 columns</p>\n",
       "</div>"
      ],
      "text/plain": [
       "      Topic  Count                                               Name  \\\n",
       "0        -1  25122                       -1_commit_git_string_haskell   \n",
       "1         0   1217                     0_websites_professors_date_out   \n",
       "2         1   1212                         1_steep_slope_plant_retain   \n",
       "3         2   1207                         2_shut_vehicle_traffic_off   \n",
       "4         3   1206         3_satellites_temperature_operate_operating   \n",
       "...     ...    ...                                                ...   \n",
       "2764   2763     10  2763_verification_email_registration_confirmation   \n",
       "2765   2764     10                2764_framework_versions_version_dll   \n",
       "2766   2765     10         2765_splitting_delimieters_spliting_tokens   \n",
       "2767   2766     10     2766_contains_contentequals_supplied_substring   \n",
       "2768   2767     10               2767_nameof_analog_evaluated_allowed   \n",
       "\n",
       "                                         Representation  \\\n",
       "0     [commit, git, string, haskell, co, undergradua...   \n",
       "1     [websites, professors, date, out, many, so, ar...   \n",
       "2     [steep, slope, plant, retain, what, can, to, ,...   \n",
       "3     [shut, vehicle, traffic, off, will, turn, my, ...   \n",
       "4     [satellites, temperature, operate, operating, ...   \n",
       "...                                                 ...   \n",
       "2764  [verification, email, registration, confirmati...   \n",
       "2765  [framework, versions, version, dll, net, decid...   \n",
       "2766  [splitting, delimieters, spliting, tokens, del...   \n",
       "2767  [contains, contentequals, supplied, substring,...   \n",
       "2768  [nameof, analog, evaluated, allowed, purpose, ...   \n",
       "\n",
       "                                    Representative_Docs  \n",
       "0     [Is the average person capable of adapting to ...  \n",
       "1     [Why are so many professors' websites out of d...  \n",
       "2     [What can I plant to retain a steep slope?, Wh...  \n",
       "3     [My vehicle shut off in traffic and will not t...  \n",
       "4     [How do satellites operate below their operati...  \n",
       "...                                                 ...  \n",
       "2764  [Cannot call email verification link from brow...  \n",
       "2765  [Using different versions c# and .NET Framewor...  \n",
       "2766  [splitting a string using words as delimieters...  \n",
       "2767  [String.Contains not working as expected, Usin...  \n",
       "2768  [Expression vs nameof, How does nameof work?, ...  \n",
       "\n",
       "[2769 rows x 5 columns]"
      ]
     },
     "execution_count": 11,
     "metadata": {},
     "output_type": "execute_result"
    }
   ],
   "source": [
    "topic_model.get_topic_info()"
   ]
  },
  {
   "cell_type": "code",
   "execution_count": 14,
   "metadata": {},
   "outputs": [
    {
     "data": {
      "text/plain": [
       "[('steep', 0.0633208828680266),\n",
       " ('slope', 0.0633208828680266),\n",
       " ('plant', 0.0633208828680266),\n",
       " ('retain', 0.0621611857045319),\n",
       " ('what', 0.006570643038244192),\n",
       " ('can', 0.00605250493042353),\n",
       " ('to', 0.0015001990905400757),\n",
       " ('', 1e-05),\n",
       " ('', 1e-05),\n",
       " ('', 1e-05)]"
      ]
     },
     "execution_count": 14,
     "metadata": {},
     "output_type": "execute_result"
    }
   ],
   "source": [
    "topic_model.get_topic(1)"
   ]
  },
  {
   "cell_type": "code",
   "execution_count": 18,
   "metadata": {},
   "outputs": [],
   "source": [
    "topic_model.get_topic_info().to_csv(\"Generated_Data/openness_answers.csv\", index=False)"
   ]
  },
  {
   "cell_type": "code",
   "execution_count": null,
   "metadata": {},
   "outputs": [],
   "source": [
    "topic_model.visualize_topics()"
   ]
  }
 ],
 "metadata": {
  "kernelspec": {
   "display_name": "base",
   "language": "python",
   "name": "python3"
  },
  "language_info": {
   "codemirror_mode": {
    "name": "ipython",
    "version": 3
   },
   "file_extension": ".py",
   "mimetype": "text/x-python",
   "name": "python",
   "nbconvert_exporter": "python",
   "pygments_lexer": "ipython3",
   "version": "3.9.7"
  }
 },
 "nbformat": 4,
 "nbformat_minor": 2
}
