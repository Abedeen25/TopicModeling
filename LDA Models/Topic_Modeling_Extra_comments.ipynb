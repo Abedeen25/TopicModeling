{
  "nbformat": 4,
  "nbformat_minor": 0,
  "metadata": {
    "colab": {
      "provenance": []
    },
    "kernelspec": {
      "name": "python3",
      "display_name": "Python 3"
    },
    "language_info": {
      "name": "python"
    }
  },
  "cells": [
    {
      "cell_type": "markdown",
      "source": [
        "# Topic Modeling (LDA)\n",
        "## Setup\n"
      ],
      "metadata": {
        "id": "oFOXHb0g9uVJ"
      }
    },
    {
      "cell_type": "code",
      "execution_count": 1,
      "metadata": {
        "colab": {
          "base_uri": "https://localhost:8080/"
        },
        "id": "unls0i3Q9iXV",
        "outputId": "37eed698-a102-4fd5-d735-ecf37757f511"
      },
      "outputs": [
        {
          "output_type": "stream",
          "name": "stdout",
          "text": [
            "Requirement already satisfied: gensim in /usr/local/lib/python3.10/dist-packages (4.3.2)\n",
            "Requirement already satisfied: numpy>=1.18.5 in /usr/local/lib/python3.10/dist-packages (from gensim) (1.25.2)\n",
            "Requirement already satisfied: scipy>=1.7.0 in /usr/local/lib/python3.10/dist-packages (from gensim) (1.11.4)\n",
            "Requirement already satisfied: smart-open>=1.8.1 in /usr/local/lib/python3.10/dist-packages (from gensim) (7.0.4)\n",
            "Requirement already satisfied: wrapt in /usr/local/lib/python3.10/dist-packages (from smart-open>=1.8.1->gensim) (1.14.1)\n"
          ]
        }
      ],
      "source": [
        "!pip install --upgrade gensim"
      ]
    },
    {
      "cell_type": "code",
      "source": [
        "!pip install nltk\n",
        "!pip install pyLDAvis"
      ],
      "metadata": {
        "colab": {
          "base_uri": "https://localhost:8080/"
        },
        "id": "Yo9GeHO6-GTr",
        "outputId": "4590fc23-d901-40bf-9c40-05718d4cfb35"
      },
      "execution_count": 2,
      "outputs": [
        {
          "output_type": "stream",
          "name": "stdout",
          "text": [
            "Requirement already satisfied: nltk in /usr/local/lib/python3.10/dist-packages (3.8.1)\n",
            "Requirement already satisfied: click in /usr/local/lib/python3.10/dist-packages (from nltk) (8.1.7)\n",
            "Requirement already satisfied: joblib in /usr/local/lib/python3.10/dist-packages (from nltk) (1.4.2)\n",
            "Requirement already satisfied: regex>=2021.8.3 in /usr/local/lib/python3.10/dist-packages (from nltk) (2024.5.15)\n",
            "Requirement already satisfied: tqdm in /usr/local/lib/python3.10/dist-packages (from nltk) (4.66.4)\n",
            "Collecting pyLDAvis\n",
            "  Downloading pyLDAvis-3.4.1-py3-none-any.whl (2.6 MB)\n",
            "\u001b[2K     \u001b[90m━━━━━━━━━━━━━━━━━━━━━━━━━━━━━━━━━━━━━━━━\u001b[0m \u001b[32m2.6/2.6 MB\u001b[0m \u001b[31m21.1 MB/s\u001b[0m eta \u001b[36m0:00:00\u001b[0m\n",
            "\u001b[?25hRequirement already satisfied: numpy>=1.24.2 in /usr/local/lib/python3.10/dist-packages (from pyLDAvis) (1.25.2)\n",
            "Requirement already satisfied: scipy in /usr/local/lib/python3.10/dist-packages (from pyLDAvis) (1.11.4)\n",
            "Requirement already satisfied: pandas>=2.0.0 in /usr/local/lib/python3.10/dist-packages (from pyLDAvis) (2.0.3)\n",
            "Requirement already satisfied: joblib>=1.2.0 in /usr/local/lib/python3.10/dist-packages (from pyLDAvis) (1.4.2)\n",
            "Requirement already satisfied: jinja2 in /usr/local/lib/python3.10/dist-packages (from pyLDAvis) (3.1.4)\n",
            "Requirement already satisfied: numexpr in /usr/local/lib/python3.10/dist-packages (from pyLDAvis) (2.10.1)\n",
            "Collecting funcy (from pyLDAvis)\n",
            "  Downloading funcy-2.0-py2.py3-none-any.whl (30 kB)\n",
            "Requirement already satisfied: scikit-learn>=1.0.0 in /usr/local/lib/python3.10/dist-packages (from pyLDAvis) (1.2.2)\n",
            "Requirement already satisfied: gensim in /usr/local/lib/python3.10/dist-packages (from pyLDAvis) (4.3.2)\n",
            "Requirement already satisfied: setuptools in /usr/local/lib/python3.10/dist-packages (from pyLDAvis) (67.7.2)\n",
            "Requirement already satisfied: python-dateutil>=2.8.2 in /usr/local/lib/python3.10/dist-packages (from pandas>=2.0.0->pyLDAvis) (2.8.2)\n",
            "Requirement already satisfied: pytz>=2020.1 in /usr/local/lib/python3.10/dist-packages (from pandas>=2.0.0->pyLDAvis) (2023.4)\n",
            "Requirement already satisfied: tzdata>=2022.1 in /usr/local/lib/python3.10/dist-packages (from pandas>=2.0.0->pyLDAvis) (2024.1)\n",
            "Requirement already satisfied: threadpoolctl>=2.0.0 in /usr/local/lib/python3.10/dist-packages (from scikit-learn>=1.0.0->pyLDAvis) (3.5.0)\n",
            "Requirement already satisfied: smart-open>=1.8.1 in /usr/local/lib/python3.10/dist-packages (from gensim->pyLDAvis) (7.0.4)\n",
            "Requirement already satisfied: MarkupSafe>=2.0 in /usr/local/lib/python3.10/dist-packages (from jinja2->pyLDAvis) (2.1.5)\n",
            "Requirement already satisfied: six>=1.5 in /usr/local/lib/python3.10/dist-packages (from python-dateutil>=2.8.2->pandas>=2.0.0->pyLDAvis) (1.16.0)\n",
            "Requirement already satisfied: wrapt in /usr/local/lib/python3.10/dist-packages (from smart-open>=1.8.1->gensim->pyLDAvis) (1.14.1)\n",
            "Installing collected packages: funcy, pyLDAvis\n",
            "Successfully installed funcy-2.0 pyLDAvis-3.4.1\n"
          ]
        }
      ]
    },
    {
      "cell_type": "markdown",
      "source": [
        "## import libraries"
      ],
      "metadata": {
        "id": "sw8zm23D-Yuj"
      }
    },
    {
      "cell_type": "code",
      "source": [
        "import nltk\n",
        "nltk.download(\"stopwords\")"
      ],
      "metadata": {
        "id": "_Z4hMas0_P79",
        "colab": {
          "base_uri": "https://localhost:8080/"
        },
        "outputId": "b1b6c1b7-7b4c-4024-9624-833f31692dbb"
      },
      "execution_count": 3,
      "outputs": [
        {
          "output_type": "stream",
          "name": "stderr",
          "text": [
            "[nltk_data] Downloading package stopwords to /root/nltk_data...\n",
            "[nltk_data]   Unzipping corpora/stopwords.zip.\n"
          ]
        },
        {
          "output_type": "execute_result",
          "data": {
            "text/plain": [
              "True"
            ]
          },
          "metadata": {},
          "execution_count": 3
        }
      ]
    },
    {
      "cell_type": "code",
      "source": [
        "import numpy as np\n",
        "import json\n",
        "import glob\n",
        "\n",
        "#gensim\n",
        "import gensim\n",
        "import gensim.corpora as copora\n",
        "from gensim.utils import simple_preprocess\n",
        "from gensim.models import CoherenceModel\n",
        "\n",
        "#spacy\n",
        "import spacy\n",
        "from nltk.corpus import stopwords\n",
        "\n",
        "#vis\n",
        "import pyLDAvis\n",
        "import pyLDAvis.gensim\n",
        "\n",
        "import warnings\n",
        "warnings.filterwarnings(\"ignore\", category=DeprecationWarning)"
      ],
      "metadata": {
        "id": "m82r5Dwe-d-t"
      },
      "execution_count": 4,
      "outputs": []
    },
    {
      "cell_type": "markdown",
      "source": [
        "## Data Prep"
      ],
      "metadata": {
        "id": "PnBvfvKNBWhG"
      }
    },
    {
      "cell_type": "code",
      "source": [
        "def laod_data(file):\n",
        "  with open (file, \"r\", encoding=\"utf-8\") as f:\n",
        "    data = json.load(f)\n",
        "  return (data)\n",
        "\n",
        "def write_data(file, data):\n",
        "  with open (file, \"w\", encoding=\"utf-8\") as f:\n",
        "    json.dump(data, f, indent=4)"
      ],
      "metadata": {
        "id": "z5sfI_fTBYmb"
      },
      "execution_count": 5,
      "outputs": []
    },
    {
      "cell_type": "code",
      "source": [
        "stopwords = stopwords.words(\"english\")\n",
        "print(stopwords)"
      ],
      "metadata": {
        "colab": {
          "base_uri": "https://localhost:8080/"
        },
        "id": "_BElnCEgCJEA",
        "outputId": "485481ac-0553-4175-91de-3897847dbbc2"
      },
      "execution_count": 6,
      "outputs": [
        {
          "output_type": "stream",
          "name": "stdout",
          "text": [
            "['i', 'me', 'my', 'myself', 'we', 'our', 'ours', 'ourselves', 'you', \"you're\", \"you've\", \"you'll\", \"you'd\", 'your', 'yours', 'yourself', 'yourselves', 'he', 'him', 'his', 'himself', 'she', \"she's\", 'her', 'hers', 'herself', 'it', \"it's\", 'its', 'itself', 'they', 'them', 'their', 'theirs', 'themselves', 'what', 'which', 'who', 'whom', 'this', 'that', \"that'll\", 'these', 'those', 'am', 'is', 'are', 'was', 'were', 'be', 'been', 'being', 'have', 'has', 'had', 'having', 'do', 'does', 'did', 'doing', 'a', 'an', 'the', 'and', 'but', 'if', 'or', 'because', 'as', 'until', 'while', 'of', 'at', 'by', 'for', 'with', 'about', 'against', 'between', 'into', 'through', 'during', 'before', 'after', 'above', 'below', 'to', 'from', 'up', 'down', 'in', 'out', 'on', 'off', 'over', 'under', 'again', 'further', 'then', 'once', 'here', 'there', 'when', 'where', 'why', 'how', 'all', 'any', 'both', 'each', 'few', 'more', 'most', 'other', 'some', 'such', 'no', 'nor', 'not', 'only', 'own', 'same', 'so', 'than', 'too', 'very', 's', 't', 'can', 'will', 'just', 'don', \"don't\", 'should', \"should've\", 'now', 'd', 'll', 'm', 'o', 're', 've', 'y', 'ain', 'aren', \"aren't\", 'couldn', \"couldn't\", 'didn', \"didn't\", 'doesn', \"doesn't\", 'hadn', \"hadn't\", 'hasn', \"hasn't\", 'haven', \"haven't\", 'isn', \"isn't\", 'ma', 'mightn', \"mightn't\", 'mustn', \"mustn't\", 'needn', \"needn't\", 'shan', \"shan't\", 'shouldn', \"shouldn't\", 'wasn', \"wasn't\", 'weren', \"weren't\", 'won', \"won't\", 'wouldn', \"wouldn't\"]\n"
          ]
        }
      ]
    },
    {
      "cell_type": "code",
      "source": [
        "data = laod_data(\"/content/Extraversion_answers_and_comments.json\")[\"comments\"]\n",
        "\n",
        "print(data[0][0:90])"
      ],
      "metadata": {
        "colab": {
          "base_uri": "https://localhost:8080/"
        },
        "id": "X-9h7Nl-2Kfn",
        "outputId": "7a568b11-bd0d-4a81-eecd-dcfb67c1371b"
      },
      "execution_count": 31,
      "outputs": [
        {
          "output_type": "stream",
          "name": "stdout",
          "text": [
            "@baptiste : The same minus the error. All techniques I explained are used in package help \n"
          ]
        }
      ]
    },
    {
      "cell_type": "code",
      "source": [
        "def lemmatization(texts, allowed_postags=[\"NOUN\", \"ADJ\", \"VERB\", \"ADV\"]):\n",
        "  nlp = spacy.load(\"en_core_web_sm\", disable=[\"parser\", \"ner\"])\n",
        "  texts_out = []\n",
        "  for text in texts:\n",
        "    doc = nlp(text)\n",
        "    new_text = []\n",
        "    for token in doc:\n",
        "      if token.pos_ in allowed_postags:\n",
        "        new_text.append(token.lemma_)\n",
        "    final = \" \".join(new_text)\n",
        "    texts_out.append(final)\n",
        "  return(texts_out)\n",
        "\n",
        "lemmatized_text = lemmatization(data)\n",
        "print(lemmatized_text[0][0:90])"
      ],
      "metadata": {
        "colab": {
          "base_uri": "https://localhost:8080/"
        },
        "id": "mb98sB2K2f6D",
        "outputId": "bc4bd899-7104-4da7-9b03-93c70518e9a5"
      },
      "execution_count": 32,
      "outputs": [
        {
          "output_type": "stream",
          "name": "stdout",
          "text": [
            "same error technique explain use package help page tutorial presentation give r\n"
          ]
        }
      ]
    },
    {
      "cell_type": "code",
      "source": [
        "def gen_words(texts):\n",
        "  final = []\n",
        "  for text in texts:\n",
        "    new = gensim.utils.simple_preprocess(text, deacc=True)\n",
        "    final.append(new)\n",
        "  return (final)\n",
        "\n",
        "data_words = gen_words(lemmatized_text)\n",
        "\n",
        "print(data_words[0][0:30])"
      ],
      "metadata": {
        "colab": {
          "base_uri": "https://localhost:8080/"
        },
        "id": "EC3E8hP25MWn",
        "outputId": "c28cd2cc-1a11-4b22-aaa6-27a02327a89d"
      },
      "execution_count": 33,
      "outputs": [
        {
          "output_type": "stream",
          "name": "stdout",
          "text": [
            "['same', 'error', 'technique', 'explain', 'use', 'package', 'help', 'page', 'tutorial', 'presentation', 'give']\n"
          ]
        }
      ]
    },
    {
      "cell_type": "code",
      "source": [
        "id2word = gensim.corpora.Dictionary(data_words)\n",
        "\n",
        "corpus = []\n",
        "\n",
        "for text in data_words:\n",
        "  new = id2word.doc2bow(text) # bow -> bag of words\n",
        "  corpus.append(new)\n",
        "\n",
        "print(corpus[0][0:20]) #each tuple contains index of the word along with the frequency of that word."
      ],
      "metadata": {
        "colab": {
          "base_uri": "https://localhost:8080/"
        },
        "id": "RO0VI9wB_Cju",
        "outputId": "88fceb17-720e-4e2c-acad-b669838f2af2"
      },
      "execution_count": 34,
      "outputs": [
        {
          "output_type": "stream",
          "name": "stdout",
          "text": [
            "[(0, 1), (1, 1), (2, 1), (3, 1), (4, 1), (5, 1), (6, 1), (7, 1), (8, 1), (9, 1), (10, 1)]\n"
          ]
        }
      ]
    },
    {
      "cell_type": "code",
      "source": [
        "lda = gensim.models.ldamodel.LdaModel(corpus=corpus,\n",
        "                                    id2word=id2word,\n",
        "                                    num_topics=10,\n",
        "                                    random_state=100,\n",
        "                                    update_every=1,\n",
        "                                    chunksize=100,\n",
        "                                    passes=10,\n",
        "                                    alpha=\"auto\")"
      ],
      "metadata": {
        "id": "6KSIixmGA6gW"
      },
      "execution_count": 35,
      "outputs": []
    },
    {
      "cell_type": "markdown",
      "source": [
        "## Visualization of Data"
      ],
      "metadata": {
        "id": "evp4uPlUIGy3"
      }
    },
    {
      "cell_type": "code",
      "source": [
        "pyLDAvis.enable_notebook()\n",
        "vis = pyLDAvis.gensim.prepare(lda, corpus, id2word, mds=\"mmds\", R=9)\n",
        "vis"
      ],
      "metadata": {
        "colab": {
          "base_uri": "https://localhost:8080/",
          "height": 916
        },
        "id": "UOHcDtbKIM8k",
        "outputId": "f927bbc5-9d46-40c3-d99f-0785aa464517"
      },
      "execution_count": 36,
      "outputs": [
        {
          "output_type": "stream",
          "name": "stderr",
          "text": [
            "/usr/local/lib/python3.10/dist-packages/sklearn/manifold/_mds.py:299: FutureWarning: The default value of `normalized_stress` will change to `'auto'` in version 1.4. To suppress this warning, manually set the value of `normalized_stress`.\n",
            "  warnings.warn(\n"
          ]
        },
        {
          "output_type": "execute_result",
          "data": {
            "text/plain": [
              "PreparedData(topic_coordinates=              x         y  topics  cluster       Freq\n",
              "topic                                                \n",
              "6     -0.359241  0.261003       1        1  31.238238\n",
              "3      0.006337 -0.409900       2        1  14.158965\n",
              "2     -0.374466 -0.186392       3        1  14.116300\n",
              "8     -0.027362  0.372092       4        1   8.576118\n",
              "5      0.280568 -0.219059       5        1   7.766046\n",
              "7      0.393960  0.058665       6        1   6.716911\n",
              "4      0.195399  0.253835       7        1   6.237189\n",
              "1     -0.036362 -0.170863       8        1   4.422246\n",
              "0     -0.167074  0.020067       9        1   4.250615\n",
              "9      0.088241  0.020553      10        1   2.517372, topic_info=            Term        Freq       Total Category  logprob  loglift\n",
              "186         just  267.000000  267.000000  Default   9.0000   9.0000\n",
              "156         file  130.000000  130.000000  Default   8.0000   8.0000\n",
              "44        answer  325.000000  325.000000  Default   7.0000   7.0000\n",
              "10           use  467.000000  467.000000  Default   6.0000   6.0000\n",
              "306         good  130.000000  130.000000  Default   5.0000   5.0000\n",
              "...          ...         ...         ...      ...      ...      ...\n",
              "2041        font   12.633056   13.482574  Topic10  -3.9024   3.6169\n",
              "304       detail   10.799519   11.649065  Topic10  -4.0592   3.6062\n",
              "1087   basically   10.246161   11.095799  Topic10  -4.1118   3.6023\n",
              "165   comparison    9.532498   10.382159  Topic10  -4.1840   3.5966\n",
              "1925     compare    8.244563    9.094113  Topic10  -4.3291   3.5839\n",
              "\n",
              "[111 rows x 6 columns], token_table=      Topic      Freq         Term\n",
              "term                              \n",
              "2901      6  0.991079  abstraction\n",
              "1268      7  0.047009       access\n",
              "1268      8  0.940176       access\n",
              "19        1  0.087639          add\n",
              "19        2  0.876392          add\n",
              "...     ...       ...          ...\n",
              "124       3  0.986757        value\n",
              "96        1  0.642322         want\n",
              "96        3  0.353526         want\n",
              "59        2  0.993567          way\n",
              "43        1  0.995025         work\n",
              "\n",
              "[112 rows x 3 columns], R=9, lambda_step=0.01, plot_opts={'xlab': 'PC1', 'ylab': 'PC2'}, topic_order=[7, 4, 3, 9, 6, 8, 5, 2, 1, 10])"
            ],
            "text/html": [
              "\n",
              "<link rel=\"stylesheet\" type=\"text/css\" href=\"https://cdn.jsdelivr.net/gh/bmabey/pyLDAvis@3.4.0/pyLDAvis/js/ldavis.v1.0.0.css\">\n",
              "\n",
              "\n",
              "<div id=\"ldavis_el2081400519947388649661262408\" style=\"background-color:white;\"></div>\n",
              "<script type=\"text/javascript\">\n",
              "\n",
              "var ldavis_el2081400519947388649661262408_data = {\"mdsDat\": {\"x\": [-0.35924148690586905, 0.006336914558874466, -0.37446555651284763, -0.027362010375225867, 0.2805676190251718, 0.3939604864675464, 0.19539943011957317, -0.036362440053728656, -0.16707370138450106, 0.08824074506100654], \"y\": [0.2610028053293091, -0.40990017819870134, -0.1863918185070915, 0.3720920679834732, -0.21905921342586743, 0.05866520966325527, 0.25383461883332403, -0.1708625912344232, 0.02006658861018917, 0.02055251094653266], \"topics\": [1, 2, 3, 4, 5, 6, 7, 8, 9, 10], \"cluster\": [1, 1, 1, 1, 1, 1, 1, 1, 1, 1], \"Freq\": [31.23823796323909, 14.158965449455078, 14.116299740705996, 8.576117666627878, 7.766046229970523, 6.716911114080977, 6.2371886464296775, 4.422246141871535, 4.250615393834375, 2.5173716537848727]}, \"tinfo\": {\"Term\": [\"just\", \"file\", \"answer\", \"use\", \"good\", \"try\", \"question\", \"get\", \"see\", \"answer\", \"see\", \"think\", \"so\", \"seem\", \"work\", \"code\", \"make\", \"more\", \"use\", \"same\", \"way\", \"know\", \"first\", \"button\", \"interface\", \"function\", \"download\", \"part\", \"datum\", \"add\", \"get\", \"then\", \"method\", \"just\", \"instead\", \"type\", \"op\", \"support\", \"mean\", \"input\", \"string\", \"value\", \"use\", \"want\", \"device\", \"correct\", \"right\", \"object\", \"look\", \"fact\", \"control\", \"offset\", \"create\", \"example\", \"question\", \"here\", \"explicitly\", \"comment\", \"ask\", \"float\", \"too\", \"solution\", \"figure\", \"find\", \"good\", \"label\", \"abstraction\", \"sure\", \"suggestion\", \"lead\", \"several\", \"documentation\", \"encapsulation\", \"file\", \"print\", \"iirc\", \"subdirectory\", \"now\", \"user\", \"container\", \"fix\", \"bit\", \"default\", \"talk\", \"commit\", \"provide\", \"docker\", \"never\", \"page\", \"contain\", \"happen\", \"great\", \"access\", \"try\", \"really\", \"show\", \"reason\", \"index\", \"document\", \"true\", \"import\", \"usage\", \"search\", \"order\", \"text\", \"have\", \"font\", \"detail\", \"basically\", \"comparison\", \"compare\"], \"Freq\": [267.0, 130.0, 325.0, 467.0, 130.0, 108.0, 119.0, 203.0, 246.0, 325.1013125209586, 245.8105694188221, 213.71143317643694, 185.15003169030322, 175.79496950852422, 176.0569944798847, 167.85700534938434, 163.6360911978529, 155.72925886164438, 387.2816702740229, 86.61873189719239, 83.73453890317454, 74.84968665430482, 73.56387978644747, 65.3475210101713, 63.88632947470672, 62.4132424544997, 60.916672502153794, 57.08609047159564, 70.5210606672391, 149.7847193153952, 155.06257876896166, 86.18363242303536, 67.49733986347945, 266.9928593490883, 140.31455285051015, 100.58496255178, 94.76587189749677, 86.3357067812933, 85.04915477514382, 66.99475812322302, 64.48719250529707, 63.02457549053536, 79.69039456404943, 71.35068942109619, 89.396194546161, 74.36111710218786, 73.89848870792727, 74.068370802214, 56.425436083861655, 54.2381673996, 51.592442543377516, 51.345130196039825, 46.77441898414204, 91.4098019205038, 118.39382388888876, 69.58782831567075, 65.30750753087119, 57.74943233815615, 55.45065527127203, 55.48037343027761, 38.64690025412076, 37.780598124879745, 36.0962503761946, 47.4348801681824, 129.77849680210272, 73.64867053197463, 52.62592310188522, 46.96790423810092, 43.41605465582608, 42.86042844053538, 42.193808188896355, 41.33739525508667, 40.59361799607994, 130.00032850919033, 51.823177154018175, 46.27293634473075, 45.328130594467, 40.22331553294564, 32.24206137893678, 31.98891695421905, 28.00266240069445, 25.278116892094275, 55.71749178663475, 47.50453632667546, 27.825801646889047, 27.76858402647372, 27.83426187961574, 26.357344334618546, 22.179886932533105, 21.955943569229678, 20.958010707670677, 20.57604747367529, 60.10175939986002, 107.44417359373799, 43.44779586266816, 36.836158499456815, 30.084699154666446, 26.039473171200786, 25.346883724396424, 22.41380757487785, 18.610474170457934, 15.0214335358048, 52.66131443054041, 25.397592493478808, 24.14520569118064, 15.86151647722102, 12.633056001603908, 10.799518767043919, 10.246160854531935, 9.53249809785219, 8.244563414804853], \"Total\": [267.0, 130.0, 325.0, 467.0, 130.0, 108.0, 119.0, 203.0, 246.0, 325.92049455115665, 246.62979963889595, 214.53076545930818, 185.96929476477368, 176.6149614842708, 176.87995455226627, 168.67622061236298, 164.4570961294944, 156.5485328292339, 467.8095678971663, 87.42791961428853, 84.54383086502297, 75.65915855501497, 74.37307224186347, 66.15691667567448, 64.69719821058374, 63.22239552685426, 61.7265520818083, 57.89534343859916, 71.77503103257709, 171.15621482748608, 203.78297145960573, 100.12506799390144, 71.35521002292674, 267.8139468597702, 141.13572594107302, 101.40592021542635, 95.58696512124493, 87.15700662139852, 85.87013727769484, 67.81595451636717, 65.30812738055532, 63.845523175614865, 467.8095678971663, 200.8338043179346, 90.23502476814905, 75.19962475810786, 74.73674263175975, 74.99249444394552, 57.263680108190385, 55.0765409525215, 52.43075011269665, 52.183859255216305, 47.612655442525956, 95.02142677599035, 119.5610342557082, 70.4049378899335, 66.12536588696804, 58.56648413053881, 56.269479698732184, 56.30010557341683, 39.46394582509988, 38.597647816491865, 36.913632824575856, 48.54850319882043, 130.62953614025164, 74.50087715722802, 53.47705668531211, 47.8188523756751, 44.267476936327206, 43.71177755920872, 43.04494405317366, 42.188725131884084, 41.444827030482514, 130.82863317196907, 52.653165079482925, 47.10254778513841, 46.15920929918055, 41.05162101503982, 33.07032156034277, 32.81752337979897, 28.83102210312163, 26.106412322253984, 71.97828456428402, 48.34221687493592, 28.663470265782685, 28.605447533120486, 28.675906620675036, 27.194279285327497, 23.016944255730596, 22.79281117771089, 21.794878504313335, 21.413064474228975, 63.817806701316144, 108.27620356526238, 44.27978291262053, 37.6681325719664, 30.916670952849692, 26.871391046956454, 26.17879747962598, 23.24573641041954, 19.4426009518451, 15.853780395921877, 53.511193574768335, 26.24709440799623, 24.99477761129403, 16.711080596575894, 13.482574479182153, 11.649064884657069, 11.095799162933194, 10.382159472046506, 9.094113291138342], \"Category\": [\"Default\", \"Default\", \"Default\", \"Default\", \"Default\", \"Default\", \"Default\", \"Default\", \"Default\", \"Topic1\", \"Topic1\", \"Topic1\", \"Topic1\", \"Topic1\", \"Topic1\", \"Topic1\", \"Topic1\", \"Topic1\", \"Topic1\", \"Topic2\", \"Topic2\", \"Topic2\", \"Topic2\", \"Topic2\", \"Topic2\", \"Topic2\", \"Topic2\", \"Topic2\", \"Topic2\", \"Topic2\", \"Topic2\", \"Topic2\", \"Topic2\", \"Topic3\", \"Topic3\", \"Topic3\", \"Topic3\", \"Topic3\", \"Topic3\", \"Topic3\", \"Topic3\", \"Topic3\", \"Topic3\", \"Topic3\", \"Topic4\", \"Topic4\", \"Topic4\", \"Topic4\", \"Topic4\", \"Topic4\", \"Topic4\", \"Topic4\", \"Topic4\", \"Topic4\", \"Topic5\", \"Topic5\", \"Topic5\", \"Topic5\", \"Topic5\", \"Topic5\", \"Topic5\", \"Topic5\", \"Topic5\", \"Topic5\", \"Topic6\", \"Topic6\", \"Topic6\", \"Topic6\", \"Topic6\", \"Topic6\", \"Topic6\", \"Topic6\", \"Topic6\", \"Topic7\", \"Topic7\", \"Topic7\", \"Topic7\", \"Topic7\", \"Topic7\", \"Topic7\", \"Topic7\", \"Topic7\", \"Topic7\", \"Topic8\", \"Topic8\", \"Topic8\", \"Topic8\", \"Topic8\", \"Topic8\", \"Topic8\", \"Topic8\", \"Topic8\", \"Topic8\", \"Topic9\", \"Topic9\", \"Topic9\", \"Topic9\", \"Topic9\", \"Topic9\", \"Topic9\", \"Topic9\", \"Topic9\", \"Topic10\", \"Topic10\", \"Topic10\", \"Topic10\", \"Topic10\", \"Topic10\", \"Topic10\", \"Topic10\", \"Topic10\"], \"logprob\": [9.0, 8.0, 7.0, 6.0, 5.0, 4.0, 3.0, 2.0, 1.0, -3.173, -3.4526, -3.5925, -3.736, -3.7878, -3.7863, -3.834, -3.8595, -3.909, -2.998, -3.7043, -3.7382, -3.8503, -3.8677, -3.9861, -4.0087, -4.0321, -4.0563, -4.1213, -3.9099, -3.1566, -3.122, -3.7094, -3.9537, -2.5756, -3.2189, -3.5518, -3.6114, -3.7046, -3.7196, -3.9582, -3.9963, -4.0193, -3.7847, -3.8952, -3.1714, -3.3555, -3.3618, -3.3595, -3.6315, -3.6711, -3.7211, -3.7259, -3.8191, -3.1491, -2.7912, -3.3227, -3.3861, -3.5091, -3.5498, -3.5492, -3.9108, -3.9334, -3.9791, -3.7059, -2.5543, -3.1208, -3.4569, -3.5706, -3.6493, -3.6622, -3.6778, -3.6983, -3.7165, -2.4785, -3.3982, -3.5115, -3.5321, -3.6516, -3.8727, -3.8806, -4.0137, -4.1161, -3.3257, -3.1413, -3.6762, -3.6782, -3.6759, -3.7304, -3.9029, -3.9131, -3.9596, -3.978, -2.9061, -2.2856, -3.191, -3.3561, -3.5585, -3.7029, -3.7299, -3.8529, -4.0388, -4.2531, -2.4748, -3.204, -3.2546, -3.6748, -3.9024, -4.0592, -4.1118, -4.184, -4.3291], \"loglift\": [9.0, 8.0, 7.0, 6.0, 5.0, 4.0, 3.0, 2.0, 1.0, 1.161, 1.1602, 1.1597, 1.1591, 1.1589, 1.1589, 1.1587, 1.1585, 1.1583, 0.9746, 1.9455, 1.9452, 1.9441, 1.9439, 1.9425, 1.9422, 1.9419, 1.9416, 1.9407, 1.9372, 1.8214, 1.6816, 1.8049, 1.8992, 1.9548, 1.952, 1.9497, 1.9492, 1.9484, 1.9482, 1.9457, 1.9452, 1.9449, 0.1879, 0.923, 2.4468, 2.445, 2.4449, 2.4438, 2.4414, 2.4408, 2.4401, 2.44, 2.4384, 2.4174, 2.5456, 2.5437, 2.543, 2.5414, 2.5408, 2.5407, 2.5345, 2.534, 2.533, 2.5322, 2.694, 2.689, 2.6845, 2.6826, 2.6811, 2.6809, 2.6806, 2.6802, 2.6798, 2.7683, 2.7588, 2.7569, 2.7565, 2.7543, 2.7493, 2.7491, 2.7455, 2.7424, 2.5186, 3.101, 3.0889, 3.0888, 3.0887, 3.0873, 3.0815, 3.0811, 3.0794, 3.0786, 3.0585, 3.1504, 3.1391, 3.1358, 3.1308, 3.1267, 3.1258, 3.1217, 3.1144, 3.1042, 3.6659, 3.6491, 3.6474, 3.6298, 3.6169, 3.6062, 3.6023, 3.5966, 3.5839]}, \"token.table\": {\"Topic\": [6, 7, 8, 1, 2, 4, 1, 5, 10, 7, 2, 1, 5, 8, 10, 10, 8, 7, 4, 4, 4, 2, 7, 4, 7, 10, 4, 8, 9, 6, 2, 6, 3, 4, 5, 4, 5, 7, 5, 2, 7, 5, 10, 2, 2, 4, 6, 8, 8, 10, 5, 7, 9, 9, 3, 3, 2, 3, 2, 6, 6, 4, 1, 3, 1, 2, 1, 8, 7, 4, 4, 3, 10, 8, 2, 7, 8, 5, 9, 9, 4, 2, 10, 1, 1, 6, 9, 1, 5, 3, 7, 6, 3, 6, 8, 10, 1, 2, 1, 5, 9, 9, 3, 9, 1, 3, 7, 3, 1, 3, 2, 1], \"Freq\": [0.9910792269642033, 0.047008823321691026, 0.9401764664338205, 0.08763923656011549, 0.876392365601155, 0.035055694624046195, 0.9971757082891509, 0.9774392849280107, 0.9012419793435125, 0.957619135536642, 0.9825125363482988, 0.995991013968015, 0.9903275031966035, 0.9768531074698688, 0.8796899427012319, 0.9631907530340433, 0.9652166127499805, 0.9750888154984235, 0.9917843991975934, 0.9840474635084064, 0.9871325084301273, 0.9892019408222155, 0.013932421701721345, 0.2222892653924025, 0.7780124288734087, 0.9442818036397111, 0.9863132439834496, 0.9764294594198561, 0.9549712900088938, 0.971823629935058, 0.9882295048515689, 0.9892670071911425, 0.031571826500483874, 0.9576787371813441, 0.9829813283923193, 0.980453729774905, 0.975249447029023, 0.9936662705106774, 0.9681039970999961, 0.9949837726126167, 0.9711761136962379, 0.9769075819632086, 0.9642075421183636, 0.980665150115436, 0.7606131115362816, 0.23554470550800982, 0.9951807519275293, 0.9807096982906811, 0.9635291151471194, 0.9574485568143574, 0.9942484447530291, 0.9765926083198777, 0.9772355070732911, 0.9675717924154451, 0.9879681039338576, 0.9919529521423427, 0.9892236722784437, 0.9969607749360551, 0.9912877889788364, 0.9932768958388106, 0.9837165725359808, 0.9779322581817503, 0.9972205752123066, 0.9898668232603273, 0.04204318085583501, 0.9389643724469819, 0.9964960845092541, 0.9560834367847408, 0.9743829600625382, 0.9867654163085964, 0.9773136890963471, 0.9938593602119242, 0.9524863823549056, 0.9558175818461477, 0.9845351390039042, 0.9875949512532259, 0.9788345372880646, 0.9869436203406406, 0.9710978051733905, 0.9703502697865599, 0.9901421629333004, 0.995105458117082, 0.9904469786484192, 0.9974463765537739, 0.9965180668777851, 0.9757243486741942, 0.9822626574149936, 0.9947878773966439, 0.9845159523882566, 0.9799699144191846, 0.974886716718496, 0.9713677619768052, 0.9867250303073802, 0.9828759509065165, 0.9929209519741046, 0.9602005816269182, 0.12983761469996527, 0.8589257587843857, 0.9975259238078426, 0.9882438054431749, 0.9464101120125772, 0.9882134437370335, 0.9959970757667401, 0.9461465735868589, 0.8272596940237661, 0.17100975587054595, 0.96763498176485, 0.9867567351075008, 0.6423221451095134, 0.3535261418819802, 0.9935674683834564, 0.995025131284697], \"Term\": [\"abstraction\", \"access\", \"access\", \"add\", \"add\", \"add\", \"answer\", \"ask\", \"basically\", \"bit\", \"button\", \"code\", \"comment\", \"commit\", \"compare\", \"comparison\", \"contain\", \"container\", \"control\", \"correct\", \"create\", \"datum\", \"datum\", \"default\", \"default\", \"detail\", \"device\", \"docker\", \"document\", \"documentation\", \"download\", \"encapsulation\", \"example\", \"example\", \"explicitly\", \"fact\", \"figure\", \"file\", \"find\", \"first\", \"fix\", \"float\", \"font\", \"function\", \"get\", \"get\", \"good\", \"great\", \"happen\", \"have\", \"here\", \"iirc\", \"import\", \"index\", \"input\", \"instead\", \"interface\", \"just\", \"know\", \"label\", \"lead\", \"look\", \"make\", \"mean\", \"method\", \"method\", \"more\", \"never\", \"now\", \"object\", \"offset\", \"op\", \"order\", \"page\", \"part\", \"print\", \"provide\", \"question\", \"really\", \"reason\", \"right\", \"same\", \"search\", \"see\", \"seem\", \"several\", \"show\", \"so\", \"solution\", \"string\", \"subdirectory\", \"suggestion\", \"support\", \"sure\", \"talk\", \"text\", \"then\", \"then\", \"think\", \"too\", \"true\", \"try\", \"type\", \"usage\", \"use\", \"use\", \"user\", \"value\", \"want\", \"want\", \"way\", \"work\"]}, \"R\": 9, \"lambda.step\": 0.01, \"plot.opts\": {\"xlab\": \"PC1\", \"ylab\": \"PC2\"}, \"topic.order\": [7, 4, 3, 9, 6, 8, 5, 2, 1, 10]};\n",
              "\n",
              "function LDAvis_load_lib(url, callback){\n",
              "  var s = document.createElement('script');\n",
              "  s.src = url;\n",
              "  s.async = true;\n",
              "  s.onreadystatechange = s.onload = callback;\n",
              "  s.onerror = function(){console.warn(\"failed to load library \" + url);};\n",
              "  document.getElementsByTagName(\"head\")[0].appendChild(s);\n",
              "}\n",
              "\n",
              "if(typeof(LDAvis) !== \"undefined\"){\n",
              "   // already loaded: just create the visualization\n",
              "   !function(LDAvis){\n",
              "       new LDAvis(\"#\" + \"ldavis_el2081400519947388649661262408\", ldavis_el2081400519947388649661262408_data);\n",
              "   }(LDAvis);\n",
              "}else if(typeof define === \"function\" && define.amd){\n",
              "   // require.js is available: use it to load d3/LDAvis\n",
              "   require.config({paths: {d3: \"https://d3js.org/d3.v5\"}});\n",
              "   require([\"d3\"], function(d3){\n",
              "      window.d3 = d3;\n",
              "      LDAvis_load_lib(\"https://cdn.jsdelivr.net/gh/bmabey/pyLDAvis@3.4.0/pyLDAvis/js/ldavis.v3.0.0.js\", function(){\n",
              "        new LDAvis(\"#\" + \"ldavis_el2081400519947388649661262408\", ldavis_el2081400519947388649661262408_data);\n",
              "      });\n",
              "    });\n",
              "}else{\n",
              "    // require.js not available: dynamically load d3 & LDAvis\n",
              "    LDAvis_load_lib(\"https://d3js.org/d3.v5.js\", function(){\n",
              "         LDAvis_load_lib(\"https://cdn.jsdelivr.net/gh/bmabey/pyLDAvis@3.4.0/pyLDAvis/js/ldavis.v3.0.0.js\", function(){\n",
              "                 new LDAvis(\"#\" + \"ldavis_el2081400519947388649661262408\", ldavis_el2081400519947388649661262408_data);\n",
              "            })\n",
              "         });\n",
              "}\n",
              "</script>"
            ]
          },
          "metadata": {},
          "execution_count": 36
        }
      ]
    },
    {
      "cell_type": "code",
      "source": [
        "print('\\nPerplexity: ', lda.log_perplexity(corpus,total_docs=10000))  # a measure of how good the model is. lower the better.\n",
        "\n",
        "# Compute Coherence Score\n",
        "coherence_model_lda = CoherenceModel(model=lda, texts=data_words, dictionary=id2word, coherence='c_v')\n",
        "coherence_lda = coherence_model_lda.get_coherence()\n",
        "print('\\nCoherence Score: ', coherence_lda)"
      ],
      "metadata": {
        "colab": {
          "base_uri": "https://localhost:8080/"
        },
        "id": "Xj0X43-NwLD7",
        "outputId": "4959846c-389b-4f52-e17b-62eaec8ce73a"
      },
      "execution_count": 37,
      "outputs": [
        {
          "output_type": "stream",
          "name": "stdout",
          "text": [
            "\n",
            "Perplexity:  -7.964112001061001\n",
            "\n",
            "Coherence Score:  0.41825401490847314\n"
          ]
        }
      ]
    }
  ]
}