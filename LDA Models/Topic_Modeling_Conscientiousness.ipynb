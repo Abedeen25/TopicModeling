{
  "nbformat": 4,
  "nbformat_minor": 0,
  "metadata": {
    "colab": {
      "provenance": []
    },
    "kernelspec": {
      "name": "python3",
      "display_name": "Python 3"
    },
    "language_info": {
      "name": "python"
    }
  },
  "cells": [
    {
      "cell_type": "markdown",
      "source": [
        "# Topic Modeling (LDA)\n",
        "## Setup\n"
      ],
      "metadata": {
        "id": "oFOXHb0g9uVJ"
      }
    },
    {
      "cell_type": "code",
      "execution_count": 1,
      "metadata": {
        "colab": {
          "base_uri": "https://localhost:8080/"
        },
        "id": "unls0i3Q9iXV",
        "outputId": "37eed698-a102-4fd5-d735-ecf37757f511"
      },
      "outputs": [
        {
          "output_type": "stream",
          "name": "stdout",
          "text": [
            "Requirement already satisfied: gensim in /usr/local/lib/python3.10/dist-packages (4.3.2)\n",
            "Requirement already satisfied: numpy>=1.18.5 in /usr/local/lib/python3.10/dist-packages (from gensim) (1.25.2)\n",
            "Requirement already satisfied: scipy>=1.7.0 in /usr/local/lib/python3.10/dist-packages (from gensim) (1.11.4)\n",
            "Requirement already satisfied: smart-open>=1.8.1 in /usr/local/lib/python3.10/dist-packages (from gensim) (7.0.4)\n",
            "Requirement already satisfied: wrapt in /usr/local/lib/python3.10/dist-packages (from smart-open>=1.8.1->gensim) (1.14.1)\n"
          ]
        }
      ],
      "source": [
        "!pip install --upgrade gensim"
      ]
    },
    {
      "cell_type": "code",
      "source": [
        "!pip install nltk\n",
        "!pip install pyLDAvis"
      ],
      "metadata": {
        "colab": {
          "base_uri": "https://localhost:8080/"
        },
        "id": "Yo9GeHO6-GTr",
        "outputId": "4590fc23-d901-40bf-9c40-05718d4cfb35"
      },
      "execution_count": 2,
      "outputs": [
        {
          "output_type": "stream",
          "name": "stdout",
          "text": [
            "Requirement already satisfied: nltk in /usr/local/lib/python3.10/dist-packages (3.8.1)\n",
            "Requirement already satisfied: click in /usr/local/lib/python3.10/dist-packages (from nltk) (8.1.7)\n",
            "Requirement already satisfied: joblib in /usr/local/lib/python3.10/dist-packages (from nltk) (1.4.2)\n",
            "Requirement already satisfied: regex>=2021.8.3 in /usr/local/lib/python3.10/dist-packages (from nltk) (2024.5.15)\n",
            "Requirement already satisfied: tqdm in /usr/local/lib/python3.10/dist-packages (from nltk) (4.66.4)\n",
            "Collecting pyLDAvis\n",
            "  Downloading pyLDAvis-3.4.1-py3-none-any.whl (2.6 MB)\n",
            "\u001b[2K     \u001b[90m━━━━━━━━━━━━━━━━━━━━━━━━━━━━━━━━━━━━━━━━\u001b[0m \u001b[32m2.6/2.6 MB\u001b[0m \u001b[31m21.1 MB/s\u001b[0m eta \u001b[36m0:00:00\u001b[0m\n",
            "\u001b[?25hRequirement already satisfied: numpy>=1.24.2 in /usr/local/lib/python3.10/dist-packages (from pyLDAvis) (1.25.2)\n",
            "Requirement already satisfied: scipy in /usr/local/lib/python3.10/dist-packages (from pyLDAvis) (1.11.4)\n",
            "Requirement already satisfied: pandas>=2.0.0 in /usr/local/lib/python3.10/dist-packages (from pyLDAvis) (2.0.3)\n",
            "Requirement already satisfied: joblib>=1.2.0 in /usr/local/lib/python3.10/dist-packages (from pyLDAvis) (1.4.2)\n",
            "Requirement already satisfied: jinja2 in /usr/local/lib/python3.10/dist-packages (from pyLDAvis) (3.1.4)\n",
            "Requirement already satisfied: numexpr in /usr/local/lib/python3.10/dist-packages (from pyLDAvis) (2.10.1)\n",
            "Collecting funcy (from pyLDAvis)\n",
            "  Downloading funcy-2.0-py2.py3-none-any.whl (30 kB)\n",
            "Requirement already satisfied: scikit-learn>=1.0.0 in /usr/local/lib/python3.10/dist-packages (from pyLDAvis) (1.2.2)\n",
            "Requirement already satisfied: gensim in /usr/local/lib/python3.10/dist-packages (from pyLDAvis) (4.3.2)\n",
            "Requirement already satisfied: setuptools in /usr/local/lib/python3.10/dist-packages (from pyLDAvis) (67.7.2)\n",
            "Requirement already satisfied: python-dateutil>=2.8.2 in /usr/local/lib/python3.10/dist-packages (from pandas>=2.0.0->pyLDAvis) (2.8.2)\n",
            "Requirement already satisfied: pytz>=2020.1 in /usr/local/lib/python3.10/dist-packages (from pandas>=2.0.0->pyLDAvis) (2023.4)\n",
            "Requirement already satisfied: tzdata>=2022.1 in /usr/local/lib/python3.10/dist-packages (from pandas>=2.0.0->pyLDAvis) (2024.1)\n",
            "Requirement already satisfied: threadpoolctl>=2.0.0 in /usr/local/lib/python3.10/dist-packages (from scikit-learn>=1.0.0->pyLDAvis) (3.5.0)\n",
            "Requirement already satisfied: smart-open>=1.8.1 in /usr/local/lib/python3.10/dist-packages (from gensim->pyLDAvis) (7.0.4)\n",
            "Requirement already satisfied: MarkupSafe>=2.0 in /usr/local/lib/python3.10/dist-packages (from jinja2->pyLDAvis) (2.1.5)\n",
            "Requirement already satisfied: six>=1.5 in /usr/local/lib/python3.10/dist-packages (from python-dateutil>=2.8.2->pandas>=2.0.0->pyLDAvis) (1.16.0)\n",
            "Requirement already satisfied: wrapt in /usr/local/lib/python3.10/dist-packages (from smart-open>=1.8.1->gensim->pyLDAvis) (1.14.1)\n",
            "Installing collected packages: funcy, pyLDAvis\n",
            "Successfully installed funcy-2.0 pyLDAvis-3.4.1\n"
          ]
        }
      ]
    },
    {
      "cell_type": "markdown",
      "source": [
        "## import libraries"
      ],
      "metadata": {
        "id": "sw8zm23D-Yuj"
      }
    },
    {
      "cell_type": "code",
      "source": [
        "import nltk\n",
        "nltk.download(\"stopwords\")"
      ],
      "metadata": {
        "id": "_Z4hMas0_P79",
        "colab": {
          "base_uri": "https://localhost:8080/"
        },
        "outputId": "b1b6c1b7-7b4c-4024-9624-833f31692dbb"
      },
      "execution_count": 3,
      "outputs": [
        {
          "output_type": "stream",
          "name": "stderr",
          "text": [
            "[nltk_data] Downloading package stopwords to /root/nltk_data...\n",
            "[nltk_data]   Unzipping corpora/stopwords.zip.\n"
          ]
        },
        {
          "output_type": "execute_result",
          "data": {
            "text/plain": [
              "True"
            ]
          },
          "metadata": {},
          "execution_count": 3
        }
      ]
    },
    {
      "cell_type": "code",
      "source": [
        "import numpy as np\n",
        "import json\n",
        "import glob\n",
        "\n",
        "#gensim\n",
        "import gensim\n",
        "import gensim.corpora as copora\n",
        "from gensim.utils import simple_preprocess\n",
        "from gensim.models import CoherenceModel\n",
        "\n",
        "#spacy\n",
        "import spacy\n",
        "from nltk.corpus import stopwords\n",
        "\n",
        "#vis\n",
        "import pyLDAvis\n",
        "import pyLDAvis.gensim\n",
        "\n",
        "import warnings\n",
        "warnings.filterwarnings(\"ignore\", category=DeprecationWarning)"
      ],
      "metadata": {
        "id": "m82r5Dwe-d-t"
      },
      "execution_count": 4,
      "outputs": []
    },
    {
      "cell_type": "markdown",
      "source": [
        "## Data Prep"
      ],
      "metadata": {
        "id": "PnBvfvKNBWhG"
      }
    },
    {
      "cell_type": "code",
      "source": [
        "def laod_data(file):\n",
        "  with open (file, \"r\", encoding=\"utf-8\") as f:\n",
        "    data = json.load(f)\n",
        "  return (data)\n",
        "\n",
        "def write_data(file, data):\n",
        "  with open (file, \"w\", encoding=\"utf-8\") as f:\n",
        "    json.dump(data, f, indent=4)"
      ],
      "metadata": {
        "id": "z5sfI_fTBYmb"
      },
      "execution_count": 5,
      "outputs": []
    },
    {
      "cell_type": "code",
      "source": [
        "stopwords = stopwords.words(\"english\")\n",
        "print(stopwords)"
      ],
      "metadata": {
        "colab": {
          "base_uri": "https://localhost:8080/"
        },
        "id": "_BElnCEgCJEA",
        "outputId": "485481ac-0553-4175-91de-3897847dbbc2"
      },
      "execution_count": 6,
      "outputs": [
        {
          "output_type": "stream",
          "name": "stdout",
          "text": [
            "['i', 'me', 'my', 'myself', 'we', 'our', 'ours', 'ourselves', 'you', \"you're\", \"you've\", \"you'll\", \"you'd\", 'your', 'yours', 'yourself', 'yourselves', 'he', 'him', 'his', 'himself', 'she', \"she's\", 'her', 'hers', 'herself', 'it', \"it's\", 'its', 'itself', 'they', 'them', 'their', 'theirs', 'themselves', 'what', 'which', 'who', 'whom', 'this', 'that', \"that'll\", 'these', 'those', 'am', 'is', 'are', 'was', 'were', 'be', 'been', 'being', 'have', 'has', 'had', 'having', 'do', 'does', 'did', 'doing', 'a', 'an', 'the', 'and', 'but', 'if', 'or', 'because', 'as', 'until', 'while', 'of', 'at', 'by', 'for', 'with', 'about', 'against', 'between', 'into', 'through', 'during', 'before', 'after', 'above', 'below', 'to', 'from', 'up', 'down', 'in', 'out', 'on', 'off', 'over', 'under', 'again', 'further', 'then', 'once', 'here', 'there', 'when', 'where', 'why', 'how', 'all', 'any', 'both', 'each', 'few', 'more', 'most', 'other', 'some', 'such', 'no', 'nor', 'not', 'only', 'own', 'same', 'so', 'than', 'too', 'very', 's', 't', 'can', 'will', 'just', 'don', \"don't\", 'should', \"should've\", 'now', 'd', 'll', 'm', 'o', 're', 've', 'y', 'ain', 'aren', \"aren't\", 'couldn', \"couldn't\", 'didn', \"didn't\", 'doesn', \"doesn't\", 'hadn', \"hadn't\", 'hasn', \"hasn't\", 'haven', \"haven't\", 'isn', \"isn't\", 'ma', 'mightn', \"mightn't\", 'mustn', \"mustn't\", 'needn', \"needn't\", 'shan', \"shan't\", 'shouldn', \"shouldn't\", 'wasn', \"wasn't\", 'weren', \"weren't\", 'won', \"won't\", 'wouldn', \"wouldn't\"]\n"
          ]
        }
      ]
    },
    {
      "cell_type": "code",
      "source": [
        "data = laod_data(\"/content/Conscientiousness_answers_and_comments.json\")[\"answers\"]\n",
        "\n",
        "print(data[0][0:90])"
      ],
      "metadata": {
        "colab": {
          "base_uri": "https://localhost:8080/"
        },
        "id": "X-9h7Nl-2Kfn",
        "outputId": "b3de3972-822e-4f79-e224-e9c0cfea5463"
      },
      "execution_count": 17,
      "outputs": [
        {
          "output_type": "stream",
          "name": "stdout",
          "text": [
            "Make copy of an array\n"
          ]
        }
      ]
    },
    {
      "cell_type": "code",
      "source": [
        "def lemmatization(texts, allowed_postags=[\"NOUN\", \"ADJ\", \"VERB\", \"ADV\"]):\n",
        "  nlp = spacy.load(\"en_core_web_sm\", disable=[\"parser\", \"ner\"])\n",
        "  texts_out = []\n",
        "  for text in texts:\n",
        "    doc = nlp(text)\n",
        "    new_text = []\n",
        "    for token in doc:\n",
        "      if token.pos_ in allowed_postags:\n",
        "        new_text.append(token.lemma_)\n",
        "    final = \" \".join(new_text)\n",
        "    texts_out.append(final)\n",
        "  return(texts_out)\n",
        "\n",
        "lemmatized_text = lemmatization(data)\n",
        "print(lemmatized_text[0][0:90])"
      ],
      "metadata": {
        "colab": {
          "base_uri": "https://localhost:8080/"
        },
        "id": "mb98sB2K2f6D",
        "outputId": "5316893e-b694-4c8c-ce57-9a357bbc1abc"
      },
      "execution_count": 18,
      "outputs": [
        {
          "output_type": "stream",
          "name": "stdout",
          "text": [
            "make copy array\n"
          ]
        }
      ]
    },
    {
      "cell_type": "code",
      "source": [
        "def gen_words(texts):\n",
        "  final = []\n",
        "  for text in texts:\n",
        "    new = gensim.utils.simple_preprocess(text, deacc=True)\n",
        "    final.append(new)\n",
        "  return (final)\n",
        "\n",
        "data_words = gen_words(lemmatized_text)\n",
        "\n",
        "print(data_words[0][0:30])"
      ],
      "metadata": {
        "colab": {
          "base_uri": "https://localhost:8080/"
        },
        "id": "EC3E8hP25MWn",
        "outputId": "820f588e-ce6c-4822-a3b1-20952fcce4f5"
      },
      "execution_count": 19,
      "outputs": [
        {
          "output_type": "stream",
          "name": "stdout",
          "text": [
            "['make', 'copy', 'array']\n"
          ]
        }
      ]
    },
    {
      "cell_type": "code",
      "source": [
        "id2word = gensim.corpora.Dictionary(data_words)\n",
        "\n",
        "corpus = []\n",
        "\n",
        "for text in data_words:\n",
        "  new = id2word.doc2bow(text) # bow -> bag of words\n",
        "  corpus.append(new)\n",
        "\n",
        "print(corpus[0][0:20]) #each tuple contains index of the word along with the frequency of that word."
      ],
      "metadata": {
        "colab": {
          "base_uri": "https://localhost:8080/"
        },
        "id": "RO0VI9wB_Cju",
        "outputId": "19eba788-a205-4187-e1c8-7b32032c1716"
      },
      "execution_count": 20,
      "outputs": [
        {
          "output_type": "stream",
          "name": "stdout",
          "text": [
            "[(0, 1), (1, 1), (2, 1)]\n"
          ]
        }
      ]
    },
    {
      "cell_type": "code",
      "source": [
        "lda = gensim.models.ldamodel.LdaModel(corpus=corpus,\n",
        "                                    id2word=id2word,\n",
        "                                    num_topics=10,\n",
        "                                    random_state=100,\n",
        "                                    update_every=1,\n",
        "                                    chunksize=100,\n",
        "                                    passes=10,\n",
        "                                    alpha=\"auto\")"
      ],
      "metadata": {
        "id": "6KSIixmGA6gW"
      },
      "execution_count": 21,
      "outputs": []
    },
    {
      "cell_type": "markdown",
      "source": [
        "## Visualization of Data"
      ],
      "metadata": {
        "id": "evp4uPlUIGy3"
      }
    },
    {
      "cell_type": "code",
      "source": [
        "pyLDAvis.enable_notebook()\n",
        "vis = pyLDAvis.gensim.prepare(lda, corpus, id2word, mds=\"mmds\", R=9)\n",
        "vis"
      ],
      "metadata": {
        "colab": {
          "base_uri": "https://localhost:8080/",
          "height": 896
        },
        "id": "UOHcDtbKIM8k",
        "outputId": "e77229e6-5566-497d-fb45-7072a8cc8573"
      },
      "execution_count": 22,
      "outputs": [
        {
          "output_type": "stream",
          "name": "stderr",
          "text": [
            "/usr/local/lib/python3.10/dist-packages/sklearn/manifold/_mds.py:299: FutureWarning: The default value of `normalized_stress` will change to `'auto'` in version 1.4. To suppress this warning, manually set the value of `normalized_stress`.\n",
            "  warnings.warn(\n"
          ]
        },
        {
          "output_type": "execute_result",
          "data": {
            "text/plain": [
              "PreparedData(topic_coordinates=              x         y  topics  cluster       Freq\n",
              "topic                                                \n",
              "8     -0.198993  0.422304       1        1  14.557587\n",
              "4      0.168107 -0.435013       2        1  13.703847\n",
              "0      0.223634  0.449961       3        1  13.464576\n",
              "6     -0.218957 -0.421355       4        1  10.340586\n",
              "7     -0.404069  0.182295       5        1   9.031694\n",
              "2      0.086608  0.199388       6        1   8.616668\n",
              "3      0.410317 -0.214756       7        1   8.506001\n",
              "1     -0.444204 -0.127989       8        1   8.059237\n",
              "9      0.430212  0.099226       9        1   6.951404\n",
              "5     -0.052656 -0.154061      10        1   6.768399, topic_info=         Term         Freq        Total Category  logprob  loglift\n",
              "103       use  5320.000000  5320.000000  Default   9.0000   9.0000\n",
              "246  function  3002.000000  3002.000000  Default   8.0000   8.0000\n",
              "432     error  2175.000000  2175.000000  Default   7.0000   7.0000\n",
              "79      check  2013.000000  2013.000000  Default   6.0000   6.0000\n",
              "146     other  1675.000000  1675.000000  Default   5.0000   5.0000\n",
              "..        ...          ...          ...      ...      ...      ...\n",
              "134   program   758.768091   759.748356  Topic10  -3.2756   2.6916\n",
              "128  generate   567.581704   568.561987  Topic10  -3.5659   2.6912\n",
              "131       non   555.346038   556.326305  Topic10  -3.5877   2.6911\n",
              "129    handle   539.042736   540.023018  Topic10  -3.6175   2.6911\n",
              "256     datum   508.893242   509.873564  Topic10  -3.6750   2.6910\n",
              "\n",
              "[108 rows x 6 columns], token_table=      Topic      Freq       Term\n",
              "term                            \n",
              "383       1  0.998848     access\n",
              "114       9  0.998812        act\n",
              "171       3  0.998345        add\n",
              "1844      2  0.999633    angular\n",
              "160       6  0.998564  attribute\n",
              "...     ...       ...        ...\n",
              "647       9  0.997085    version\n",
              "462       3  0.998165       very\n",
              "117       9  0.998997        way\n",
              "454       6  0.998335      white\n",
              "261       7  0.999598       work\n",
              "\n",
              "[104 rows x 3 columns], R=9, lambda_step=0.01, plot_opts={'xlab': 'PC1', 'ylab': 'PC2'}, topic_order=[9, 5, 1, 7, 8, 3, 4, 2, 10, 6])"
            ],
            "text/html": [
              "\n",
              "<link rel=\"stylesheet\" type=\"text/css\" href=\"https://cdn.jsdelivr.net/gh/bmabey/pyLDAvis@3.4.0/pyLDAvis/js/ldavis.v1.0.0.css\">\n",
              "\n",
              "\n",
              "<div id=\"ldavis_el208140051993328576370339184\" style=\"background-color:white;\"></div>\n",
              "<script type=\"text/javascript\">\n",
              "\n",
              "var ldavis_el208140051993328576370339184_data = {\"mdsDat\": {\"x\": [-0.19899262602929593, 0.1681074612529605, 0.22363430125595493, -0.21895749914629825, -0.40406889803094326, 0.08660827744365977, 0.4103173561663065, -0.4442037218692759, 0.43021183574624217, -0.052656486789310425], \"y\": [0.4223040260234571, -0.43501317200818534, 0.44996128580924755, -0.42135526593562134, 0.1822946287232798, 0.19938788839037724, -0.21475619870602292, -0.12798859992240633, 0.09922593719626985, -0.15406052957039593], \"topics\": [1, 2, 3, 4, 5, 6, 7, 8, 9, 10], \"cluster\": [1, 1, 1, 1, 1, 1, 1, 1, 1, 1], \"Freq\": [14.557587424138124, 13.70384735730581, 13.464576382222058, 10.340585761087132, 9.031693694441493, 8.61666817265703, 8.506001182606433, 8.059236839318833, 6.951404377814257, 6.768398808408828]}, \"tinfo\": {\"Term\": [\"use\", \"function\", \"error\", \"check\", \"other\", \"get\", \"so\", \"angular\", \"method\", \"value\", \"set\", \"find\", \"correct\", \"variable\", \"remove\", \"access\", \"effect\", \"click\", \"angular\", \"column\", \"table\", \"space\", \"form\", \"filter\", \"dynamic\", \"build\", \"define\", \"partition\", \"use\", \"check\", \"file\", \"read\", \"order\", \"add\", \"string\", \"very\", \"similar\", \"homework\", \"later\", \"function\", \"so\", \"many\", \"date\", \"expression\", \"equation\", \"common\", \"control\", \"email\", \"become\", \"other\", \"get\", \"type\", \"same\", \"difference\", \"different\", \"especially\", \"sequence\", \"leak\", \"error\", \"time\", \"theorem\", \"result\", \"show\", \"earth\", \"white\", \"attribute\", \"signature\", \"battle\", \"theory\", \"story\", \"work\", \"element\", \"launch\", \"one\", \"old\", \"incorrect\", \"thing\", \"mean\", \"line\", \"use\", \"method\", \"class\", \"test\", \"number\", \"java\", \"passport\", \"extra\", \"group\", \"color\", \"valid\", \"act\", \"people\", \"way\", \"point\", \"know\", \"version\", \"formula\", \"triangle\", \"country\", \"change\", \"cause\", \"only\", \"review\", \"program\", \"generate\", \"non\", \"handle\", \"datum\"], \"Freq\": [5320.0, 3002.0, 2175.0, 2013.0, 1675.0, 1616.0, 1712.0, 1906.0, 1429.0, 1734.8667633166365, 1625.633601930405, 1113.3388881113376, 1088.4838726118508, 941.6335353418173, 915.1637263799576, 813.9841040986262, 796.5697010690789, 774.8849180977236, 1905.7190384350563, 899.5356678889667, 727.426160412414, 717.8907922599068, 561.3229044674013, 559.0179705212254, 533.2730367588016, 518.5245484456142, 510.96644408148586, 588.1200470683328, 4196.660681495482, 2012.881197375051, 1076.6300169712645, 970.2321230693102, 918.6186707703173, 778.3012038700949, 773.8026212915667, 746.3826539617387, 741.7370817316986, 736.6358862144574, 736.6360349894084, 3001.583085837052, 1711.2555245779818, 1409.527052602598, 1297.4307956211371, 1029.5449753141982, 896.1938585365002, 875.7547926784824, 748.8409641887743, 736.8655319260743, 823.9902107761011, 1675.0172500527763, 1615.5286898955108, 1132.6992650144261, 1016.8649708262923, 924.0987589444954, 850.4489693508388, 582.1851630687949, 565.9383796425484, 548.146129706079, 2174.894450366038, 1383.3614783017324, 1317.6266527621676, 1190.3077187795427, 1013.2993808913768, 890.2654082273433, 830.4808388209162, 742.1638501184088, 715.1791429317144, 724.8273989443217, 1218.8571804272212, 830.0170773983757, 1449.6063661992666, 905.0258326938696, 875.2137970873273, 821.5123393787269, 804.0371708605289, 777.2717811750441, 714.9749868196819, 707.9877013941174, 593.9087817486171, 1005.1696555531114, 1428.7199334226848, 1273.3808981931186, 1089.5009041290539, 1052.350915609579, 1033.924366714146, 921.332965834993, 728.8569878243267, 592.9142050262419, 567.9578856142938, 1015.9279714722389, 846.0294136954864, 791.9872885353651, 790.8172636026068, 778.4350309901833, 758.9286499786788, 472.4028471903174, 458.3218394556058, 453.51623452269956, 512.4688083125179, 1316.7331517519783, 985.1227435650541, 967.7820036833956, 806.6109434928401, 758.7680911983051, 567.581703758498, 555.3460382107411, 539.0427363057005, 508.8932421208915], \"Total\": [5320.0, 3002.0, 2175.0, 2013.0, 1675.0, 1616.0, 1712.0, 1906.0, 1429.0, 1735.8217176412625, 1626.588583731457, 1114.293981821973, 1089.4395984348082, 942.5885364611052, 916.1187406218208, 814.9390399331534, 797.5245670564512, 775.8399067946159, 1906.7002999772628, 900.5166881271201, 728.4071618483903, 718.872161848764, 562.3040808263584, 559.9990630316331, 534.2540381150587, 519.5057411029455, 511.9474695604286, 589.6435139769123, 5320.304935093516, 2013.8697313706755, 1077.6185722059563, 971.2207108540229, 919.6073338760424, 779.289886402317, 774.7911803260707, 747.3711941303961, 742.7255661827627, 737.6243711290098, 737.6245210372757, 3002.5460730279433, 1712.2184886023285, 1410.4899950938059, 1298.3938072577946, 1030.5080048023995, 897.1742944840215, 876.7177332822847, 749.8040594109417, 737.8284735621659, 1145.8626352164856, 1675.9756795173284, 1616.4870845124021, 1133.6576708731582, 1017.8234235813416, 925.057106179363, 851.4073919915463, 583.1434929631549, 566.8967096920048, 549.1044556305003, 2175.7974742383285, 1384.2645188432186, 1318.5296913041645, 1191.2107657318045, 1014.2024423992107, 891.1683931686612, 831.3838854272448, 743.0670487940617, 716.0821710929745, 725.9376053598311, 1275.2775021486596, 1279.443677403424, 1450.5830511488434, 906.0029942428274, 876.1904135491936, 822.4889648327745, 805.0138033215213, 778.2484243154512, 715.9517282109381, 708.964327793578, 594.8854470180262, 5320.304935093516, 1429.674471279174, 1274.3354085694475, 1090.4554284284143, 1053.3054889252187, 1034.8789402399775, 922.2875223705491, 729.8114591611145, 593.8687187418351, 568.9123560499133, 1016.9050512400358, 847.0064771518734, 792.9643668903501, 791.7943594495829, 779.4121166496438, 759.9057251896056, 473.3799667180668, 459.2989076450487, 454.49329924311206, 961.5440084432811, 1317.7135020012897, 986.1030090958193, 968.7624035961948, 807.5912098409283, 759.748355656778, 568.5619871073889, 556.3263048222169, 540.023018091877, 509.87356379155557], \"Category\": [\"Default\", \"Default\", \"Default\", \"Default\", \"Default\", \"Default\", \"Default\", \"Default\", \"Default\", \"Topic1\", \"Topic1\", \"Topic1\", \"Topic1\", \"Topic1\", \"Topic1\", \"Topic1\", \"Topic1\", \"Topic1\", \"Topic2\", \"Topic2\", \"Topic2\", \"Topic2\", \"Topic2\", \"Topic2\", \"Topic2\", \"Topic2\", \"Topic2\", \"Topic2\", \"Topic2\", \"Topic3\", \"Topic3\", \"Topic3\", \"Topic3\", \"Topic3\", \"Topic3\", \"Topic3\", \"Topic3\", \"Topic3\", \"Topic3\", \"Topic4\", \"Topic4\", \"Topic4\", \"Topic4\", \"Topic4\", \"Topic4\", \"Topic4\", \"Topic4\", \"Topic4\", \"Topic4\", \"Topic5\", \"Topic5\", \"Topic5\", \"Topic5\", \"Topic5\", \"Topic5\", \"Topic5\", \"Topic5\", \"Topic5\", \"Topic6\", \"Topic6\", \"Topic6\", \"Topic6\", \"Topic6\", \"Topic6\", \"Topic6\", \"Topic6\", \"Topic6\", \"Topic6\", \"Topic6\", \"Topic6\", \"Topic7\", \"Topic7\", \"Topic7\", \"Topic7\", \"Topic7\", \"Topic7\", \"Topic7\", \"Topic7\", \"Topic7\", \"Topic7\", \"Topic8\", \"Topic8\", \"Topic8\", \"Topic8\", \"Topic8\", \"Topic8\", \"Topic8\", \"Topic8\", \"Topic8\", \"Topic9\", \"Topic9\", \"Topic9\", \"Topic9\", \"Topic9\", \"Topic9\", \"Topic9\", \"Topic9\", \"Topic9\", \"Topic9\", \"Topic10\", \"Topic10\", \"Topic10\", \"Topic10\", \"Topic10\", \"Topic10\", \"Topic10\", \"Topic10\", \"Topic10\"], \"logprob\": [9.0, 8.0, 7.0, 6.0, 5.0, 4.0, 3.0, 2.0, 1.0, -3.2144, -3.2794, -3.658, -3.6806, -3.8255, -3.854, -3.9712, -3.9928, -4.0204, -3.06, -3.8108, -4.0231, -4.0363, -4.2824, -4.2865, -4.3336, -4.3617, -4.3764, -4.2357, -2.2706, -2.9877, -3.6135, -3.7175, -3.7722, -3.9379, -3.9437, -3.9798, -3.9861, -3.993, -3.993, -2.3242, -2.8861, -3.0801, -3.1629, -3.3942, -3.5329, -3.556, -3.7125, -3.7287, -3.6169, -2.7721, -2.8083, -3.1634, -3.2712, -3.3669, -3.45, -3.8289, -3.8572, -3.8892, -2.4639, -2.9164, -2.9651, -3.0667, -3.2277, -3.3572, -3.4267, -3.5391, -3.5761, -3.5627, -3.043, -3.4272, -2.8567, -3.3278, -3.3613, -3.4246, -3.4461, -3.48, -3.5635, -3.5733, -3.749, -3.2228, -2.8173, -2.9324, -3.0883, -3.123, -3.1407, -3.256, -3.4903, -3.6968, -3.7398, -3.0104, -3.1934, -3.2594, -3.2609, -3.2766, -3.302, -3.7761, -3.8064, -3.8169, -3.6947, -2.7243, -3.0145, -3.0322, -3.2144, -3.2756, -3.5659, -3.5877, -3.6175, -3.675], \"loglift\": [9.0, 8.0, 7.0, 6.0, 5.0, 4.0, 3.0, 2.0, 1.0, 1.9265, 1.9265, 1.9262, 1.9262, 1.926, 1.926, 1.9259, 1.9259, 1.9258, 1.987, 1.9864, 1.9861, 1.9861, 1.9857, 1.9857, 1.9857, 1.9856, 1.9856, 1.9849, 1.7503, 2.0046, 2.0042, 2.0041, 2.004, 2.0038, 2.0038, 2.0038, 2.0038, 2.0038, 2.0038, 2.2688, 2.2685, 2.2684, 2.2684, 2.2682, 2.268, 2.268, 2.2678, 2.2678, 1.9393, 2.4039, 2.4038, 2.4036, 2.4035, 2.4034, 2.4033, 2.4028, 2.4027, 2.4027, 2.4511, 2.4508, 2.4508, 2.4507, 2.4506, 2.4505, 2.4504, 2.4503, 2.4502, 2.4499, 2.4062, 2.0187, 2.4637, 2.4633, 2.4633, 2.4632, 2.4632, 2.4631, 2.463, 2.463, 2.4628, 0.798, 2.5177, 2.5176, 2.5175, 2.5174, 2.5174, 2.5173, 2.517, 2.5167, 2.5167, 2.6653, 2.6651, 2.665, 2.665, 2.665, 2.6649, 2.6642, 2.6641, 2.6641, 2.0369, 2.6922, 2.6919, 2.6919, 2.6917, 2.6916, 2.6912, 2.6911, 2.6911, 2.691]}, \"token.table\": {\"Topic\": [1, 9, 3, 2, 6, 6, 2, 4, 2, 10, 10, 3, 8, 1, 8, 2, 4, 4, 1, 4, 9, 4, 10, 2, 5, 5, 2, 6, 1, 7, 4, 4, 6, 5, 4, 8, 3, 2, 1, 2, 9, 4, 10, 5, 8, 10, 3, 7, 8, 9, 3, 7, 5, 7, 4, 7, 8, 10, 8, 7, 7, 10, 3, 5, 2, 8, 9, 9, 10, 3, 1, 6, 10, 5, 5, 1, 6, 6, 3, 4, 2, 4, 6, 3, 2, 8, 6, 5, 6, 7, 6, 9, 5, 2, 4, 7, 9, 1, 1, 9, 3, 9, 6, 7], \"Freq\": [0.9988477175750098, 0.9988117243739886, 0.9983447925799833, 0.999632716280964, 0.9985639939278784, 0.9987084215600508, 0.2801382906942891, 0.7191088832775521, 0.9990264956420466, 0.9988814463746231, 0.9994585302494009, 0.9995681292800982, 0.9989520745005849, 0.9989174225413514, 0.9983963152843998, 0.9994262314802909, 0.999181340521541, 0.9989276406271081, 0.9986785881136719, 0.46591731222505595, 0.5324769282572067, 0.9989265142439809, 0.9982867050704501, 0.9981492836340374, 0.9988572530578906, 0.998346981709597, 0.9976527306756853, 0.9986889198746077, 0.9993422559277548, 0.998892945995542, 0.9988771461229111, 0.998691118892682, 0.9996334795642652, 0.998039088188493, 0.9995070345887348, 0.9988881249383954, 0.9994259822335002, 0.9982159558870964, 0.9988387428783766, 0.9976808263165334, 0.9971719774999933, 0.9998181300087786, 0.9990115640508294, 0.9996986771394162, 0.998537187236136, 0.9981056028028366, 0.9991535378256902, 0.9983958537191395, 0.9991506830356662, 0.9988081084803254, 0.9991533347665863, 0.9986413757434625, 0.9979886238052246, 0.9985115671891712, 0.999652606473275, 0.9986398077367599, 0.9995282343689256, 0.9976159588163986, 0.9987605790163016, 0.998740638586148, 0.9994055059050259, 0.9992130128157692, 0.9993395726048828, 0.9994178438689459, 0.9972126989647906, 0.9986039902532349, 0.9987838458692262, 0.9981882285129029, 0.9990149953583893, 0.998743116945118, 0.9987788257436351, 0.9989835839579063, 0.999267934279467, 0.99919099564594, 0.998418213271176, 0.9996381483693272, 0.9988143960722811, 0.9984887612949185, 0.9990231032620949, 0.9992883568245293, 0.9987867636346899, 0.35093377530398695, 0.64871945100737, 0.9989788470156078, 0.9980681658252515, 0.9995823502579371, 0.999598271235257, 0.04312786817561895, 0.9558703873832636, 0.9986706810341581, 0.9990865049085594, 0.9989146171265152, 0.999419868192969, 0.788864557803063, 0.022179179847691546, 0.1888989470078814, 0.9991099943510634, 0.9995266117292396, 0.9993756167846951, 0.9970848645589419, 0.9981653104358784, 0.998996760408681, 0.9983354435279514, 0.9995980573822494], \"Term\": [\"access\", \"act\", \"add\", \"angular\", \"attribute\", \"battle\", \"become\", \"become\", \"build\", \"cause\", \"change\", \"check\", \"class\", \"click\", \"color\", \"column\", \"common\", \"control\", \"correct\", \"country\", \"country\", \"date\", \"datum\", \"define\", \"difference\", \"different\", \"dynamic\", \"earth\", \"effect\", \"element\", \"email\", \"equation\", \"error\", \"especially\", \"expression\", \"extra\", \"file\", \"filter\", \"find\", \"form\", \"formula\", \"function\", \"generate\", \"get\", \"group\", \"handle\", \"homework\", \"incorrect\", \"java\", \"know\", \"later\", \"launch\", \"leak\", \"line\", \"many\", \"mean\", \"method\", \"non\", \"number\", \"old\", \"one\", \"only\", \"order\", \"other\", \"partition\", \"passport\", \"people\", \"point\", \"program\", \"read\", \"remove\", \"result\", \"review\", \"same\", \"sequence\", \"set\", \"show\", \"signature\", \"similar\", \"so\", \"space\", \"story\", \"story\", \"string\", \"table\", \"test\", \"theorem\", \"theory\", \"theory\", \"thing\", \"time\", \"triangle\", \"type\", \"use\", \"use\", \"use\", \"valid\", \"value\", \"variable\", \"version\", \"very\", \"way\", \"white\", \"work\"]}, \"R\": 9, \"lambda.step\": 0.01, \"plot.opts\": {\"xlab\": \"PC1\", \"ylab\": \"PC2\"}, \"topic.order\": [9, 5, 1, 7, 8, 3, 4, 2, 10, 6]};\n",
              "\n",
              "function LDAvis_load_lib(url, callback){\n",
              "  var s = document.createElement('script');\n",
              "  s.src = url;\n",
              "  s.async = true;\n",
              "  s.onreadystatechange = s.onload = callback;\n",
              "  s.onerror = function(){console.warn(\"failed to load library \" + url);};\n",
              "  document.getElementsByTagName(\"head\")[0].appendChild(s);\n",
              "}\n",
              "\n",
              "if(typeof(LDAvis) !== \"undefined\"){\n",
              "   // already loaded: just create the visualization\n",
              "   !function(LDAvis){\n",
              "       new LDAvis(\"#\" + \"ldavis_el208140051993328576370339184\", ldavis_el208140051993328576370339184_data);\n",
              "   }(LDAvis);\n",
              "}else if(typeof define === \"function\" && define.amd){\n",
              "   // require.js is available: use it to load d3/LDAvis\n",
              "   require.config({paths: {d3: \"https://d3js.org/d3.v5\"}});\n",
              "   require([\"d3\"], function(d3){\n",
              "      window.d3 = d3;\n",
              "      LDAvis_load_lib(\"https://cdn.jsdelivr.net/gh/bmabey/pyLDAvis@3.4.0/pyLDAvis/js/ldavis.v3.0.0.js\", function(){\n",
              "        new LDAvis(\"#\" + \"ldavis_el208140051993328576370339184\", ldavis_el208140051993328576370339184_data);\n",
              "      });\n",
              "    });\n",
              "}else{\n",
              "    // require.js not available: dynamically load d3 & LDAvis\n",
              "    LDAvis_load_lib(\"https://d3js.org/d3.v5.js\", function(){\n",
              "         LDAvis_load_lib(\"https://cdn.jsdelivr.net/gh/bmabey/pyLDAvis@3.4.0/pyLDAvis/js/ldavis.v3.0.0.js\", function(){\n",
              "                 new LDAvis(\"#\" + \"ldavis_el208140051993328576370339184\", ldavis_el208140051993328576370339184_data);\n",
              "            })\n",
              "         });\n",
              "}\n",
              "</script>"
            ]
          },
          "metadata": {},
          "execution_count": 22
        }
      ]
    },
    {
      "cell_type": "code",
      "source": [
        "print('\\nPerplexity: ', lda.log_perplexity(corpus,total_docs=10000))  # a measure of how good the model is. lower the better.\n",
        "\n",
        "# Compute Coherence Score\n",
        "coherence_model_lda = CoherenceModel(model=lda, texts=data_words, dictionary=id2word, coherence='c_v')\n",
        "coherence_lda = coherence_model_lda.get_coherence()\n",
        "print('\\nCoherence Score: ', coherence_lda)"
      ],
      "metadata": {
        "colab": {
          "base_uri": "https://localhost:8080/"
        },
        "id": "Xj0X43-NwLD7",
        "outputId": "bf83df99-0ea3-41d6-b16d-deb71e4d6661"
      },
      "execution_count": 23,
      "outputs": [
        {
          "output_type": "stream",
          "name": "stdout",
          "text": [
            "\n",
            "Perplexity:  -7.93793061230642\n",
            "\n",
            "Coherence Score:  0.49589174782655954\n"
          ]
        }
      ]
    }
  ]
}