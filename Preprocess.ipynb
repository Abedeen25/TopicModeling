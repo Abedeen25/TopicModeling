{
 "cells": [
  {
   "cell_type": "code",
   "execution_count": 10,
   "metadata": {},
   "outputs": [
    {
     "name": "stdout",
     "output_type": "stream",
     "text": [
      "Top 10% users with highest Openness value:\n",
      "21     577088\n",
      "672    285587\n",
      "559    167958\n",
      "608     69545\n",
      "806    247533\n",
      "        ...  \n",
      "562     16853\n",
      "193    458193\n",
      "52       4668\n",
      "153    654031\n",
      "77     414076\n",
      "Name: User_id, Length: 81, dtype: int64\n"
     ]
    }
   ],
   "source": [
    "import pandas as pd\n",
    "\n",
    "df_bpt = pd.read_csv('Data/Stack_overflow_data.csv', delimiter=',')\n",
    "\n",
    "# Sort the DataFrame based on openness in descending order and select top 10%\n",
    "top_30_users = df_bpt.sort_values('Openness', ascending=False).head(int(len(df_bpt) * 0.1))\n",
    "\n",
    "print(\"Top 10% users with highest Openness value:\")\n",
    "print(top_30_users[\"User_id\"])\n"
   ]
  },
  {
   "cell_type": "code",
   "execution_count": 11,
   "metadata": {},
   "outputs": [
    {
     "data": {
      "text/html": [
       "<div>\n",
       "<style scoped>\n",
       "    .dataframe tbody tr th:only-of-type {\n",
       "        vertical-align: middle;\n",
       "    }\n",
       "\n",
       "    .dataframe tbody tr th {\n",
       "        vertical-align: top;\n",
       "    }\n",
       "\n",
       "    .dataframe thead th {\n",
       "        text-align: right;\n",
       "    }\n",
       "</style>\n",
       "<table border=\"1\" class=\"dataframe\">\n",
       "  <thead>\n",
       "    <tr style=\"text-align: right;\">\n",
       "      <th></th>\n",
       "      <th>user_id</th>\n",
       "      <th>answers</th>\n",
       "      <th>all_comments</th>\n",
       "      <th>total_comments</th>\n",
       "    </tr>\n",
       "  </thead>\n",
       "  <tbody>\n",
       "    <tr>\n",
       "      <th>17</th>\n",
       "      <td>45375</td>\n",
       "      <td>[\"How can I get the full object in Node.js's c...</td>\n",
       "      <td>[\"Good to know; not sure when it was introduce...</td>\n",
       "      <td>83</td>\n",
       "    </tr>\n",
       "    <tr>\n",
       "      <th>21</th>\n",
       "      <td>577088</td>\n",
       "      <td>['Running shell command and capturing the outp...</td>\n",
       "      <td>['Note that this explicitly marked as a legacy...</td>\n",
       "      <td>32</td>\n",
       "    </tr>\n",
       "    <tr>\n",
       "      <th>22</th>\n",
       "      <td>1708801</td>\n",
       "      <td>['Variable number of arguments in C++?', 'Unkn...</td>\n",
       "      <td>['@K-ballo I added C++11 examples as well sinc...</td>\n",
       "      <td>50</td>\n",
       "    </tr>\n",
       "    <tr>\n",
       "      <th>23</th>\n",
       "      <td>811</td>\n",
       "      <td>['How to change the href attribute for a hyper...</td>\n",
       "      <td>['See my edit, @Triynko. These are not intende...</td>\n",
       "      <td>27</td>\n",
       "    </tr>\n",
       "    <tr>\n",
       "      <th>29</th>\n",
       "      <td>541136</td>\n",
       "      <td>['How do I merge two dictionaries in a single ...</td>\n",
       "      <td>[]</td>\n",
       "      <td>0</td>\n",
       "    </tr>\n",
       "    <tr>\n",
       "      <th>...</th>\n",
       "      <td>...</td>\n",
       "      <td>...</td>\n",
       "      <td>...</td>\n",
       "      <td>...</td>\n",
       "    </tr>\n",
       "    <tr>\n",
       "      <th>785</th>\n",
       "      <td>187141</td>\n",
       "      <td>['Change key pair for ec2 instance', 'Add Keyp...</td>\n",
       "      <td>['What is your output directory?', 'Looks like...</td>\n",
       "      <td>6</td>\n",
       "    </tr>\n",
       "    <tr>\n",
       "      <th>800</th>\n",
       "      <td>497418</td>\n",
       "      <td>['jQuery Data vs Attr?', 'Adding data attribut...</td>\n",
       "      <td>[\"@vitorbal, while this is true, the object re...</td>\n",
       "      <td>26</td>\n",
       "    </tr>\n",
       "    <tr>\n",
       "      <th>806</th>\n",
       "      <td>247533</td>\n",
       "      <td>['How do I break out of a loop in Scala?', 'Al...</td>\n",
       "      <td>[\"@Jonathan - Exceptions are only slow if you ...</td>\n",
       "      <td>27</td>\n",
       "    </tr>\n",
       "    <tr>\n",
       "      <th>810</th>\n",
       "      <td>20481</td>\n",
       "      <td>['What is the C# Using block and why should I ...</td>\n",
       "      <td>[\"Thanks.  The little question thing is suppos...</td>\n",
       "      <td>8</td>\n",
       "    </tr>\n",
       "    <tr>\n",
       "      <th>815</th>\n",
       "      <td>592746</td>\n",
       "      <td>['How to run a hello.js file in Node.js on win...</td>\n",
       "      <td>[\"@Mitul - Right, this is the detail that was ...</td>\n",
       "      <td>20</td>\n",
       "    </tr>\n",
       "  </tbody>\n",
       "</table>\n",
       "<p>81 rows × 4 columns</p>\n",
       "</div>"
      ],
      "text/plain": [
       "     user_id                                            answers  \\\n",
       "17     45375  [\"How can I get the full object in Node.js's c...   \n",
       "21    577088  ['Running shell command and capturing the outp...   \n",
       "22   1708801  ['Variable number of arguments in C++?', 'Unkn...   \n",
       "23       811  ['How to change the href attribute for a hyper...   \n",
       "29    541136  ['How do I merge two dictionaries in a single ...   \n",
       "..       ...                                                ...   \n",
       "785   187141  ['Change key pair for ec2 instance', 'Add Keyp...   \n",
       "800   497418  ['jQuery Data vs Attr?', 'Adding data attribut...   \n",
       "806   247533  ['How do I break out of a loop in Scala?', 'Al...   \n",
       "810    20481  ['What is the C# Using block and why should I ...   \n",
       "815   592746  ['How to run a hello.js file in Node.js on win...   \n",
       "\n",
       "                                          all_comments  total_comments  \n",
       "17   [\"Good to know; not sure when it was introduce...              83  \n",
       "21   ['Note that this explicitly marked as a legacy...              32  \n",
       "22   ['@K-ballo I added C++11 examples as well sinc...              50  \n",
       "23   ['See my edit, @Triynko. These are not intende...              27  \n",
       "29                                                  []               0  \n",
       "..                                                 ...             ...  \n",
       "785  ['What is your output directory?', 'Looks like...               6  \n",
       "800  [\"@vitorbal, while this is true, the object re...              26  \n",
       "806  [\"@Jonathan - Exceptions are only slow if you ...              27  \n",
       "810  [\"Thanks.  The little question thing is suppos...               8  \n",
       "815  [\"@Mitul - Right, this is the detail that was ...              20  \n",
       "\n",
       "[81 rows x 4 columns]"
      ]
     },
     "execution_count": 11,
     "metadata": {},
     "output_type": "execute_result"
    }
   ],
   "source": [
    "df_ans = pd.read_csv('Data/answers_com.csv', delimiter=',')\n",
    "\n",
    "df_ans_filtered = df_ans[df_ans['user_id'].isin(top_30_users[\"User_id\"])]\n",
    "df_ans_filtered\n"
   ]
  },
  {
   "cell_type": "code",
   "execution_count": 12,
   "metadata": {},
   "outputs": [
    {
     "data": {
      "text/plain": [
       "17    [\"How can I get the full object in Node.js's c...\n",
       "Name: answers, dtype: object"
      ]
     },
     "execution_count": 12,
     "metadata": {},
     "output_type": "execute_result"
    }
   ],
   "source": [
    "df_ans_filtered.head(1)[\"answers\"]"
   ]
  },
  {
   "cell_type": "code",
   "execution_count": 13,
   "metadata": {},
   "outputs": [
    {
     "name": "stdout",
     "output_type": "stream",
     "text": [
      "JSON file 'open_answers_and_comments.json' has been created.\n"
     ]
    },
    {
     "name": "stderr",
     "output_type": "stream",
     "text": [
      "C:\\Users\\iftek\\AppData\\Local\\Temp/ipykernel_4744/673214787.py:17: SettingWithCopyWarning: \n",
      "A value is trying to be set on a copy of a slice from a DataFrame.\n",
      "Try using .loc[row_indexer,col_indexer] = value instead\n",
      "\n",
      "See the caveats in the documentation: https://pandas.pydata.org/pandas-docs/stable/user_guide/indexing.html#returning-a-view-versus-a-copy\n",
      "  df_ans_filtered['answers'] = df_ans_filtered['answers'].apply(safe_literal_eval)\n",
      "C:\\Users\\iftek\\AppData\\Local\\Temp/ipykernel_4744/673214787.py:18: SettingWithCopyWarning: \n",
      "A value is trying to be set on a copy of a slice from a DataFrame.\n",
      "Try using .loc[row_indexer,col_indexer] = value instead\n",
      "\n",
      "See the caveats in the documentation: https://pandas.pydata.org/pandas-docs/stable/user_guide/indexing.html#returning-a-view-versus-a-copy\n",
      "  df_ans_filtered['all_comments'] = df_ans_filtered['all_comments'].apply(safe_literal_eval)\n"
     ]
    }
   ],
   "source": [
    "import json\n",
    "import ast\n",
    "\n",
    "def flatten_2d_array(dictionary, key):\n",
    "    if key in dictionary:\n",
    "        dictionary[key] = [item for sublist in dictionary[key] for item in sublist]\n",
    "    return dictionary\n",
    "\n",
    "def safe_literal_eval(val):\n",
    "    try:\n",
    "        return ast.literal_eval(val)\n",
    "    except (ValueError, SyntaxError):\n",
    "        print(f\"Error parsing: {val}\")\n",
    "        return val  # Return the original value if parsing fails\n",
    "\n",
    "\n",
    "df_ans_filtered['answers'] = df_ans_filtered['answers'].apply(safe_literal_eval)\n",
    "df_ans_filtered['all_comments'] = df_ans_filtered['all_comments'].apply(safe_literal_eval)\n",
    "\n",
    "# Create dictionaries with 'answers' and 'comments' as keys and the lists as values\n",
    "answers_dict = {'answers': df_ans_filtered['answers'].tolist()}\n",
    "comments_dict = {'comments': df_ans_filtered['all_comments'].tolist()}\n",
    "\n",
    "answers_dict = flatten_2d_array(answers_dict, \"answers\")\n",
    "comments_dict = flatten_2d_array(comments_dict, \"comments\")\n",
    "\n",
    "\n",
    "combined_dict = {**answers_dict, **comments_dict}\n",
    "\n",
    "# Write the combined dictionary to a JSON file\n",
    "with open('open_answers_and_comments.json', 'w') as f:\n",
    "    json.dump(combined_dict, f, indent=2)\n",
    "\n",
    "print(\"JSON file 'open_answers_and_comments.json' has been created.\")\n"
   ]
  }
 ],
 "metadata": {
  "kernelspec": {
   "display_name": "base",
   "language": "python",
   "name": "python3"
  },
  "language_info": {
   "codemirror_mode": {
    "name": "ipython",
    "version": 3
   },
   "file_extension": ".py",
   "mimetype": "text/x-python",
   "name": "python",
   "nbconvert_exporter": "python",
   "pygments_lexer": "ipython3",
   "version": "3.9.7"
  }
 },
 "nbformat": 4,
 "nbformat_minor": 2
}
