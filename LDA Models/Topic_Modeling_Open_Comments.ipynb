{
  "nbformat": 4,
  "nbformat_minor": 0,
  "metadata": {
    "colab": {
      "provenance": []
    },
    "kernelspec": {
      "name": "python3",
      "display_name": "Python 3"
    },
    "language_info": {
      "name": "python"
    }
  },
  "cells": [
    {
      "cell_type": "markdown",
      "source": [
        "# Topic Modeling (LDA)\n",
        "## Setup\n"
      ],
      "metadata": {
        "id": "oFOXHb0g9uVJ"
      }
    },
    {
      "cell_type": "code",
      "execution_count": 1,
      "metadata": {
        "colab": {
          "base_uri": "https://localhost:8080/"
        },
        "id": "unls0i3Q9iXV",
        "outputId": "37eed698-a102-4fd5-d735-ecf37757f511"
      },
      "outputs": [
        {
          "output_type": "stream",
          "name": "stdout",
          "text": [
            "Requirement already satisfied: gensim in /usr/local/lib/python3.10/dist-packages (4.3.2)\n",
            "Requirement already satisfied: numpy>=1.18.5 in /usr/local/lib/python3.10/dist-packages (from gensim) (1.25.2)\n",
            "Requirement already satisfied: scipy>=1.7.0 in /usr/local/lib/python3.10/dist-packages (from gensim) (1.11.4)\n",
            "Requirement already satisfied: smart-open>=1.8.1 in /usr/local/lib/python3.10/dist-packages (from gensim) (7.0.4)\n",
            "Requirement already satisfied: wrapt in /usr/local/lib/python3.10/dist-packages (from smart-open>=1.8.1->gensim) (1.14.1)\n"
          ]
        }
      ],
      "source": [
        "!pip install --upgrade gensim"
      ]
    },
    {
      "cell_type": "code",
      "source": [
        "!pip install nltk\n",
        "!pip install pyLDAvis"
      ],
      "metadata": {
        "colab": {
          "base_uri": "https://localhost:8080/"
        },
        "id": "Yo9GeHO6-GTr",
        "outputId": "4590fc23-d901-40bf-9c40-05718d4cfb35"
      },
      "execution_count": 2,
      "outputs": [
        {
          "output_type": "stream",
          "name": "stdout",
          "text": [
            "Requirement already satisfied: nltk in /usr/local/lib/python3.10/dist-packages (3.8.1)\n",
            "Requirement already satisfied: click in /usr/local/lib/python3.10/dist-packages (from nltk) (8.1.7)\n",
            "Requirement already satisfied: joblib in /usr/local/lib/python3.10/dist-packages (from nltk) (1.4.2)\n",
            "Requirement already satisfied: regex>=2021.8.3 in /usr/local/lib/python3.10/dist-packages (from nltk) (2024.5.15)\n",
            "Requirement already satisfied: tqdm in /usr/local/lib/python3.10/dist-packages (from nltk) (4.66.4)\n",
            "Collecting pyLDAvis\n",
            "  Downloading pyLDAvis-3.4.1-py3-none-any.whl (2.6 MB)\n",
            "\u001b[2K     \u001b[90m━━━━━━━━━━━━━━━━━━━━━━━━━━━━━━━━━━━━━━━━\u001b[0m \u001b[32m2.6/2.6 MB\u001b[0m \u001b[31m21.1 MB/s\u001b[0m eta \u001b[36m0:00:00\u001b[0m\n",
            "\u001b[?25hRequirement already satisfied: numpy>=1.24.2 in /usr/local/lib/python3.10/dist-packages (from pyLDAvis) (1.25.2)\n",
            "Requirement already satisfied: scipy in /usr/local/lib/python3.10/dist-packages (from pyLDAvis) (1.11.4)\n",
            "Requirement already satisfied: pandas>=2.0.0 in /usr/local/lib/python3.10/dist-packages (from pyLDAvis) (2.0.3)\n",
            "Requirement already satisfied: joblib>=1.2.0 in /usr/local/lib/python3.10/dist-packages (from pyLDAvis) (1.4.2)\n",
            "Requirement already satisfied: jinja2 in /usr/local/lib/python3.10/dist-packages (from pyLDAvis) (3.1.4)\n",
            "Requirement already satisfied: numexpr in /usr/local/lib/python3.10/dist-packages (from pyLDAvis) (2.10.1)\n",
            "Collecting funcy (from pyLDAvis)\n",
            "  Downloading funcy-2.0-py2.py3-none-any.whl (30 kB)\n",
            "Requirement already satisfied: scikit-learn>=1.0.0 in /usr/local/lib/python3.10/dist-packages (from pyLDAvis) (1.2.2)\n",
            "Requirement already satisfied: gensim in /usr/local/lib/python3.10/dist-packages (from pyLDAvis) (4.3.2)\n",
            "Requirement already satisfied: setuptools in /usr/local/lib/python3.10/dist-packages (from pyLDAvis) (67.7.2)\n",
            "Requirement already satisfied: python-dateutil>=2.8.2 in /usr/local/lib/python3.10/dist-packages (from pandas>=2.0.0->pyLDAvis) (2.8.2)\n",
            "Requirement already satisfied: pytz>=2020.1 in /usr/local/lib/python3.10/dist-packages (from pandas>=2.0.0->pyLDAvis) (2023.4)\n",
            "Requirement already satisfied: tzdata>=2022.1 in /usr/local/lib/python3.10/dist-packages (from pandas>=2.0.0->pyLDAvis) (2024.1)\n",
            "Requirement already satisfied: threadpoolctl>=2.0.0 in /usr/local/lib/python3.10/dist-packages (from scikit-learn>=1.0.0->pyLDAvis) (3.5.0)\n",
            "Requirement already satisfied: smart-open>=1.8.1 in /usr/local/lib/python3.10/dist-packages (from gensim->pyLDAvis) (7.0.4)\n",
            "Requirement already satisfied: MarkupSafe>=2.0 in /usr/local/lib/python3.10/dist-packages (from jinja2->pyLDAvis) (2.1.5)\n",
            "Requirement already satisfied: six>=1.5 in /usr/local/lib/python3.10/dist-packages (from python-dateutil>=2.8.2->pandas>=2.0.0->pyLDAvis) (1.16.0)\n",
            "Requirement already satisfied: wrapt in /usr/local/lib/python3.10/dist-packages (from smart-open>=1.8.1->gensim->pyLDAvis) (1.14.1)\n",
            "Installing collected packages: funcy, pyLDAvis\n",
            "Successfully installed funcy-2.0 pyLDAvis-3.4.1\n"
          ]
        }
      ]
    },
    {
      "cell_type": "markdown",
      "source": [
        "## import libraries"
      ],
      "metadata": {
        "id": "sw8zm23D-Yuj"
      }
    },
    {
      "cell_type": "code",
      "source": [
        "import nltk\n",
        "nltk.download(\"stopwords\")"
      ],
      "metadata": {
        "id": "_Z4hMas0_P79",
        "colab": {
          "base_uri": "https://localhost:8080/"
        },
        "outputId": "b1b6c1b7-7b4c-4024-9624-833f31692dbb"
      },
      "execution_count": 3,
      "outputs": [
        {
          "output_type": "stream",
          "name": "stderr",
          "text": [
            "[nltk_data] Downloading package stopwords to /root/nltk_data...\n",
            "[nltk_data]   Unzipping corpora/stopwords.zip.\n"
          ]
        },
        {
          "output_type": "execute_result",
          "data": {
            "text/plain": [
              "True"
            ]
          },
          "metadata": {},
          "execution_count": 3
        }
      ]
    },
    {
      "cell_type": "code",
      "source": [
        "import numpy as np\n",
        "import json\n",
        "import glob\n",
        "\n",
        "#gensim\n",
        "import gensim\n",
        "import gensim.corpora as copora\n",
        "from gensim.utils import simple_preprocess\n",
        "from gensim.models import CoherenceModel\n",
        "\n",
        "#spacy\n",
        "import spacy\n",
        "from nltk.corpus import stopwords\n",
        "\n",
        "#vis\n",
        "import pyLDAvis\n",
        "import pyLDAvis.gensim\n",
        "\n",
        "import warnings\n",
        "warnings.filterwarnings(\"ignore\", category=DeprecationWarning)"
      ],
      "metadata": {
        "id": "m82r5Dwe-d-t"
      },
      "execution_count": 4,
      "outputs": []
    },
    {
      "cell_type": "markdown",
      "source": [
        "## Data Prep"
      ],
      "metadata": {
        "id": "PnBvfvKNBWhG"
      }
    },
    {
      "cell_type": "code",
      "source": [
        "def laod_data(file):\n",
        "  with open (file, \"r\", encoding=\"utf-8\") as f:\n",
        "    data = json.load(f)\n",
        "  return (data)\n",
        "\n",
        "def write_data(file, data):\n",
        "  with open (file, \"w\", encoding=\"utf-8\") as f:\n",
        "    json.dump(data, f, indent=4)"
      ],
      "metadata": {
        "id": "z5sfI_fTBYmb"
      },
      "execution_count": 5,
      "outputs": []
    },
    {
      "cell_type": "code",
      "source": [
        "stopwords = stopwords.words(\"english\")\n",
        "print(stopwords)"
      ],
      "metadata": {
        "colab": {
          "base_uri": "https://localhost:8080/"
        },
        "id": "_BElnCEgCJEA",
        "outputId": "485481ac-0553-4175-91de-3897847dbbc2"
      },
      "execution_count": 6,
      "outputs": [
        {
          "output_type": "stream",
          "name": "stdout",
          "text": [
            "['i', 'me', 'my', 'myself', 'we', 'our', 'ours', 'ourselves', 'you', \"you're\", \"you've\", \"you'll\", \"you'd\", 'your', 'yours', 'yourself', 'yourselves', 'he', 'him', 'his', 'himself', 'she', \"she's\", 'her', 'hers', 'herself', 'it', \"it's\", 'its', 'itself', 'they', 'them', 'their', 'theirs', 'themselves', 'what', 'which', 'who', 'whom', 'this', 'that', \"that'll\", 'these', 'those', 'am', 'is', 'are', 'was', 'were', 'be', 'been', 'being', 'have', 'has', 'had', 'having', 'do', 'does', 'did', 'doing', 'a', 'an', 'the', 'and', 'but', 'if', 'or', 'because', 'as', 'until', 'while', 'of', 'at', 'by', 'for', 'with', 'about', 'against', 'between', 'into', 'through', 'during', 'before', 'after', 'above', 'below', 'to', 'from', 'up', 'down', 'in', 'out', 'on', 'off', 'over', 'under', 'again', 'further', 'then', 'once', 'here', 'there', 'when', 'where', 'why', 'how', 'all', 'any', 'both', 'each', 'few', 'more', 'most', 'other', 'some', 'such', 'no', 'nor', 'not', 'only', 'own', 'same', 'so', 'than', 'too', 'very', 's', 't', 'can', 'will', 'just', 'don', \"don't\", 'should', \"should've\", 'now', 'd', 'll', 'm', 'o', 're', 've', 'y', 'ain', 'aren', \"aren't\", 'couldn', \"couldn't\", 'didn', \"didn't\", 'doesn', \"doesn't\", 'hadn', \"hadn't\", 'hasn', \"hasn't\", 'haven', \"haven't\", 'isn', \"isn't\", 'ma', 'mightn', \"mightn't\", 'mustn', \"mustn't\", 'needn', \"needn't\", 'shan', \"shan't\", 'shouldn', \"shouldn't\", 'wasn', \"wasn't\", 'weren', \"weren't\", 'won', \"won't\", 'wouldn', \"wouldn't\"]\n"
          ]
        }
      ]
    },
    {
      "cell_type": "code",
      "source": [
        "data = laod_data(\"/content/open_answers_and_comments.json\")[\"comments\"]\n",
        "\n",
        "print(data[0][0:90])"
      ],
      "metadata": {
        "colab": {
          "base_uri": "https://localhost:8080/"
        },
        "id": "X-9h7Nl-2Kfn",
        "outputId": "edc49e0a-58a8-44a8-f464-6bffc1373e24"
      },
      "execution_count": 45,
      "outputs": [
        {
          "output_type": "stream",
          "name": "stdout",
          "text": [
            "Good to know; not sure when it was introduced, but as of at least node v0.10.33 console.lo\n"
          ]
        }
      ]
    },
    {
      "cell_type": "code",
      "source": [
        "def lemmatization(texts, allowed_postags=[\"NOUN\", \"ADJ\", \"VERB\", \"ADV\"]):\n",
        "  nlp = spacy.load(\"en_core_web_sm\", disable=[\"parser\", \"ner\"])\n",
        "  texts_out = []\n",
        "  for text in texts:\n",
        "    doc = nlp(text)\n",
        "    new_text = []\n",
        "    for token in doc:\n",
        "      if token.pos_ in allowed_postags:\n",
        "        new_text.append(token.lemma_)\n",
        "    final = \" \".join(new_text)\n",
        "    texts_out.append(final)\n",
        "  return(texts_out)\n",
        "\n",
        "lemmatized_text = lemmatization(data)\n",
        "print(lemmatized_text[0][0:90])"
      ],
      "metadata": {
        "colab": {
          "base_uri": "https://localhost:8080/"
        },
        "id": "mb98sB2K2f6D",
        "outputId": "4337f455-f196-42c2-b0da-ba3d4bd1434e"
      },
      "execution_count": 46,
      "outputs": [
        {
          "output_type": "stream",
          "name": "stdout",
          "text": [
            "good know sure introduce least implicitly apply util.inspect argument assume 1st one forma\n"
          ]
        }
      ]
    },
    {
      "cell_type": "code",
      "source": [
        "def gen_words(texts):\n",
        "  final = []\n",
        "  for text in texts:\n",
        "    new = gensim.utils.simple_preprocess(text, deacc=True)\n",
        "    final.append(new)\n",
        "  return (final)\n",
        "\n",
        "data_words = gen_words(lemmatized_text)\n",
        "\n",
        "print(data_words[0][0:30])"
      ],
      "metadata": {
        "colab": {
          "base_uri": "https://localhost:8080/"
        },
        "id": "EC3E8hP25MWn",
        "outputId": "ab0ea09f-deeb-4248-cc31-b361f48ca01e"
      },
      "execution_count": 47,
      "outputs": [
        {
          "output_type": "stream",
          "name": "stdout",
          "text": [
            "['good', 'know', 'sure', 'introduce', 'least', 'implicitly', 'apply', 'util', 'inspect', 'argument', 'assume', 'st', 'one', 'format', 'string', 'happy', 'util', 'inspect', 'default', 'option', 'simply', 'need', 'require', 'util', 'same', 'accept', 'only', 'object', 'inspect', 'least']\n"
          ]
        }
      ]
    },
    {
      "cell_type": "code",
      "source": [
        "id2word = gensim.corpora.Dictionary(data_words)\n",
        "\n",
        "corpus = []\n",
        "\n",
        "for text in data_words:\n",
        "  new = id2word.doc2bow(text) # bow -> bag of words\n",
        "  corpus.append(new)\n",
        "\n",
        "print(corpus[0][0:20]) #each tuple contains index of the word along with the frequency of that word."
      ],
      "metadata": {
        "colab": {
          "base_uri": "https://localhost:8080/"
        },
        "id": "RO0VI9wB_Cju",
        "outputId": "49de9d7e-b2d5-4b87-9017-785fb4a28376"
      },
      "execution_count": 48,
      "outputs": [
        {
          "output_type": "stream",
          "name": "stdout",
          "text": [
            "[(0, 1), (1, 1), (2, 1), (3, 2), (4, 1), (5, 1), (6, 1), (7, 1), (8, 1), (9, 1), (10, 1), (11, 4), (12, 1), (13, 1), (14, 2), (15, 1), (16, 1), (17, 1), (18, 2), (19, 1)]\n"
          ]
        }
      ]
    },
    {
      "cell_type": "code",
      "source": [
        "lda = gensim.models.ldamodel.LdaModel(corpus=corpus,\n",
        "                                    id2word=id2word,\n",
        "                                    num_topics=10,\n",
        "                                    random_state=100,\n",
        "                                    update_every=1,\n",
        "                                    chunksize=100,\n",
        "                                    passes=10,\n",
        "                                    alpha=\"auto\")"
      ],
      "metadata": {
        "id": "6KSIixmGA6gW"
      },
      "execution_count": 49,
      "outputs": []
    },
    {
      "cell_type": "markdown",
      "source": [
        "## Visualization of Data"
      ],
      "metadata": {
        "id": "evp4uPlUIGy3"
      }
    },
    {
      "cell_type": "code",
      "source": [
        "pyLDAvis.enable_notebook()\n",
        "vis = pyLDAvis.gensim.prepare(lda, corpus, id2word, mds=\"mmds\", R=9)\n",
        "vis"
      ],
      "metadata": {
        "colab": {
          "base_uri": "https://localhost:8080/",
          "height": 916
        },
        "id": "UOHcDtbKIM8k",
        "outputId": "dc406b62-c6e9-4643-a9e9-0f0395f7456b"
      },
      "execution_count": 50,
      "outputs": [
        {
          "output_type": "stream",
          "name": "stderr",
          "text": [
            "/usr/local/lib/python3.10/dist-packages/sklearn/manifold/_mds.py:299: FutureWarning: The default value of `normalized_stress` will change to `'auto'` in version 1.4. To suppress this warning, manually set the value of `normalized_stress`.\n",
            "  warnings.warn(\n"
          ]
        },
        {
          "output_type": "execute_result",
          "data": {
            "text/plain": [
              "PreparedData(topic_coordinates=              x         y  topics  cluster       Freq\n",
              "topic                                                \n",
              "3     -0.426481 -0.212906       1        1  45.405887\n",
              "8     -0.083456  0.390475       2        1  11.294135\n",
              "9     -0.327161  0.215525       3        1  11.054280\n",
              "2      0.199107 -0.332635       4        1   7.633524\n",
              "6      0.372085 -0.084171       5        1   6.999565\n",
              "5      0.282367  0.136368       6        1   4.689485\n",
              "0      0.137943  0.263386       7        1   4.094653\n",
              "1     -0.048024 -0.289343       8        1   3.588565\n",
              "4     -0.159778 -0.048760       9        1   3.519945\n",
              "7      0.053398 -0.037939      10        1   1.719961, topic_info=           Term        Freq       Total Category  logprob  loglift\n",
              "1        answer  296.000000  296.000000  Default   9.0000   9.0000\n",
              "46          use  739.000000  739.000000  Default   8.0000   8.0000\n",
              "453    question  209.000000  209.000000  Default   7.0000   7.0000\n",
              "889        type  203.000000  203.000000  Default   6.0000   6.0000\n",
              "75           go  118.000000  118.000000  Default   5.0000   5.0000\n",
              "...         ...         ...         ...      ...      ...      ...\n",
              "787       above   22.957870   23.772796  Topic10  -3.2265   4.0280\n",
              "1590  important   18.636027   19.450951  Topic10  -3.4351   4.0201\n",
              "1479        put   12.474964   13.289765  Topic10  -3.8364   3.9996\n",
              "1193      query   10.825148   11.639855  Topic10  -3.9783   3.9903\n",
              "1616       node   10.198312   11.013249  Topic10  -4.0379   3.9860\n",
              "\n",
              "[100 rows x 6 columns], token_table=      Topic      Freq     Term\n",
              "term                          \n",
              "787      10  0.967492    above\n",
              "91        8  0.975930  address\n",
              "1         2  0.996570   answer\n",
              "779       6  0.986070    array\n",
              "538       4  0.978698      ask\n",
              "...     ...       ...      ...\n",
              "117       6  0.969208  usually\n",
              "403       7  0.974104  version\n",
              "289       8  0.949126  warning\n",
              "59        1  0.996878     work\n",
              "1021      2  0.986659    wrong\n",
              "\n",
              "[92 rows x 3 columns], R=9, lambda_step=0.01, plot_opts={'xlab': 'PC1', 'ylab': 'PC2'}, topic_order=[4, 9, 10, 3, 7, 6, 1, 2, 5, 8])"
            ],
            "text/html": [
              "\n",
              "<link rel=\"stylesheet\" type=\"text/css\" href=\"https://cdn.jsdelivr.net/gh/bmabey/pyLDAvis@3.4.0/pyLDAvis/js/ldavis.v1.0.0.css\">\n",
              "\n",
              "\n",
              "<div id=\"ldavis_el2081400520239271683499207274\" style=\"background-color:white;\"></div>\n",
              "<script type=\"text/javascript\">\n",
              "\n",
              "var ldavis_el2081400520239271683499207274_data = {\"mdsDat\": {\"x\": [-0.4264809985286533, -0.08345632063674047, -0.3271609207188815, 0.19910698295879883, 0.37208473903353534, 0.2823666483961, 0.13794305689670547, -0.048023868614449176, -0.15977780413636233, 0.05339848534994723], \"y\": [-0.21290643636335613, 0.39047473381459974, 0.21552526612709758, -0.3326349354759277, -0.0841712088504219, 0.13636829555516367, 0.26338627341191334, -0.289342534191731, -0.04876022565085403, -0.03793922837648353], \"topics\": [1, 2, 3, 4, 5, 6, 7, 8, 9, 10], \"cluster\": [1, 1, 1, 1, 1, 1, 1, 1, 1, 1], \"Freq\": [45.405887135944255, 11.294135165109772, 11.054279924030691, 7.6335242790074895, 6.999564680812255, 4.689485300395646, 4.094653063066634, 3.588564688372558, 3.5199448209703452, 1.7199609422903523]}, \"tinfo\": {\"Term\": [\"answer\", \"use\", \"question\", \"type\", \"go\", \"array\", \"look\", \"solution\", \"thing\", \"use\", \"just\", \"need\", \"so\", \"work\", \"only\", \"function\", \"case\", \"object\", \"answer\", \"question\", \"solution\", \"run\", \"possible\", \"sure\", \"wrong\", \"right\", \"part\", \"type\", \"thing\", \"error\", \"element\", \"probably\", \"default\", \"provide\", \"null\", \"name\", \"know\", \"class\", \"issue\", \"rather\", \"order\", \"implementation\", \"ask\", \"syntax\", \"understand\", \"op\", \"go\", \"much\", \"read\", \"user\", \"bit\", \"loop\", \"result\", \"language\", \"suggest\", \"array\", \"consider\", \"message\", \"declare\", \"usually\", \"index\", \"item\", \"directory\", \"clear\", \"version\", \"datum\", \"lot\", \"date\", \"control\", \"character\", \"encoding\", \"byte\", \"turn\", \"place\", \"expect\", \"input\", \"column\", \"warning\", \"callback\", \"address\", \"throw\", \"attribute\", \"look\", \"set\", \"map\", \"particular\", \"global\", \"exactly\", \"solve\", \"match\", \"fully\", \"exist\", \"exception\", \"source\", \"system\", \"above\", \"important\", \"put\", \"query\", \"node\"], \"Freq\": [296.0, 739.0, 209.0, 203.0, 118.0, 91.0, 74.0, 107.0, 104.0, 739.0136178684354, 317.4571549189212, 250.43077861397018, 244.7932714082388, 240.98639846594767, 216.29402248948114, 212.23151710771222, 210.60792834161518, 204.4759633290977, 295.2398346084118, 208.87690955712736, 106.73421049837464, 96.35455442089803, 82.07693999150062, 78.8363740759165, 69.15771967101712, 65.87584346514187, 61.283942973128525, 202.98472133233042, 103.87884100305, 94.69825653134815, 91.88606679062991, 90.41547647479508, 89.21839032707496, 66.76550791600694, 65.30030404819745, 61.67109814793305, 87.19407592361665, 82.64823331782874, 56.244289185939294, 53.11334070507522, 51.35305800153872, 49.46166152645924, 49.287313294733075, 48.25547124390345, 46.39364038883643, 42.26121868287352, 117.60156157752552, 78.3831400108261, 75.52710712205536, 63.274899720471005, 57.30396297248706, 56.36337798821371, 53.906663983180344, 52.45351009350256, 48.584785366574685, 90.48734411213987, 33.383549352031054, 31.086099934891593, 29.207982125312697, 26.042013949623446, 25.605162586376508, 24.73466422760331, 23.69373814989343, 23.59005732246565, 47.45939314391173, 41.65748230385858, 36.40442412173674, 31.64073664971025, 29.25283418722626, 27.097661192887685, 26.451653490038847, 25.004488524964643, 24.993581535047152, 32.281796343908056, 30.240308418817673, 28.110342658916554, 27.635799750554, 23.439845306601168, 23.360377979328817, 21.749650301875665, 21.21695377115135, 20.490136879842552, 73.68770635100522, 53.05296108812034, 48.848274585841835, 37.063243172185906, 31.711059795630714, 30.948284108423362, 21.25084061004976, 20.243518324117684, 18.66579527436248, 42.50481666863816, 29.78859945147978, 28.10728125843884, 27.40324266323017, 22.957869548652354, 18.636027436380306, 12.474963670998042, 10.82514817805852, 10.198311881036428], \"Total\": [296.0, 739.0, 209.0, 203.0, 118.0, 91.0, 74.0, 107.0, 104.0, 739.7819137133719, 318.2265300799294, 251.1991136084314, 245.56157117338674, 241.75465836487967, 217.06230204617472, 212.99982900173, 211.3762114895954, 205.2442585339321, 296.01534602941814, 209.652076975441, 107.50939736345062, 97.12973832487639, 82.85220159526112, 79.6115845432514, 69.93296169392406, 66.65103477333057, 62.0591381429857, 203.76253960482597, 104.65660987915615, 95.47608764268853, 92.6639610750846, 91.19329705455124, 89.99626322802308, 67.54332383723873, 66.07811486614662, 62.44884464421423, 92.43657280291735, 83.42745360198143, 57.02356893310819, 53.892611112101655, 52.13239783390069, 50.24086434859734, 50.066511377214894, 49.03481483706883, 47.172904729977574, 43.04049316231509, 118.38016030890313, 79.16168538312427, 76.30571913597359, 64.05340515336736, 58.08250067990401, 57.141959959715976, 54.68520881917898, 53.232129825190874, 49.36344661723605, 91.27137206134358, 34.16754332883771, 31.870262091359393, 29.992047409941634, 26.826039018113192, 26.389217503005437, 25.518647014554457, 24.47780254204733, 24.37407607423697, 48.249476219756986, 42.44754014140764, 37.19457877597791, 32.43097209353623, 30.04303411444702, 27.88769985428374, 27.242226380057005, 25.79453551278527, 25.784030726259793, 33.074933452836916, 31.033290529832463, 28.903370310096616, 28.428839971620686, 24.23281963174827, 24.153615959994934, 22.54260075080423, 22.01004863720357, 21.28320414072896, 74.48524631355657, 53.85043724415762, 49.64607007068464, 37.86081956886927, 32.50872047666288, 31.74582770524638, 22.04839329261278, 21.04113567705885, 19.464191111120023, 43.31968028995337, 30.603473607565405, 28.922119324237613, 28.21797206964727, 23.77279551414009, 19.45095115610767, 13.289764608797045, 11.639854954089488, 11.013248883076846], \"Category\": [\"Default\", \"Default\", \"Default\", \"Default\", \"Default\", \"Default\", \"Default\", \"Default\", \"Default\", \"Topic1\", \"Topic1\", \"Topic1\", \"Topic1\", \"Topic1\", \"Topic1\", \"Topic1\", \"Topic1\", \"Topic1\", \"Topic2\", \"Topic2\", \"Topic2\", \"Topic2\", \"Topic2\", \"Topic2\", \"Topic2\", \"Topic2\", \"Topic2\", \"Topic3\", \"Topic3\", \"Topic3\", \"Topic3\", \"Topic3\", \"Topic3\", \"Topic3\", \"Topic3\", \"Topic3\", \"Topic3\", \"Topic4\", \"Topic4\", \"Topic4\", \"Topic4\", \"Topic4\", \"Topic4\", \"Topic4\", \"Topic4\", \"Topic4\", \"Topic5\", \"Topic5\", \"Topic5\", \"Topic5\", \"Topic5\", \"Topic5\", \"Topic5\", \"Topic5\", \"Topic5\", \"Topic6\", \"Topic6\", \"Topic6\", \"Topic6\", \"Topic6\", \"Topic6\", \"Topic6\", \"Topic6\", \"Topic6\", \"Topic7\", \"Topic7\", \"Topic7\", \"Topic7\", \"Topic7\", \"Topic7\", \"Topic7\", \"Topic7\", \"Topic7\", \"Topic8\", \"Topic8\", \"Topic8\", \"Topic8\", \"Topic8\", \"Topic8\", \"Topic8\", \"Topic8\", \"Topic8\", \"Topic9\", \"Topic9\", \"Topic9\", \"Topic9\", \"Topic9\", \"Topic9\", \"Topic9\", \"Topic9\", \"Topic9\", \"Topic10\", \"Topic10\", \"Topic10\", \"Topic10\", \"Topic10\", \"Topic10\", \"Topic10\", \"Topic10\", \"Topic10\"], \"logprob\": [9.0, 8.0, 7.0, 6.0, 5.0, 4.0, 3.0, 2.0, 1.0, -3.0282, -3.8732, -4.1103, -4.1331, -4.1488, -4.2569, -4.2758, -4.2835, -4.313, -2.5544, -2.9004, -3.5718, -3.6741, -3.8345, -3.8748, -4.0057, -4.0544, -4.1266, -2.9075, -3.5774, -3.67, -3.7001, -3.7163, -3.7296, -4.0195, -4.0417, -4.0989, -3.7525, -3.4358, -3.8207, -3.878, -3.9117, -3.9492, -3.9527, -3.9739, -4.0132, -4.1065, -2.9964, -3.4021, -3.4392, -3.6162, -3.7153, -3.7319, -3.7764, -3.8038, -3.8804, -2.858, -3.8551, -3.9264, -3.9887, -4.1035, -4.1204, -4.155, -4.198, -4.2024, -3.3677, -3.4981, -3.6328, -3.7731, -3.8516, -3.9281, -3.9522, -4.0085, -4.0089, -3.6211, -3.6864, -3.7595, -3.7765, -3.9412, -3.9446, -4.016, -4.0408, -4.0757, -2.7765, -3.105, -3.1876, -3.4637, -3.6196, -3.644, -4.0199, -4.0685, -4.1496, -2.6105, -2.966, -3.0241, -3.0495, -3.2265, -3.4351, -3.8364, -3.9783, -4.0379], \"loglift\": [9.0, 8.0, 7.0, 6.0, 5.0, 4.0, 3.0, 2.0, 1.0, 0.7885, 0.7871, 0.7865, 0.7864, 0.7863, 0.786, 0.7859, 0.7859, 0.7858, 2.1783, 2.1772, 2.1737, 2.1729, 2.1715, 2.1711, 2.1697, 2.1692, 2.1683, 2.1985, 2.1949, 2.1942, 2.1939, 2.1938, 2.1937, 2.1908, 2.1905, 2.1898, 2.144, 2.5632, 2.5589, 2.5581, 2.5576, 2.557, 2.5569, 2.5566, 2.556, 2.5543, 2.6527, 2.6494, 2.6491, 2.6471, 2.6458, 2.6456, 2.645, 2.6446, 2.6434, 3.0512, 3.0366, 3.0349, 3.0334, 3.0302, 3.0297, 3.0286, 3.0273, 3.0272, 3.179, 3.1767, 3.174, 3.1708, 3.1688, 3.1667, 3.166, 3.1644, 3.1644, 3.3031, 3.3015, 3.2996, 3.2991, 3.2941, 3.294, 3.2916, 3.2907, 3.2894, 3.336, 3.3318, 3.3305, 3.3254, 3.3219, 3.3213, 3.3099, 3.3081, 3.3048, 4.0439, 4.0359, 4.0343, 4.0336, 4.028, 4.0201, 3.9996, 3.9903, 3.986]}, \"token.table\": {\"Topic\": [10, 8, 2, 6, 4, 8, 5, 7, 8, 1, 7, 4, 6, 8, 6, 7, 7, 7, 6, 3, 6, 3, 7, 3, 9, 10, 10, 8, 9, 1, 9, 5, 4, 10, 6, 8, 4, 6, 1, 2, 3, 5, 9, 5, 7, 9, 9, 6, 5, 3, 1, 10, 3, 1, 1, 4, 4, 2, 9, 8, 2, 3, 3, 10, 10, 2, 4, 5, 5, 2, 2, 9, 1, 2, 9, 10, 5, 2, 4, 10, 3, 8, 7, 3, 4, 1, 5, 6, 7, 8, 1, 2], \"Freq\": [0.9674924426249984, 0.9759299844413528, 0.9965699547572874, 0.9860704180004098, 0.9786981088180979, 0.9397081317153119, 0.9813627053375382, 0.969197525871654, 0.9522383744982267, 0.9982201805636303, 0.9681687676315341, 0.9948763436551625, 0.9846527075283742, 0.9849153193711464, 0.965828876908095, 0.9652819981339551, 0.9867110954215855, 0.9894566295263111, 0.9669229847371875, 0.9889299489524487, 0.980480170095883, 0.9928347432229171, 0.9544007026912311, 0.9950135405163412, 0.9765062762838871, 0.9802808787229884, 0.9926204374590569, 0.9667038038122591, 0.9761515334251508, 0.9953059633596143, 0.9843512611630446, 0.996788648470224, 0.975301691866056, 0.9768159843450087, 0.9852508888161952, 0.9687451566926419, 0.9820500724128844, 0.9796757635991183, 0.9961457327909734, 0.05409114432077037, 0.9411859111814045, 0.9768536440447326, 0.9934853365253857, 0.9800153869324567, 0.9678829868413666, 0.9869864811098888, 0.950519035995096, 0.9726936010483787, 0.9853251560082131, 0.992812602910888, 0.9952264417210461, 0.9079972772944573, 0.9836842369318414, 0.9939376694733393, 0.995106003962177, 0.9758252499944375, 0.9782784241479046, 0.982933405543831, 0.9772635780558467, 0.9675000569730635, 0.9897141949296147, 0.9869146407346429, 0.9919559209353097, 0.9029505302190758, 0.9450289581259185, 0.9968897185048284, 0.9834372264827744, 0.9959934964320458, 0.9874699423486765, 0.9902321880591257, 0.9883687700146203, 0.9842074217466101, 0.9977131145940167, 0.9952618340727134, 0.9524503541505658, 0.9681171592613945, 0.9926373330441407, 0.9923178951058419, 0.9788963241625919, 0.9568370091712797, 0.9937260543799926, 0.9541096590083729, 0.9695923909421463, 0.9962577046482399, 0.9751360503091467, 0.998943048351308, 0.9835542677107466, 0.9692075666647826, 0.9741038386807326, 0.9491260344242768, 0.9968784123127808, 0.9866591994486469], \"Term\": [\"above\", \"address\", \"answer\", \"array\", \"ask\", \"attribute\", \"bit\", \"byte\", \"callback\", \"case\", \"character\", \"class\", \"clear\", \"column\", \"consider\", \"control\", \"date\", \"datum\", \"declare\", \"default\", \"directory\", \"element\", \"encoding\", \"error\", \"exactly\", \"exception\", \"exist\", \"expect\", \"fully\", \"function\", \"global\", \"go\", \"implementation\", \"important\", \"index\", \"input\", \"issue\", \"item\", \"just\", \"know\", \"know\", \"language\", \"look\", \"loop\", \"lot\", \"map\", \"match\", \"message\", \"much\", \"name\", \"need\", \"node\", \"null\", \"object\", \"only\", \"op\", \"order\", \"part\", \"particular\", \"place\", \"possible\", \"probably\", \"provide\", \"put\", \"query\", \"question\", \"rather\", \"read\", \"result\", \"right\", \"run\", \"set\", \"so\", \"solution\", \"solve\", \"source\", \"suggest\", \"sure\", \"syntax\", \"system\", \"thing\", \"throw\", \"turn\", \"type\", \"understand\", \"use\", \"user\", \"usually\", \"version\", \"warning\", \"work\", \"wrong\"]}, \"R\": 9, \"lambda.step\": 0.01, \"plot.opts\": {\"xlab\": \"PC1\", \"ylab\": \"PC2\"}, \"topic.order\": [4, 9, 10, 3, 7, 6, 1, 2, 5, 8]};\n",
              "\n",
              "function LDAvis_load_lib(url, callback){\n",
              "  var s = document.createElement('script');\n",
              "  s.src = url;\n",
              "  s.async = true;\n",
              "  s.onreadystatechange = s.onload = callback;\n",
              "  s.onerror = function(){console.warn(\"failed to load library \" + url);};\n",
              "  document.getElementsByTagName(\"head\")[0].appendChild(s);\n",
              "}\n",
              "\n",
              "if(typeof(LDAvis) !== \"undefined\"){\n",
              "   // already loaded: just create the visualization\n",
              "   !function(LDAvis){\n",
              "       new LDAvis(\"#\" + \"ldavis_el2081400520239271683499207274\", ldavis_el2081400520239271683499207274_data);\n",
              "   }(LDAvis);\n",
              "}else if(typeof define === \"function\" && define.amd){\n",
              "   // require.js is available: use it to load d3/LDAvis\n",
              "   require.config({paths: {d3: \"https://d3js.org/d3.v5\"}});\n",
              "   require([\"d3\"], function(d3){\n",
              "      window.d3 = d3;\n",
              "      LDAvis_load_lib(\"https://cdn.jsdelivr.net/gh/bmabey/pyLDAvis@3.4.0/pyLDAvis/js/ldavis.v3.0.0.js\", function(){\n",
              "        new LDAvis(\"#\" + \"ldavis_el2081400520239271683499207274\", ldavis_el2081400520239271683499207274_data);\n",
              "      });\n",
              "    });\n",
              "}else{\n",
              "    // require.js not available: dynamically load d3 & LDAvis\n",
              "    LDAvis_load_lib(\"https://d3js.org/d3.v5.js\", function(){\n",
              "         LDAvis_load_lib(\"https://cdn.jsdelivr.net/gh/bmabey/pyLDAvis@3.4.0/pyLDAvis/js/ldavis.v3.0.0.js\", function(){\n",
              "                 new LDAvis(\"#\" + \"ldavis_el2081400520239271683499207274\", ldavis_el2081400520239271683499207274_data);\n",
              "            })\n",
              "         });\n",
              "}\n",
              "</script>"
            ]
          },
          "metadata": {},
          "execution_count": 50
        }
      ]
    },
    {
      "cell_type": "code",
      "source": [
        "print('\\nPerplexity: ', lda.log_perplexity(corpus,total_docs=10000))  # a measure of how good the model is. lower the better.\n",
        "\n",
        "# Compute Coherence Score\n",
        "coherence_model_lda = CoherenceModel(model=lda, texts=data_words, dictionary=id2word, coherence='c_v')\n",
        "coherence_lda = coherence_model_lda.get_coherence()\n",
        "print('\\nCoherence Score: ', coherence_lda)"
      ],
      "metadata": {
        "colab": {
          "base_uri": "https://localhost:8080/"
        },
        "id": "Xj0X43-NwLD7",
        "outputId": "0b366aaa-b35d-4121-a0ef-315df3c1d38b"
      },
      "execution_count": 51,
      "outputs": [
        {
          "output_type": "stream",
          "name": "stdout",
          "text": [
            "\n",
            "Perplexity:  -7.901759292432699\n",
            "\n",
            "Coherence Score:  0.44282680540734115\n"
          ]
        }
      ]
    }
  ]
}